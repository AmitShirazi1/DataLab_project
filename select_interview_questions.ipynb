{
 "cells": [
  {
   "cell_type": "code",
   "execution_count": 0,
   "metadata": {
    "application/vnd.databricks.v1+cell": {
     "cellMetadata": {
      "byteLimit": 2048000,
      "rowLimit": 10000
     },
     "inputWidgets": {},
     "nuid": "394de329-f692-4305-bd5a-3b9699e37a23",
     "showTitle": false,
     "tableResultSettingsMap": {},
     "title": ""
    }
   },
   "outputs": [],
   "source": [
    "from pyspark.sql import SparkSession\n",
    "from pyspark.sql.functions import col, udf\n",
    "from pyspark.sql.types import ArrayType, FloatType, StructType, StructField, StringType\n",
    "from scipy.spatial.distance import cosine\n",
    "import numpy as np\n",
    "import os\n",
    "from consts import QUESTIONS_PATH, JOBS_PATH, open_csv_file\n",
    "\n",
    "# Initialize Spark session\n",
    "spark = SparkSession.builder.appName(\"InterviewQuestionSelector\").getOrCreate()\n",
    "os.environ[\"TOKENIZERS_PARALLELISM\"] = \"false\""
   ]
  },
  {
   "cell_type": "code",
   "execution_count": 0,
   "metadata": {
    "application/vnd.databricks.v1+cell": {
     "cellMetadata": {
      "byteLimit": 2048000,
      "rowLimit": 10000
     },
     "inputWidgets": {},
     "nuid": "4d44fb8d-1589-45c0-91aa-f6b4f938aa76",
     "showTitle": false,
     "tableResultSettingsMap": {},
     "title": ""
    }
   },
   "outputs": [],
   "source": [
    "# Load datasets into Spark DataFrames\n",
    "job_postings = open_csv_file(spark, JOBS_PATH, 'all_jobpostings.csv')\n",
    "code_questions = open_csv_file(spark, QUESTIONS_PATH, 'all_code_problems_with_solutions.csv')\n",
    "open_questions = open_csv_file(spark, QUESTIONS_PATH, 'all_open_questions.csv')\n",
    "\n",
    "# Preprocessing function to handle missing values and ensure string type\n",
    "def preprocess_column_spark(df, column):\n",
    "    df = df.withColumn(column, col(column).cast(\"string\"))\n",
    "    df = df.fillna({column: \"\"})\n",
    "    return df\n",
    "\n",
    "# Preprocess columns in the datasets\n",
    "job_postings = preprocess_column_spark(job_postings, 'job_summary')\n",
    "code_questions = preprocess_column_spark(code_questions, 'topics')\n",
    "open_questions = preprocess_column_spark(open_questions, 'question')"
   ]
  },
  {
   "cell_type": "code",
   "execution_count": 0,
   "metadata": {
    "application/vnd.databricks.v1+cell": {
     "cellMetadata": {
      "byteLimit": 2048000,
      "rowLimit": 10000
     },
     "inputWidgets": {},
     "nuid": "cfc13445-76e1-4bcc-afc5-493325c68c2c",
     "showTitle": false,
     "tableResultSettingsMap": {},
     "title": ""
    }
   },
   "outputs": [],
   "source": [
    "pip install -q -U google-generativeai"
   ]
  },
  {
   "cell_type": "markdown",
   "metadata": {
    "application/vnd.databricks.v1+cell": {
     "cellMetadata": {},
     "inputWidgets": {},
     "nuid": "abf8e5b7-73d4-4954-b0bb-3e71f267e372",
     "showTitle": false,
     "tableResultSettingsMap": {},
     "title": ""
    }
   },
   "source": [
    "## Job postings: filling in missing skills"
   ]
  },
  {
   "cell_type": "code",
   "execution_count": 0,
   "metadata": {
    "application/vnd.databricks.v1+cell": {
     "cellMetadata": {
      "byteLimit": 2048000,
      "rowLimit": 10000
     },
     "inputWidgets": {},
     "nuid": "0f2d6fd1-63dd-4be6-a6c3-29e493bbb833",
     "showTitle": false,
     "tableResultSettingsMap": {},
     "title": ""
    }
   },
   "outputs": [],
   "source": [
    "from pyspark.sql.functions import udf, concat_ws\n",
    "from pyspark.sql.types import ArrayType, StringType\n",
    "import ast\n",
    "\n",
    "# Define a UDF to safely parse the string to a list\n",
    "def parse_skills(skills_str):\n",
    "    try:\n",
    "        return ast.literal_eval(skills_str)\n",
    "    except (ValueError, SyntaxError):\n",
    "        return []\n",
    "\n",
    "parse_skills_udf = udf(parse_skills, ArrayType(StringType()))\n",
    "\n",
    "# Apply the UDF to create a proper list column\n",
    "job_postings = job_postings.withColumn(\"skills_list\", parse_skills_udf(\"skills\"))\n",
    "\n",
    "# Convert the skills list to a single string\n",
    "job_postings = job_postings.withColumn(\"skills_string\", concat_ws(\", \", \"skills_list\")) \\\n",
    "    .drop(\"skills\", \"skills_list\").withColumnRenamed(\"skills_string\", \"skills\")"
   ]
  },
  {
   "cell_type": "code",
   "execution_count": 0,
   "metadata": {
    "application/vnd.databricks.v1+cell": {
     "cellMetadata": {
      "byteLimit": 2048000,
      "rowLimit": 10000
     },
     "inputWidgets": {},
     "nuid": "bca912ba-e9dc-437b-b98f-8dda92e45c71",
     "showTitle": false,
     "tableResultSettingsMap": {},
     "title": ""
    }
   },
   "outputs": [
    {
     "name": "stdout",
     "output_type": "stream",
     "text": [
      "9551\n"
     ]
    }
   ],
   "source": [
    "import pandas as pd\n",
    "\n",
    "# Convert dataset to pandas\n",
    "job_postings_pandas = job_postings.toPandas()\n",
    "empty_skills_count = job_postings_pandas[job_postings_pandas['skills'] == ''].shape[0]\n",
    "print(empty_skills_count)"
   ]
  },
  {
   "cell_type": "code",
   "execution_count": 0,
   "metadata": {
    "application/vnd.databricks.v1+cell": {
     "cellMetadata": {
      "byteLimit": 2048000,
      "rowLimit": 10000
     },
     "inputWidgets": {},
     "nuid": "ab2be925-b4c9-416f-be09-2b0cc399a896",
     "showTitle": false,
     "tableResultSettingsMap": {},
     "title": ""
    }
   },
   "outputs": [],
   "source": [
    "import google.generativeai as genai\n",
    "import os\n",
    "import time\n",
    "from api_keys import API_KEYS\n",
    "\n",
    "def infer_skills(job_summary):\n",
    "    \"\"\"\n",
    "    Extracts skills from a job description using the Gemini model.\n",
    "\n",
    "    Args:\n",
    "        job_summary: The job description text.\n",
    "\n",
    "    Returns:\n",
    "        A comma-separated string of skills extracted from the job description.\n",
    "    \"\"\"\n",
    "\n",
    "    if pd.isna(job_summary) or str(job_summary).strip() == '':\n",
    "        return ''\n",
    "\n",
    "    prompt = f\"Infer a comma-separated list of skills required for the following job description:\\n{job_summary}\"\n",
    "\n",
    "    try:\n",
    "        response = model.generate_content(prompt)\n",
    "        return response.text.strip()\n",
    "    except Exception as e:\n",
    "        return ''\n",
    "    \n",
    "start_time = time.time()\n",
    "running_time = 0\n",
    "empty_skills_rows = job_postings_pandas[(job_postings_pandas['skills'] == '') & (job_postings_pandas['job_summary'].str.strip() != '')]\n",
    "\n",
    "while (running_time < 3600) and (empty_skills_rows.shape[0] > 0):\n",
    "    for api_key in API_KEYS.values():\n",
    "        # Configure Gemini API\n",
    "        os.environ['GOOGLE_API_KEY'] = api_key\n",
    "        genai.configure(api_key=os.environ['GOOGLE_API_KEY'])\n",
    "        model = genai.GenerativeModel('gemini-1.5-flash')\n",
    "\n",
    "        # Filter the rows where the \"skills\" column is empty\n",
    "        empty_skills_rows = job_postings_pandas[(job_postings_pandas['skills'] == '') & (job_postings_pandas['job_summary'].str.strip() != '')]\n",
    "        if empty_skills_rows.shape[0] == 0:\n",
    "            break\n",
    "\n",
    "        # Get the indices of the first 15 rows with empty \"skills\"\n",
    "        indices_to_update = empty_skills_rows.index[:15]\n",
    "\n",
    "        # Apply the UDF only to the selected rows\n",
    "        job_postings_pandas.loc[indices_to_update, 'skills'] = (\n",
    "            job_postings_pandas.loc[indices_to_update, 'job_summary']\n",
    "                .apply(infer_skills)\n",
    "        )\n",
    "    running_time = time.time() - start_time"
   ]
  },
  {
   "cell_type": "code",
   "execution_count": 0,
   "metadata": {
    "application/vnd.databricks.v1+cell": {
     "cellMetadata": {
      "byteLimit": 2048000,
      "rowLimit": 10000
     },
     "inputWidgets": {},
     "nuid": "755bb41f-5557-4f25-b216-8fc716df3036",
     "showTitle": false,
     "tableResultSettingsMap": {},
     "title": ""
    }
   },
   "outputs": [
    {
     "name": "stdout",
     "output_type": "stream",
     "text": [
      "empty strings: 631\n",
      "empty job summaries: 631\n"
     ]
    }
   ],
   "source": [
    "job_postings_pandas['skills'] = job_postings_pandas['skills'].fillna('')\n",
    "empty_skills_count = job_postings_pandas[job_postings_pandas['skills'] == ''].shape[0]\n",
    "job_postings_pandas['job_summary'] = job_postings_pandas['job_summary'].fillna('')\n",
    "empty_job_summaries = job_postings_pandas[job_postings_pandas['job_summary'].str.strip() == ''].shape[0]\n",
    "print(\"empty strings:\", empty_skills_count)\n",
    "print(\"empty job summaries:\", empty_job_summaries)"
   ]
  },
  {
   "cell_type": "code",
   "execution_count": 0,
   "metadata": {
    "application/vnd.databricks.v1+cell": {
     "cellMetadata": {
      "byteLimit": 2048000,
      "rowLimit": 10000
     },
     "inputWidgets": {},
     "nuid": "a61677e9-008e-451e-8ed0-fdab1fa772ae",
     "showTitle": false,
     "tableResultSettingsMap": {},
     "title": ""
    }
   },
   "outputs": [],
   "source": [
    "from consts import JOBS_PATH\n",
    "import os\n",
    "\n",
    "job_postings_with_skills = spark.createDataFrame(job_postings_pandas)\n",
    "job_postings_pandas.to_csv(os.path.join(JOBS_PATH, 'all_jobpostings_with_skills.csv'), index=False)"
   ]
  },
  {
   "cell_type": "markdown",
   "metadata": {
    "application/vnd.databricks.v1+cell": {
     "cellMetadata": {},
     "inputWidgets": {},
     "nuid": "e11bee5d-82b6-424f-8737-c74d0dcf6ad5",
     "showTitle": false,
     "tableResultSettingsMap": {},
     "title": ""
    }
   },
   "source": [
    "## Code questions: filling in missing topics"
   ]
  },
  {
   "cell_type": "code",
   "execution_count": 0,
   "metadata": {
    "application/vnd.databricks.v1+cell": {
     "cellMetadata": {
      "byteLimit": 2048000,
      "rowLimit": 10000
     },
     "inputWidgets": {},
     "nuid": "ebe35cd7-4c71-4f9d-8a6c-d8797b288514",
     "showTitle": false,
     "tableResultSettingsMap": {},
     "title": ""
    }
   },
   "outputs": [],
   "source": [
    "from pyspark.sql.functions import regexp_replace, concat_ws, split, col, expr\n",
    "\n",
    "# Format the topics column to be a string containing comma-separated topics.\n",
    "code_questions = code_questions.withColumn(\"topics_array\", split(col(\"topics\"), \", \")) \\\n",
    "    .withColumn(\"topics_array_cleaned\", expr(\"transform(topics_array, x -> regexp_replace(x, \\\"'\\\", \\\"\\\"))\")) \\\n",
    "    .withColumn(\"topics_formatted\", concat_ws(\", \", col(\"topics_array_cleaned\"))) \\\n",
    "    .drop(\"topics_array\", \"topics_array_cleaned\", \"topics\").withColumnRenamed(\"topics_formatted\", \"topics\")\n",
    "\n",
    "code_questions_pandas = code_questions.toPandas()"
   ]
  },
  {
   "cell_type": "code",
   "execution_count": 0,
   "metadata": {
    "application/vnd.databricks.v1+cell": {
     "cellMetadata": {
      "byteLimit": 2048000,
      "rowLimit": 10000
     },
     "inputWidgets": {},
     "nuid": "48438f18-9fd5-4e2c-9cf9-7961b837135b",
     "showTitle": false,
     "tableResultSettingsMap": {},
     "title": ""
    }
   },
   "outputs": [],
   "source": [
    "import google.generativeai as genai\n",
    "import os\n",
    "import time\n",
    "from api_keys import API_KEYS\n",
    "\n",
    "def extract_topics_from_question(question):\n",
    "   if pd.isna(question) or question.strip() == '':\n",
    "       return ''\n",
    "   \n",
    "   prompt = f\"Analyze the following question and identify the specific skills being tested or evaluated. Return the skills as a comma-separated list of skills. If the question does not test any skills, return an empty string. Question: {question}\"\n",
    "   \n",
    "   try:\n",
    "       response = model.generate_content(prompt)\n",
    "       skills = response.text.strip()\n",
    "       return skills if skills else ''\n",
    "   except Exception as e:\n",
    "       return ''\n",
    "   \n",
    "\n",
    "start_time = time.time()\n",
    "running_time = 0\n",
    "empty_topics_rows = code_questions_pandas[(code_questions_pandas['topics'] == '') & (code_questions_pandas['question'].str.strip() != '')]\n",
    "\n",
    "while (running_time < 900) and (empty_topics_rows.shape[0] > 0):\n",
    "    for api_key in API_KEYS.values():\n",
    "        # Configure Gemini API\n",
    "        os.environ['GOOGLE_API_KEY'] = api_key\n",
    "        genai.configure(api_key=os.environ['GOOGLE_API_KEY'])\n",
    "        model = genai.GenerativeModel('gemini-1.5-flash')\n",
    "\n",
    "        # Filter the rows where the \"topics\" column is empty\n",
    "        empty_topics_rows = code_questions_pandas[(code_questions_pandas['topics'] == '') & (code_questions_pandas['question'].str.strip() != '')]\n",
    "        if empty_topics_rows.shape[0] == 0:\n",
    "            break\n",
    "\n",
    "        # Get the indices of the first 15 rows with empty \"topics\"\n",
    "        indices_to_update = empty_topics_rows.index[:15]\n",
    "\n",
    "        # Apply the UDF only to the selected rows\n",
    "        code_questions_pandas.loc[indices_to_update, 'topics'] = (\n",
    "            code_questions_pandas.loc[indices_to_update, 'question']\n",
    "                .apply(extract_topics_from_question)\n",
    "        )\n",
    "    running_time = time.time() - start_time"
   ]
  },
  {
   "cell_type": "code",
   "execution_count": 0,
   "metadata": {
    "application/vnd.databricks.v1+cell": {
     "cellMetadata": {
      "byteLimit": 2048000,
      "rowLimit": 10000
     },
     "inputWidgets": {},
     "nuid": "04cb0e2e-8da8-43db-8407-531143935770",
     "showTitle": false,
     "tableResultSettingsMap": {},
     "title": ""
    }
   },
   "outputs": [
    {
     "name": "stdout",
     "output_type": "stream",
     "text": [
      "nulls: 0\n",
      "empty strings: 0\n",
      "empty questions: 0\n"
     ]
    }
   ],
   "source": [
    "empty_topics_count = code_questions_pandas[code_questions_pandas['topics'].isna()].shape[0]\n",
    "print(\"nulls:\", empty_topics_count)\n",
    "code_questions_pandas['topics'] = code_questions_pandas['topics'].fillna('')\n",
    "empty_topics_count = code_questions_pandas[code_questions_pandas['topics'] == ''].shape[0]\n",
    "code_questions_pandas['question'] = code_questions_pandas['question'].fillna('')\n",
    "empty_questions = code_questions_pandas[code_questions_pandas['question'].str.strip() == ''].shape[0]\n",
    "print(\"empty strings:\", empty_topics_count)\n",
    "print(\"empty questions:\", empty_questions)"
   ]
  },
  {
   "cell_type": "code",
   "execution_count": 0,
   "metadata": {
    "application/vnd.databricks.v1+cell": {
     "cellMetadata": {
      "byteLimit": 2048000,
      "rowLimit": 10000
     },
     "inputWidgets": {},
     "nuid": "d376651f-53ec-42dc-ac16-71e23cefb3da",
     "showTitle": false,
     "tableResultSettingsMap": {},
     "title": ""
    }
   },
   "outputs": [],
   "source": [
    "from consts import QUESTIONS_PATH\n",
    "import os\n",
    "\n",
    "code_questions_with_topics = spark.createDataFrame(code_questions_pandas)\n",
    "code_questions_pandas.to_csv(os.path.join(QUESTIONS_PATH, 'all_code_questions_with_topics.csv'), index=False)"
   ]
  },
  {
   "cell_type": "code",
   "execution_count": null,
   "metadata": {
    "application/vnd.databricks.v1+cell": {
     "cellMetadata": {
      "byteLimit": 2048000,
      "rowLimit": 10000
     },
     "inputWidgets": {},
     "nuid": "1c8085bc-a827-4b4a-bd7c-14c6b2a86f1a",
     "showTitle": false,
     "tableResultSettingsMap": {},
     "title": ""
    }
   },
   "outputs": [
    {
     "data": {
      "text/html": [
       "<div>\n",
       "<style scoped>\n",
       "    .dataframe tbody tr th:only-of-type {\n",
       "        vertical-align: middle;\n",
       "    }\n",
       "\n",
       "    .dataframe tbody tr th {\n",
       "        vertical-align: top;\n",
       "    }\n",
       "\n",
       "    .dataframe thead th {\n",
       "        text-align: right;\n",
       "    }\n",
       "</style>\n",
       "<table border=\"1\" class=\"dataframe\">\n",
       "  <thead>\n",
       "    <tr style=\"text-align: right;\">\n",
       "      <th></th>\n",
       "      <th>formatted_title</th>\n",
       "      <th>difficulty</th>\n",
       "      <th>question_id</th>\n",
       "      <th>question</th>\n",
       "      <th>similar_questions</th>\n",
       "      <th>no_similar_questions</th>\n",
       "      <th>acceptance</th>\n",
       "      <th>solution_URL</th>\n",
       "      <th>solution</th>\n",
       "      <th>topics</th>\n",
       "    </tr>\n",
       "  </thead>\n",
       "  <tbody>\n",
       "    <tr>\n",
       "      <th>0</th>\n",
       "      <td>longest-substring-without-repeating-characters</td>\n",
       "      <td>Medium</td>\n",
       "      <td>3</td>\n",
       "      <td>Given a string s, find the length of the longe...</td>\n",
       "      <td>[\"'Longest Substring with At Most Two Distinct...</td>\n",
       "      <td>9.0</td>\n",
       "      <td>34.1</td>\n",
       "      <td>https://leetcode.com/problems/longest-substrin...</td>\n",
       "      <td>NaN</td>\n",
       "      <td>Hash Table, String, Sliding Window</td>\n",
       "    </tr>\n",
       "    <tr>\n",
       "      <th>1</th>\n",
       "      <td>median-of-two-sorted-arrays</td>\n",
       "      <td>Hard</td>\n",
       "      <td>4</td>\n",
       "      <td>Given two sorted arrays nums1 and nums2 of siz...</td>\n",
       "      <td>NaN</td>\n",
       "      <td>NaN</td>\n",
       "      <td>NaN</td>\n",
       "      <td>NaN</td>\n",
       "      <td>NaN</td>\n",
       "      <td>Algorithm design,Time complexity analysis,Bina...</td>\n",
       "    </tr>\n",
       "    <tr>\n",
       "      <th>2</th>\n",
       "      <td>longest-palindromic-substring</td>\n",
       "      <td>Medium</td>\n",
       "      <td>5</td>\n",
       "      <td>Given a string s, return the longest palindrom...</td>\n",
       "      <td>[\"'Shortest Palindrome'\", \"'Palindrome Permuta...</td>\n",
       "      <td>6.0</td>\n",
       "      <td>33.2</td>\n",
       "      <td>https://leetcode.com/problems/longest-palindro...</td>\n",
       "      <td>package com.fishercoder.solutions.firstthousan...</td>\n",
       "      <td>String, Dynamic Programming</td>\n",
       "    </tr>\n",
       "    <tr>\n",
       "      <th>3</th>\n",
       "      <td>reverse-integer</td>\n",
       "      <td>Medium</td>\n",
       "      <td>7</td>\n",
       "      <td>Given a signed 32-bit integer x , return x wit...</td>\n",
       "      <td>NaN</td>\n",
       "      <td>NaN</td>\n",
       "      <td>NaN</td>\n",
       "      <td>NaN</td>\n",
       "      <td>NaN</td>\n",
       "      <td>Mathematical skills, Programming skills, Algor...</td>\n",
       "    </tr>\n",
       "    <tr>\n",
       "      <th>4</th>\n",
       "      <td>reverse-integer</td>\n",
       "      <td>Medium</td>\n",
       "      <td>7</td>\n",
       "      <td>Given a signed 32-bit integer x, return x with...</td>\n",
       "      <td>[\"'String to Integer (atoi)'\", \"'Reverse Bits'...</td>\n",
       "      <td>4.0</td>\n",
       "      <td>27.9</td>\n",
       "      <td>https://leetcode.com/problems/reverse-integer/...</td>\n",
       "      <td>NaN</td>\n",
       "      <td>Math</td>\n",
       "    </tr>\n",
       "    <tr>\n",
       "      <th>...</th>\n",
       "      <td>...</td>\n",
       "      <td>...</td>\n",
       "      <td>...</td>\n",
       "      <td>...</td>\n",
       "      <td>...</td>\n",
       "      <td>...</td>\n",
       "      <td>...</td>\n",
       "      <td>...</td>\n",
       "      <td>...</td>\n",
       "      <td>...</td>\n",
       "    </tr>\n",
       "    <tr>\n",
       "      <th>65</th>\n",
       "      <td>maximum-depth-of-binary-tree</td>\n",
       "      <td>Easy</td>\n",
       "      <td>104</td>\n",
       "      <td>Given the root of a binary tree, return its ma...</td>\n",
       "      <td>[\"'Balanced Binary Tree'\", \"'Minimum Depth of ...</td>\n",
       "      <td>6.0</td>\n",
       "      <td>74.6</td>\n",
       "      <td>https://leetcode.com/problems/maximum-depth-of...</td>\n",
       "      <td>package com.fishercoder.solutions.firstthousan...</td>\n",
       "      <td>Tree, Depth-First Search, Breadth-First Search...</td>\n",
       "    </tr>\n",
       "    <tr>\n",
       "      <th>66</th>\n",
       "      <td>construct-binary-tree-from-preorder-and-inorde...</td>\n",
       "      <td>Medium</td>\n",
       "      <td>105</td>\n",
       "      <td>Given two integer arrays preorder and inorder ...</td>\n",
       "      <td>NaN</td>\n",
       "      <td>NaN</td>\n",
       "      <td>NaN</td>\n",
       "      <td>NaN</td>\n",
       "      <td>package com.fishercoder.solutions.firstthousan...</td>\n",
       "      <td>Tree construction, recursion, array manipulati...</td>\n",
       "    </tr>\n",
       "    <tr>\n",
       "      <th>67</th>\n",
       "      <td>convert-sorted-array-to-binary-search-tree</td>\n",
       "      <td>Easy</td>\n",
       "      <td>108</td>\n",
       "      <td>Given an integer array nums where the elements...</td>\n",
       "      <td>[\"'Convert Sorted List to Binary Search Tree'\"]</td>\n",
       "      <td>1.0</td>\n",
       "      <td>70.8</td>\n",
       "      <td>https://leetcode.com/problems/convert-sorted-a...</td>\n",
       "      <td>NaN</td>\n",
       "      <td>Array, Divide and Conquer, Tree, Binary Search...</td>\n",
       "    </tr>\n",
       "    <tr>\n",
       "      <th>68</th>\n",
       "      <td>path-sum-ii</td>\n",
       "      <td>Medium</td>\n",
       "      <td>113</td>\n",
       "      <td>Given the root of a binary tree and an integer...</td>\n",
       "      <td>NaN</td>\n",
       "      <td>NaN</td>\n",
       "      <td>NaN</td>\n",
       "      <td>NaN</td>\n",
       "      <td>package com.fishercoder.solutions.firstthousan...</td>\n",
       "      <td>Tree traversal,Depth-First Search,Recursion,Pr...</td>\n",
       "    </tr>\n",
       "    <tr>\n",
       "      <th>69</th>\n",
       "      <td>path-sum-ii</td>\n",
       "      <td>Medium</td>\n",
       "      <td>113</td>\n",
       "      <td>Given the root of a binary tree and an integer...</td>\n",
       "      <td>[\"'Path Sum'\", \"'Binary Tree Paths'\", \"'Path S...</td>\n",
       "      <td>5.0</td>\n",
       "      <td>57.8</td>\n",
       "      <td>https://leetcode.com/problems/path-sum-ii/solu...</td>\n",
       "      <td>package com.fishercoder.solutions.firstthousan...</td>\n",
       "      <td>Backtracking, Tree, Depth-First Search, Binary...</td>\n",
       "    </tr>\n",
       "  </tbody>\n",
       "</table>\n",
       "<p>70 rows × 10 columns</p>\n",
       "</div>"
      ],
      "text/plain": [
       "                                      formatted_title difficulty  question_id  \\\n",
       "0      longest-substring-without-repeating-characters     Medium            3   \n",
       "1                         median-of-two-sorted-arrays       Hard            4   \n",
       "2                       longest-palindromic-substring     Medium            5   \n",
       "3                                     reverse-integer     Medium            7   \n",
       "4                                     reverse-integer     Medium            7   \n",
       "..                                                ...        ...          ...   \n",
       "65                       maximum-depth-of-binary-tree       Easy          104   \n",
       "66  construct-binary-tree-from-preorder-and-inorde...     Medium          105   \n",
       "67         convert-sorted-array-to-binary-search-tree       Easy          108   \n",
       "68                                        path-sum-ii     Medium          113   \n",
       "69                                        path-sum-ii     Medium          113   \n",
       "\n",
       "                                             question  \\\n",
       "0   Given a string s, find the length of the longe...   \n",
       "1   Given two sorted arrays nums1 and nums2 of siz...   \n",
       "2   Given a string s, return the longest palindrom...   \n",
       "3   Given a signed 32-bit integer x , return x wit...   \n",
       "4   Given a signed 32-bit integer x, return x with...   \n",
       "..                                                ...   \n",
       "65  Given the root of a binary tree, return its ma...   \n",
       "66  Given two integer arrays preorder and inorder ...   \n",
       "67  Given an integer array nums where the elements...   \n",
       "68  Given the root of a binary tree and an integer...   \n",
       "69  Given the root of a binary tree and an integer...   \n",
       "\n",
       "                                    similar_questions  no_similar_questions  \\\n",
       "0   [\"'Longest Substring with At Most Two Distinct...                   9.0   \n",
       "1                                                 NaN                   NaN   \n",
       "2   [\"'Shortest Palindrome'\", \"'Palindrome Permuta...                   6.0   \n",
       "3                                                 NaN                   NaN   \n",
       "4   [\"'String to Integer (atoi)'\", \"'Reverse Bits'...                   4.0   \n",
       "..                                                ...                   ...   \n",
       "65  [\"'Balanced Binary Tree'\", \"'Minimum Depth of ...                   6.0   \n",
       "66                                                NaN                   NaN   \n",
       "67    [\"'Convert Sorted List to Binary Search Tree'\"]                   1.0   \n",
       "68                                                NaN                   NaN   \n",
       "69  [\"'Path Sum'\", \"'Binary Tree Paths'\", \"'Path S...                   5.0   \n",
       "\n",
       "    acceptance                                       solution_URL  \\\n",
       "0         34.1  https://leetcode.com/problems/longest-substrin...   \n",
       "1          NaN                                                NaN   \n",
       "2         33.2  https://leetcode.com/problems/longest-palindro...   \n",
       "3          NaN                                                NaN   \n",
       "4         27.9  https://leetcode.com/problems/reverse-integer/...   \n",
       "..         ...                                                ...   \n",
       "65        74.6  https://leetcode.com/problems/maximum-depth-of...   \n",
       "66         NaN                                                NaN   \n",
       "67        70.8  https://leetcode.com/problems/convert-sorted-a...   \n",
       "68         NaN                                                NaN   \n",
       "69        57.8  https://leetcode.com/problems/path-sum-ii/solu...   \n",
       "\n",
       "                                             solution  \\\n",
       "0                                                 NaN   \n",
       "1                                                 NaN   \n",
       "2   package com.fishercoder.solutions.firstthousan...   \n",
       "3                                                 NaN   \n",
       "4                                                 NaN   \n",
       "..                                                ...   \n",
       "65  package com.fishercoder.solutions.firstthousan...   \n",
       "66  package com.fishercoder.solutions.firstthousan...   \n",
       "67                                                NaN   \n",
       "68  package com.fishercoder.solutions.firstthousan...   \n",
       "69  package com.fishercoder.solutions.firstthousan...   \n",
       "\n",
       "                                               topics  \n",
       "0                  Hash Table, String, Sliding Window  \n",
       "1   Algorithm design,Time complexity analysis,Bina...  \n",
       "2                         String, Dynamic Programming  \n",
       "3   Mathematical skills, Programming skills, Algor...  \n",
       "4                                                Math  \n",
       "..                                                ...  \n",
       "65  Tree, Depth-First Search, Breadth-First Search...  \n",
       "66  Tree construction, recursion, array manipulati...  \n",
       "67  Array, Divide and Conquer, Tree, Binary Search...  \n",
       "68  Tree traversal,Depth-First Search,Recursion,Pr...  \n",
       "69  Backtracking, Tree, Depth-First Search, Binary...  \n",
       "\n",
       "[70 rows x 10 columns]"
      ]
     },
     "metadata": {},
     "output_type": "display_data"
    }
   ],
   "source": [
    "code_questions_with_topics.limit(70).display()"
   ]
  },
  {
   "cell_type": "markdown",
   "metadata": {
    "application/vnd.databricks.v1+cell": {
     "cellMetadata": {},
     "inputWidgets": {},
     "nuid": "be977699-545b-46f4-9770-5846f8884a40",
     "showTitle": false,
     "tableResultSettingsMap": {},
     "title": ""
    }
   },
   "source": [
    "## Open questions: filling in missing topics"
   ]
  },
  {
   "cell_type": "code",
   "execution_count": 0,
   "metadata": {
    "application/vnd.databricks.v1+cell": {
     "cellMetadata": {
      "byteLimit": 2048000,
      "rowLimit": 10000
     },
     "inputWidgets": {},
     "nuid": "cce33961-7366-49b8-ad1c-aaca6187fef3",
     "showTitle": false,
     "tableResultSettingsMap": {},
     "title": ""
    }
   },
   "outputs": [],
   "source": [
    "import pandas as pd\n",
    "\n",
    "# Convert dataset to pandas\n",
    "open_questions_pandas = open_questions.toPandas()\n",
    "open_questions_pandas['topics'] = ''"
   ]
  },
  {
   "cell_type": "code",
   "execution_count": 0,
   "metadata": {
    "application/vnd.databricks.v1+cell": {
     "cellMetadata": {
      "byteLimit": 2048000,
      "rowLimit": 10000
     },
     "inputWidgets": {},
     "nuid": "51902921-91e4-4b22-91f3-8e9518526738",
     "showTitle": true,
     "tableResultSettingsMap": {},
     "title": "Wait 1 minute before executing this code"
    }
   },
   "outputs": [],
   "source": [
    "import google.generativeai as genai\n",
    "import os\n",
    "from api_keys import API_KEYS\n",
    "   \n",
    "start_time = time.time()\n",
    "running_time = 0\n",
    "empty_topics_rows = open_questions_pandas[(open_questions_pandas['topics'] == '') & (open_questions_pandas['question'].str.strip() != '')]\n",
    "\n",
    "while (running_time < 900) and (empty_topics_rows.shape[0] > 0):\n",
    "    for api_key in API_KEYS.values():\n",
    "        # Configure Gemini API\n",
    "        os.environ['GOOGLE_API_KEY'] = api_key\n",
    "        genai.configure(api_key=os.environ['GOOGLE_API_KEY'])\n",
    "        model = genai.GenerativeModel('gemini-1.5-flash')\n",
    "\n",
    "        empty_topics_rows = open_questions_pandas[(open_questions_pandas['topics'] == '') & (open_questions_pandas['question'].str.strip() != '')]\n",
    "        if empty_topics_rows.shape[0] == 0:\n",
    "            break\n",
    "\n",
    "        # Get the indices of the first 15 rows with empty \"topics\"\n",
    "        indices_to_update = empty_topics_rows.index[:15]\n",
    "\n",
    "        # Apply the UDF only to the selected rows\n",
    "        open_questions_pandas.loc[indices_to_update, 'topics'] = (\n",
    "            open_questions_pandas.loc[indices_to_update, 'question']\n",
    "                .apply(extract_topics_from_question)\n",
    "        )\n",
    "    running_time = time.time() - start_time"
   ]
  },
  {
   "cell_type": "code",
   "execution_count": 0,
   "metadata": {
    "application/vnd.databricks.v1+cell": {
     "cellMetadata": {
      "byteLimit": 2048000,
      "rowLimit": 10000
     },
     "inputWidgets": {},
     "nuid": "31ed7f94-9a5b-4ce1-b31d-bda46b441b80",
     "showTitle": false,
     "tableResultSettingsMap": {},
     "title": ""
    }
   },
   "outputs": [
    {
     "name": "stdout",
     "output_type": "stream",
     "text": [
      "0\n"
     ]
    }
   ],
   "source": [
    "from consts import QUESTIONS_PATH\n",
    "import os\n",
    "\n",
    "open_questions_with_topics = spark.createDataFrame(open_questions_pandas)\n",
    "open_questions_pandas.to_csv(os.path.join(QUESTIONS_PATH, 'all_open_questions_with_topics.csv'), index=False)"
   ]
  },
  {
   "cell_type": "code",
   "execution_count": 5,
   "metadata": {
    "application/vnd.databricks.v1+cell": {
     "cellMetadata": {
      "byteLimit": 2048000,
      "rowLimit": 10000
     },
     "inputWidgets": {},
     "nuid": "987c6eb2-9188-4593-a66b-8d33a469e0cc",
     "showTitle": false,
     "tableResultSettingsMap": {},
     "title": ""
    }
   },
   "outputs": [
    {
     "data": {
      "text/html": [
       "<div>\n",
       "<style scoped>\n",
       "    .dataframe tbody tr th:only-of-type {\n",
       "        vertical-align: middle;\n",
       "    }\n",
       "\n",
       "    .dataframe tbody tr th {\n",
       "        vertical-align: top;\n",
       "    }\n",
       "\n",
       "    .dataframe thead th {\n",
       "        text-align: right;\n",
       "    }\n",
       "</style>\n",
       "<table border=\"1\" class=\"dataframe\">\n",
       "  <thead>\n",
       "    <tr style=\"text-align: right;\">\n",
       "      <th></th>\n",
       "      <th>question_id</th>\n",
       "      <th>question</th>\n",
       "      <th>category</th>\n",
       "      <th>topics</th>\n",
       "    </tr>\n",
       "  </thead>\n",
       "  <tbody>\n",
       "    <tr>\n",
       "      <th>0</th>\n",
       "      <td>112</td>\n",
       "      <td>What are your strengths?</td>\n",
       "      <td>General</td>\n",
       "      <td>Self-awareness, communication, self-promotion</td>\n",
       "    </tr>\n",
       "    <tr>\n",
       "      <th>1</th>\n",
       "      <td>113</td>\n",
       "      <td>What are your weaknesses?</td>\n",
       "      <td>General</td>\n",
       "      <td>Self-awareness, honesty, self-reflection, comm...</td>\n",
       "    </tr>\n",
       "    <tr>\n",
       "      <th>2</th>\n",
       "      <td>114</td>\n",
       "      <td>Why are you interested in working for [insert ...</td>\n",
       "      <td>General</td>\n",
       "      <td>Research skills, Communication skills, Persuas...</td>\n",
       "    </tr>\n",
       "    <tr>\n",
       "      <th>3</th>\n",
       "      <td>115</td>\n",
       "      <td>Where do you see yourself in five years? Ten y...</td>\n",
       "      <td>General</td>\n",
       "      <td>Career planning, foresight, self-awareness, lo...</td>\n",
       "    </tr>\n",
       "    <tr>\n",
       "      <th>4</th>\n",
       "      <td>116</td>\n",
       "      <td>Why do you want to leave your current company?</td>\n",
       "      <td>General</td>\n",
       "      <td>Communication skills, self-awareness, critical...</td>\n",
       "    </tr>\n",
       "    <tr>\n",
       "      <th>...</th>\n",
       "      <td>...</td>\n",
       "      <td>...</td>\n",
       "      <td>...</td>\n",
       "      <td>...</td>\n",
       "    </tr>\n",
       "    <tr>\n",
       "      <th>65</th>\n",
       "      <td>16</td>\n",
       "      <td>What makes CNNs translation invariant</td>\n",
       "      <td>Data Science</td>\n",
       "      <td>Understanding of Convolutional Neural Networks...</td>\n",
       "    </tr>\n",
       "    <tr>\n",
       "      <th>66</th>\n",
       "      <td>17</td>\n",
       "      <td>How is fastText different from wordvec</td>\n",
       "      <td>Data Science</td>\n",
       "      <td>Knowledge of word embeddings, understanding of...</td>\n",
       "    </tr>\n",
       "    <tr>\n",
       "      <th>67</th>\n",
       "      <td>18</td>\n",
       "      <td>Explain Generative Adversarial Network</td>\n",
       "      <td>Data Science</td>\n",
       "      <td>Knowledge of GANs,  Explanation skills,  Under...</td>\n",
       "    </tr>\n",
       "    <tr>\n",
       "      <th>68</th>\n",
       "      <td>19</td>\n",
       "      <td>What is backward and forward propagation</td>\n",
       "      <td>Data Science</td>\n",
       "      <td>Understanding of neural networks,Knowledge of ...</td>\n",
       "    </tr>\n",
       "    <tr>\n",
       "      <th>69</th>\n",
       "      <td>20</td>\n",
       "      <td>What are Syntactic and Semantic Analysis</td>\n",
       "      <td>Data Science</td>\n",
       "      <td>Knowledge of programming language concepts,Und...</td>\n",
       "    </tr>\n",
       "  </tbody>\n",
       "</table>\n",
       "<p>70 rows × 4 columns</p>\n",
       "</div>"
      ],
      "text/plain": [
       "    question_id                                           question  \\\n",
       "0           112                           What are your strengths?   \n",
       "1           113                          What are your weaknesses?   \n",
       "2           114  Why are you interested in working for [insert ...   \n",
       "3           115  Where do you see yourself in five years? Ten y...   \n",
       "4           116     Why do you want to leave your current company?   \n",
       "..          ...                                                ...   \n",
       "65           16              What makes CNNs translation invariant   \n",
       "66           17             How is fastText different from wordvec   \n",
       "67           18             Explain Generative Adversarial Network   \n",
       "68           19           What is backward and forward propagation   \n",
       "69           20           What are Syntactic and Semantic Analysis   \n",
       "\n",
       "        category                                             topics  \n",
       "0        General      Self-awareness, communication, self-promotion  \n",
       "1        General  Self-awareness, honesty, self-reflection, comm...  \n",
       "2        General  Research skills, Communication skills, Persuas...  \n",
       "3        General  Career planning, foresight, self-awareness, lo...  \n",
       "4        General  Communication skills, self-awareness, critical...  \n",
       "..           ...                                                ...  \n",
       "65  Data Science  Understanding of Convolutional Neural Networks...  \n",
       "66  Data Science  Knowledge of word embeddings, understanding of...  \n",
       "67  Data Science  Knowledge of GANs,  Explanation skills,  Under...  \n",
       "68  Data Science  Understanding of neural networks,Knowledge of ...  \n",
       "69  Data Science  Knowledge of programming language concepts,Und...  \n",
       "\n",
       "[70 rows x 4 columns]"
      ]
     },
     "metadata": {},
     "output_type": "display_data"
    }
   ],
   "source": [
    "\n",
    "open_questions_with_topics.limit(70).display()"
   ]
  },
  {
   "cell_type": "markdown",
   "metadata": {
    "application/vnd.databricks.v1+cell": {
     "cellMetadata": {},
     "inputWidgets": {},
     "nuid": "2fca2da7-7d30-457f-a931-0e343f47e921",
     "showTitle": false,
     "tableResultSettingsMap": {},
     "title": ""
    }
   },
   "source": [
    "# Demonstrating the model on 50 random jobs"
   ]
  },
  {
   "cell_type": "code",
   "execution_count": 0,
   "metadata": {
    "application/vnd.databricks.v1+cell": {
     "cellMetadata": {
      "byteLimit": 2048000,
      "rowLimit": 10000
     },
     "inputWidgets": {},
     "nuid": "2ebb6881-50f5-4a5b-8832-e993c5e9781e",
     "showTitle": false,
     "tableResultSettingsMap": {},
     "title": ""
    }
   },
   "outputs": [],
   "source": [
    "import pandas as pd\n",
    "import os\n",
    "from consts import JOBS_PATH, DATA_PATH\n",
    "\n",
    "# Load the CSV file\n",
    "jobs_data = pd.read_csv(os.path.join(JOBS_PATH, \"all_jobpostings_with_skills.csv\"))\n",
    "\n",
    "# Perform train-test split (e.g., 80-20 split)\n",
    "jobs_sample = jobs_data.sample(n=50, random_state=42)\n",
    "\n",
    "# Save the train and test sets to separate files\n",
    "jobs_sample.to_csv(os.path.join(JOBS_PATH, \"jobs_sample.csv\"), index=False)"
   ]
  },
  {
   "cell_type": "markdown",
   "metadata": {
    "application/vnd.databricks.v1+cell": {
     "cellMetadata": {},
     "inputWidgets": {},
     "nuid": "c0aaeee6-2bdf-4bba-8fe9-33572e9beb0d",
     "showTitle": false,
     "tableResultSettingsMap": {},
     "title": ""
    }
   },
   "source": [
    "## Topics & skills embeddings"
   ]
  },
  {
   "cell_type": "code",
   "execution_count": 0,
   "metadata": {
    "application/vnd.databricks.v1+cell": {
     "cellMetadata": {
      "byteLimit": 2048000,
      "rowLimit": 10000
     },
     "inputWidgets": {},
     "nuid": "c9407d24-c9ed-42e0-a418-5a846c6b99f6",
     "showTitle": false,
     "tableResultSettingsMap": {},
     "title": ""
    }
   },
   "outputs": [],
   "source": [
    "pip install sentence-transformers"
   ]
  },
  {
   "cell_type": "code",
   "execution_count": 0,
   "metadata": {
    "application/vnd.databricks.v1+cell": {
     "cellMetadata": {
      "byteLimit": 2048000,
      "rowLimit": 10000
     },
     "inputWidgets": {},
     "nuid": "b8dbde8e-7863-48d2-ada6-34f11c497249",
     "showTitle": false,
     "tableResultSettingsMap": {},
     "title": ""
    }
   },
   "outputs": [],
   "source": [
    "from pyspark.sql import SparkSession\n",
    "from pyspark.sql.functions import explode, split, col, lit, udf, array, broadcast\n",
    "from pyspark.sql.types import ArrayType, FloatType, DoubleType\n",
    "from sentence_transformers import SentenceTransformer\n",
    "from calculate_heuristic_score import calculate_score\n",
    "from consts import DATA_PATH, QUESTIONS_PATH, MID_CALC_PATH, open_csv_file\n",
    "\n",
    "jobs_sample = open_csv_file(spark, JOBS_PATH, \"jobs_sample.csv\")\n",
    "code_questions = open_csv_file(spark, QUESTIONS_PATH, \"all_code_questions_with_topics.csv\")\n",
    "open_questions = open_csv_file(spark, QUESTIONS_PATH, \"all_open_questions_with_topics.csv\")\n",
    "\n",
    "code_questions_exploded = code_questions.withColumn(\"topic\", explode(split(\"topics\", \",\")))\n",
    "open_questions_exploded = open_questions.withColumn(\"topic\", explode(split(\"topics\", \",\")))\n",
    "\n",
    "# Load the model globally\n",
    "model = SentenceTransformer('all-MiniLM-L6-v2')\n",
    "# UDF to generate embeddings\n",
    "@udf(ArrayType(FloatType()))\n",
    "def generate_embedding(text):\n",
    "    return model.encode(text).tolist()\n",
    "unique_topics_code = code_questions_exploded.select(\"topic\").distinct()\n",
    "unique_topics_open = open_questions_exploded.select(\"topic\").distinct()\n",
    "unique_topics_code = unique_topics_code.withColumn(\"topic_embedding\", generate_embedding(col(\"topic\")))\n",
    "unique_topics_open = unique_topics_open.withColumn(\"topic_embedding\", generate_embedding(col(\"topic\")))\n",
    "\n",
    "code_questions_exploded_df = code_questions_exploded.toPandas()\n",
    "open_questions_exploded_df = open_questions_exploded.toPandas()\n",
    "unique_topics_code_df = unique_topics_code.toPandas()\n",
    "unique_topics_open_df = unique_topics_open.toPandas()\n",
    "\n",
    "os.makedirs(MID_CALC_PATH, exist_ok=True)\n",
    "code_questions_exploded_df.to_csv(os.path.join(MID_CALC_PATH, \"code_questions_exploded.csv\"), index=False)\n",
    "open_questions_exploded_df.to_csv(os.path.join(MID_CALC_PATH, \"open_questions_exploded.csv\"), index=False)\n",
    "unique_topics_code_df.to_csv(os.path.join(MID_CALC_PATH, \"unique_topics_code.csv\"), index=False)\n",
    "unique_topics_open_df.to_csv(os.path.join(MID_CALC_PATH, \"unique_topics_open.csv\"), index=False)"
   ]
  },
  {
   "cell_type": "code",
   "execution_count": 0,
   "metadata": {
    "application/vnd.databricks.v1+cell": {
     "cellMetadata": {
      "byteLimit": 2048000,
      "rowLimit": 10000
     },
     "inputWidgets": {},
     "nuid": "48fd7542-b0b8-4e3e-a9f8-108c7dd6a25b",
     "showTitle": false,
     "tableResultSettingsMap": {},
     "title": ""
    }
   },
   "outputs": [],
   "source": [
    "from pyspark.sql.functions import rand\n",
    "from calculate_heuristic_score import calculate_score\n",
    "\n",
    "jobs_sample = open_csv_file(spark, JOBS_PATH, \"jobs_sample.csv\")\n",
    "code_scores, open_scores = calculate_score(jobs_sample, spark)"
   ]
  },
  {
   "cell_type": "code",
   "execution_count": 0,
   "metadata": {
    "application/vnd.databricks.v1+cell": {
     "cellMetadata": {
      "byteLimit": 2048000,
      "rowLimit": 10000
     },
     "inputWidgets": {},
     "nuid": "7bd7b53c-8742-4037-b707-4c68da8f5465",
     "showTitle": false,
     "tableResultSettingsMap": {},
     "title": ""
    }
   },
   "outputs": [
    {
     "data": {
      "text/html": [
       "<style scoped>\n",
       "  .table-result-container {\n",
       "    max-height: 300px;\n",
       "    overflow: auto;\n",
       "  }\n",
       "  table, th, td {\n",
       "    border: 1px solid black;\n",
       "    border-collapse: collapse;\n",
       "  }\n",
       "  th, td {\n",
       "    padding: 5px;\n",
       "  }\n",
       "  th {\n",
       "    text-align: left;\n",
       "  }\n",
       "</style><div class='table-result-container'><table class='table-result'><thead style='background-color: white'><tr><th>topics</th><th>skills</th><th>similarity</th></tr></thead><tbody><tr><td>Array, Two Pointers, Simulation</td><td>Linux System Administration, DevOps, Cloud Engineering, Automation,  Bash Scripting, SSH, Git,  Jenkins, Consul, Vault,  Networking, TCP/IP, DNS, HTTP, TLS, Web Security,  Troubleshooting,  Monitoring (Nagios, Cacti, Grafana, ELK), HAProxy, Kubernetes,  Infrastructure as Code (IaC), Configuration Management, CI/CD, Containerization, Virtualization, MySQL,  Backup and Restore,  Documentation,  Communication,  Problem-solving,  Software Updates,  High Availability (HA),  Security, CentOS, Ubuntu,  Python/other interpreted languages (Preferred),  Email Server Administration (Preferred)</td><td>0.15248226032126697</td></tr><tr><td>Array, Matrix, Simulation</td><td>Linux System Administration, DevOps, Cloud Engineering, Automation,  Bash Scripting, SSH, Git,  Jenkins, Consul, Vault,  Networking, TCP/IP, DNS, HTTP, TLS, Web Security,  Troubleshooting,  Monitoring (Nagios, Cacti, Grafana, ELK), HAProxy, Kubernetes,  Infrastructure as Code (IaC), Configuration Management, CI/CD, Containerization, Virtualization, MySQL,  Backup and Restore,  Documentation,  Communication,  Problem-solving,  Software Updates,  High Availability (HA),  Security, CentOS, Ubuntu,  Python/other interpreted languages (Preferred),  Email Server Administration (Preferred)</td><td>0.1581306618715947</td></tr><tr><td>String, Simulation</td><td>Linux System Administration, DevOps, Cloud Engineering, Automation,  Bash Scripting, SSH, Git,  Jenkins, Consul, Vault,  Networking, TCP/IP, DNS, HTTP, TLS, Web Security,  Troubleshooting,  Monitoring (Nagios, Cacti, Grafana, ELK), HAProxy, Kubernetes,  Infrastructure as Code (IaC), Configuration Management, CI/CD, Containerization, Virtualization, MySQL,  Backup and Restore,  Documentation,  Communication,  Problem-solving,  Software Updates,  High Availability (HA),  Security, CentOS, Ubuntu,  Python/other interpreted languages (Preferred),  Email Server Administration (Preferred)</td><td>0.16948369075544178</td></tr><tr><td>String manipulation, substring identification, iterative processing, algorithm design</td><td>Licensed Occupational Therapist, Physical Therapy Assistant license (preferred), Occupational Therapy Assistant certification (preferred)</td><td>0.039161902464305356</td></tr><tr><td>Array, Depth-First Search, Breadth-First Search, Union Find, Matrix</td><td>Agile methodologies, Scrum, Software Engineering, Computer Science, Electrical Engineering, REST API, JSON/XML, Open Source Technologies (NiFi, Kafka, Elastic Stack, Solr), CI/CD, Ansible, Jenkins, Git, Java, Docker, Kubernetes, JIRA, Confluence, Linux, Windows, Model Based Systems Engineering (MBSE), SecDevOps, User Interface Development, User Experience, Web Application Development, System Integration,  Software Design, Problem Solving,  Continuous Integration</td><td>0.11781683646502997</td></tr><tr><td>Tree, Depth-First Search, Binary Tree</td><td>Agile methodologies, Scrum, Software Engineering, Computer Science, Electrical Engineering, REST API, JSON/XML, Open Source Technologies (NiFi, Kafka, Elastic Stack, Solr), CI/CD, Ansible, Jenkins, Git, Java, Docker, Kubernetes, JIRA, Confluence, Linux, Windows, Model Based Systems Engineering (MBSE), SecDevOps, User Interface Development, User Experience, Web Application Development, System Integration,  Software Design, Problem Solving,  Continuous Integration</td><td>0.15469038346281616</td></tr><tr><td>Array, Hash Table, Tree, Depth-First Search, Breadth-First Search, Binary Tree</td><td>Agile methodologies, Scrum, Software Engineering, Computer Science, Electrical Engineering, REST API, JSON/XML, Open Source Technologies (NiFi, Kafka, Elastic Stack, Solr), CI/CD, Ansible, Jenkins, Git, Java, Docker, Kubernetes, JIRA, Confluence, Linux, Windows, Model Based Systems Engineering (MBSE), SecDevOps, User Interface Development, User Experience, Web Application Development, System Integration,  Software Design, Problem Solving,  Continuous Integration</td><td>0.13654423848555614</td></tr><tr><td>Array, Dynamic Programming</td><td>Evaluation, Implementation, Execution, On-premise support, Field work</td><td>0.2504414746537804</td></tr><tr><td>Array, Math, Greedy, Sorting</td><td>Evaluation, Implementation, Execution, On-premise support, Field work</td><td>0.22489051166921853</td></tr><tr><td>Hash Table, Binary Search, Design, Sorting, Ordered Set</td><td>Statistical methods, Causal inference, Data analysis, Data visualization, Data interpretation, SQL, Python, R, Project management, Data storytelling, Communication, Stakeholder management, Teamwork, Mentorship,  Product data analysis, Revenue data analysis</td><td>0.19055233490653337</td></tr><tr><td>String manipulation,String reversal,Index manipulation,Conditional logic,Algorithm implementation</td><td>Azure, Terraform, ARM templates, Azure DevOps, Python, PowerShell, Docker, Kubernetes, Agile, Scrum, DevSecOps, Configuration Management, Orchestration, Cloud Services (compute, storage, Key Vault, Azure PaaS), Failure Injection Testing, IAM (least privilege access, password management, audit logging, RBAC, certificate issuance and revocation),  Site Reliability Engineering,  Metrics collection, reporting and alerting,  Continuous Integration,  Horizontal and vertical scalability, Cloud native monitoring,  Excellent communication skills, Problem-solving.</td><td>0.08706169061122403</td></tr><tr><td>Hash Table, String</td><td>sales, business development, relationship building, creativity, organization, communication, problem solving, market research, liquid sugar knowledge, sugar refining knowledge, food science knowledge, chemical knowledge</td><td>0.13251424099629122</td></tr><tr><td>Hash Table, String, Trie, Sorting, Heap (Priority Queue), Bucket Sort, Counting</td><td>sales, business development, relationship building, creativity, organization, communication, problem solving, market research, liquid sugar knowledge, sugar refining knowledge, food science knowledge, chemical knowledge</td><td>0.12455767294436339</td></tr><tr><td>Array, Hash Table, String, Bit Manipulation</td><td>sales, business development, relationship building, creativity, organization, communication, problem solving, market research, liquid sugar knowledge, sugar refining knowledge, food science knowledge, chemical knowledge</td><td>0.12326372601091862</td></tr><tr><td>Hash Table, String, Design, Trie</td><td>sales, business development, relationship building, creativity, organization, communication, problem solving, market research, liquid sugar knowledge, sugar refining knowledge, food science knowledge, chemical knowledge</td><td>0.1804164500402597</td></tr><tr><td>Stack, Tree, Depth-First Search, Binary Tree</td><td>sales, business development, relationship building, creativity, organization, communication, problem solving, market research, liquid sugar knowledge, sugar refining knowledge, food science knowledge, chemical knowledge</td><td>0.16800097919379672</td></tr><tr><td>Dynamic Programming,Algorithm Design,Time Complexity Analysis</td><td>The provided text only gives salary, location, type, department, and job number.  It offers no information about required skills.  Therefore, it's impossible to infer a comma-separated list of skills.</td><td>0.09353853813889955</td></tr><tr><td>Math, Two Pointers, Binary Search</td><td>financial analysis, budgeting, strategic planning, financial regulations, accounting principles, risk assessment, data analysis, leadership, communication, collaboration, problem solving, interpersonal skills, strategic thinking, relationship building, teamwork, forecasting, financial reporting, return on investment analysis, CPA, MBA, mentoring, inspiration</td><td>0.19133065851179487</td></tr><tr><td>Frequency analysis, sorting, heap data structure, algorithm optimization, time complexity analysis</td><td>Machine Learning, Deep Learning, NLP, Computer Vision, Data Mining, Data Science, Algorithm Development,  Large-Scale Data Processing,  Model Building, Model Deployment,  Software Engineering (Java, Scala, Python, C++),  TensorFlow, Scikit-learn, R, Spark, PyTorch, Apache Hadoop, Solr/Lucene, Cassandra,  Topic Modeling, Graph Algorithms,  Supervised/Unsupervised Learning,  Metrics Analysis</td><td>0.21049049547157037</td></tr><tr><td>Depth-First Search, Breadth-First Search, Graph, Topological Sort</td><td>Python, Java, SQL, NoSQL, Key-Value Store, Distributed Systems, Real-time Systems, Software Design, Problem-solving, Team Collaboration, CI/CD, Testing, Secure Coding, Event-driven Architecture, Messaging Frameworks (Pub/Sub, Kafka, RabbitMQ), Cloud Infrastructure (GCP, AWS, Azure)</td><td>0.13601612735074015</td></tr><tr><td>Array, String</td><td>Software Development, Salesforce (Apex, Lightning, JavaScript), Middleware (Mulesoft, Dell Boomi, Jitterbit, Kettle), Application Customization (SpringCM, Conga), Data Manipulation, Scripting, Cloud CPQ, Billing Solutions, Agile/Scrum, Version Control (Git), Object-Oriented Programming, Java, C#, C/C++, Python, JavaScript, Problem-Solving, Communication, Teamwork, Web Development (HTML, CSS, Server-side, Client-side), Open Source Contributions</td><td>0.17849677672299247</td></tr><tr><td>Hash Table, String, Dynamic Programming, Backtracking</td><td>Statistical modeling, Machine learning, Natural language processing, Time series analysis, Mathematical optimization, Graph theory, Quantitative finance, Python, R, Symbolic AI, Hybrid symbolic and machine learning, Data engineering, MLOps, Data visualization, Model risk management, Model governance, Cloud computing, Version control, DevOps, Financial services, Wealth management, Model validation, Model monitoring, Model explainability, Model interpretability, Transformer models, K-shot learning, Self-supervised learning, Algorithm research, Stakeholder management, Communication, Presentation skills, Technical communication, Data analysis, Problem-solving, Decision-making, Collaboration</td><td>0.19449396781321313</td></tr><tr><td>Array, Binary Search, Sorting</td><td>Linux System Administration, HPC Cluster Management (SLURM, LSF), Configuration Management (Ansible, Puppet, Terraform), System Monitoring & Alerting (Prometheus, Grafana, Telegraf, Splunk), High-Performance Computing (HPC), Distributed Systems, Networking (TCP/IP, IPoIB), Storage Technologies, Python, Go, Bash, Root Cause Analysis, Automation, Documentation, Communication, Time Management, GPU Computing, High-Throughput Networks, High-Performance Storage, Containerization (Docker, Kubernetes, Singularity), Cloud Computing, Hardware Accelerators (FPGA, ASIC), Parallel Filesystems, Security, Scalability</td><td>0.14155132721754768</td></tr><tr><td>Array, Dynamic Programming, Matrix</td><td>Linux System Administration, HPC Cluster Management (SLURM, LSF), Configuration Management (Ansible, Puppet, Terraform), System Monitoring & Alerting (Prometheus, Grafana, Telegraf, Splunk), High-Performance Computing (HPC), Distributed Systems, Networking (TCP/IP, IPoIB), Storage Technologies, Python, Go, Bash, Root Cause Analysis, Automation, Documentation, Communication, Time Management, GPU Computing, High-Throughput Networks, High-Performance Storage, Containerization (Docker, Kubernetes, Singularity), Cloud Computing, Hardware Accelerators (FPGA, ASIC), Parallel Filesystems, Security, Scalability</td><td>0.1593243961621608</td></tr><tr><td>Array, Hash Table, Greedy, Counting</td><td>Linux System Administration, HPC Cluster Management (SLURM, LSF), Configuration Management (Ansible, Puppet, Terraform), System Monitoring & Alerting (Prometheus, Grafana, Telegraf, Splunk), High-Performance Computing (HPC), Distributed Systems, Networking (TCP/IP, IPoIB), Storage Technologies, Python, Go, Bash, Root Cause Analysis, Automation, Documentation, Communication, Time Management, GPU Computing, High-Throughput Networks, High-Performance Storage, Containerization (Docker, Kubernetes, Singularity), Cloud Computing, Hardware Accelerators (FPGA, ASIC), Parallel Filesystems, Security, Scalability</td><td>0.13523235743798848</td></tr><tr><td>Array, Matrix</td><td>Linux System Administration, HPC Cluster Management (SLURM, LSF), Configuration Management (Ansible, Puppet, Terraform), System Monitoring & Alerting (Prometheus, Grafana, Telegraf, Splunk), High-Performance Computing (HPC), Distributed Systems, Networking (TCP/IP, IPoIB), Storage Technologies, Python, Go, Bash, Root Cause Analysis, Automation, Documentation, Communication, Time Management, GPU Computing, High-Throughput Networks, High-Performance Storage, Containerization (Docker, Kubernetes, Singularity), Cloud Computing, Hardware Accelerators (FPGA, ASIC), Parallel Filesystems, Security, Scalability</td><td>0.15356033073206032</td></tr><tr><td>Array, Backtracking, Bit Manipulation, Matrix</td><td>Linux System Administration, HPC Cluster Management (SLURM, LSF), Configuration Management (Ansible, Puppet, Terraform), System Monitoring & Alerting (Prometheus, Grafana, Telegraf, Splunk), High-Performance Computing (HPC), Distributed Systems, Networking (TCP/IP, IPoIB), Storage Technologies, Python, Go, Bash, Root Cause Analysis, Automation, Documentation, Communication, Time Management, GPU Computing, High-Throughput Networks, High-Performance Storage, Containerization (Docker, Kubernetes, Singularity), Cloud Computing, Hardware Accelerators (FPGA, ASIC), Parallel Filesystems, Security, Scalability</td><td>0.16021039078145155</td></tr><tr><td>Array, Hash Table, Divide and Conquer, Sorting, Heap (Priority Queue), Bucket Sort, Counting, Quickselect</td><td>Customer service, communication, hospitality, teamwork</td><td>0.15856945083942264</td></tr><tr><td>Array, Bit Manipulation, Breadth-First Search, Matrix</td><td>Software Development, Requirements Gathering, Implementation, Maintenance, Software Design, Embedded Code Development, Debugging, Troubleshooting, Linux, BSD, VxWorks, Computer Networking, C, C++, Python, Layer 2 VPN, Layer 3 VPN, BGP, VPLS, IP-VPN, mVPN, Virtualized Switching, OpenVswitch, Nexus 1000v, Server Virtualization, KVM, Xen, VMware ESXi, SD-WAN, Product Management, QA Support, Customer Support</td><td>0.15609182431944646</td></tr><tr><td>Array, Hash Table, String, Graph, Topological Sort</td><td>Software Development, Requirements Gathering, Implementation, Maintenance, Software Design, Embedded Code Development, Debugging, Troubleshooting, Linux, BSD, VxWorks, Computer Networking, C, C++, Python, Layer 2 VPN, Layer 3 VPN, BGP, VPLS, IP-VPN, mVPN, Virtualized Switching, OpenVswitch, Nexus 1000v, Server Virtualization, KVM, Xen, VMware ESXi, SD-WAN, Product Management, QA Support, Customer Support</td><td>0.12659893609234132</td></tr><tr><td>Array manipulation, Hash table usage, Algorithm design, Time complexity analysis, Space complexity analysis</td><td>Java, Oracle, SQL Server, Hibernate, Swing, Agile, Test-oriented development, Object-oriented design, Design patterns, Cloud solutions, Continuous Integration, System architecture, Software development lifecycle (SDLC), Documentation, Code review</td><td>0.1425211748480797</td></tr><tr><td>Tree, Depth-First Search, Binary Tree</td><td>C#, PowerShell, Software Development, Debugging, Troubleshooting, System Tuning, Capacity Planning, Performance Analysis, Security, Scalability, Reliability, Automation, DevOps, Service Engineering, System Architecture, Code Review,  Problem Solving,  On-Call Support, Disaster Recovery, Business Continuity Planning,  Distributed Systems, Virtualization (Hyper-V, VMWare),  Customer Focus, Live Site Operations,  Analytical Skills, Communication Skills, Interpersonal Skills,  Multitasking,  Customer Service, Supply Chain (Preferred), Operations Analytics (Preferred)</td><td>0.137812536675483</td></tr><tr><td>Hash Table, Binary Search, Tree, Depth-First Search, Binary Tree</td><td>C#, PowerShell, Software Development, Debugging, Troubleshooting, System Tuning, Capacity Planning, Performance Analysis, Security, Scalability, Reliability, Automation, DevOps, Service Engineering, System Architecture, Code Review,  Problem Solving,  On-Call Support, Disaster Recovery, Business Continuity Planning,  Distributed Systems, Virtualization (Hyper-V, VMWare),  Customer Focus, Live Site Operations,  Analytical Skills, Communication Skills, Interpersonal Skills,  Multitasking,  Customer Service, Supply Chain (Preferred), Operations Analytics (Preferred)</td><td>0.1269546380615793</td></tr><tr><td>Linked List manipulation,Pointer manipulation,Algorithm design,Problem solving</td><td>budgeting, data analysis, expense management, communication, problem solving, detail-oriented, time management, adaptability, interpersonal skills, financial planning, financial analysis, forecasting, financial modeling, reporting tools (Hyperion, GEAR), business case development, strategic planning, collaboration, influencing skills, business acumen, teamwork</td><td>0.19597391817452653</td></tr><tr><td>Math</td><td>Software Development, Performance Engineering, Service Reliability Engineering, Data Analysis, Problem Diagnosis, Object-oriented Programming (Java, C#, Scala), Profiling, Thread Dump Analysis, Heap Dump Analysis, Garbage Collection Analysis, CPU Utilization Analysis, Thread Utilization Analysis, SQL, NoSQL, Distributed Systems, Cloud Computing (Public/Private), Stakeholder Communication, Tool Development, Prototyping, Architectural Influence</td><td>0.21422950957309117</td></tr><tr><td>Stack, Design</td><td>PCB design, Software development, Coding, C/C++, Python, Embedded systems, Firmware, Altium Designer, KiCad, Eagle PCB, Electrical Engineering, Problem-solving, Communication, Teamwork, Stakeholder management, Client collaboration, Supplier management, Safety standards (electric vehicles), Sustainability, Micromobility, Strategic product innovation</td><td>0.26240171097396386</td></tr><tr><td>Multithreading,Synchronization,Concurrency,Problem-solving,Java</td><td>PCB design, Software development, Coding, C/C++, Python, Embedded systems, Firmware, Altium Designer, KiCad, Eagle PCB, Electrical Engineering, Problem-solving, Communication, Teamwork, Stakeholder management, Client collaboration, Supplier management, Safety standards (electric vehicles), Sustainability, Micromobility, Strategic product innovation</td><td>0.20580241632248675</td></tr><tr><td>Algorithm design,Time complexity analysis,Space complexity analysis,Array manipulation</td><td>AWS, Linux, Bash/Perl/Ruby/Python, Splunk/Wavefront/Zabbix/ELK/Prometheus/Grafana, Software Development, DevOps, SRE, Monitoring, Observability, Alerting, Automation, Agile, Team Leadership, Communication, Problem-solving</td><td>0.14022738623122374</td></tr><tr><td>Problem-solving, String manipulation, 2D array manipulation, Algorithm design, Pathfinding</td><td>SEO, Local SEO, PPC, Facebook Ads, Google Analytics, Ahrefs, Screaming Frog, SEMrush,  Website Content Writing,  Blog Writing,  Marketing Strategy,  Campaign Performance Tracking & Reporting,  Communication (written & verbal),  Interpersonal Skills, Customer Service,  Project Management, Time Management, Organization, Detail-Oriented,  Teamwork,  Resourcefulness,  Problem-solving,  Creative Thinking,  Flexible Schedule,  Bilingual (plus)</td><td>0.1430014815479517</td></tr><tr><td>String manipulation,Array manipulation,Counting,Logical reasoning,Algorithm design</td><td>financial analysis, accounting, Microsoft Excel, data analysis, financial reporting, project management, account reconciliation, communication, organization, time management, flexibility, team collaboration, influencing, KPI tracking, cash flow management</td><td>0.16579023083051048</td></tr><tr><td>Tree construction, recursion, array manipulation, algorithm design</td><td>financial analysis, budgeting, strategic planning, financial regulations, accounting principles, risk assessment, data analysis, leadership, communication, collaboration, problem solving, interpersonal skills, strategic thinking, relationship building, teamwork, forecasting, financial reporting, return on investment analysis, CPA, MBA, mentoring, inspiration</td><td>0.14559152379462664</td></tr><tr><td>Probability,Randomization,Array manipulation,Algorithm design</td><td>HTML, CSS, Ajax, JavaScript, Angular, PHP, Node.js, Object-Oriented Programming, Single Page Application development, Responsive Web Design, Web Development, Software Development, Debugging, Testing, Code Review, Cloud Native Architecture, Problem-solving, Analytical skills, Communication (written & verbal), Teamwork, Collaboration</td><td>0.15901401778683066</td></tr><tr><td>Array, Greedy, Bit Manipulation</td><td>financial analysis, budgeting, strategic planning, financial regulations, accounting principles, risk assessment, data analysis, leadership, communication, collaboration, problem solving, interpersonal skills, strategic thinking, relationship building, teamwork, forecasting, financial reporting, return on investment analysis, CPA, MBA, mentoring, inspiration</td><td>0.1534605331323815</td></tr><tr><td>Array, Design, Counting, Iterator</td><td>financial analysis, budgeting, strategic planning, financial regulations, accounting principles, risk assessment, data analysis, leadership, communication, collaboration, problem solving, interpersonal skills, strategic thinking, relationship building, teamwork, forecasting, financial reporting, return on investment analysis, CPA, MBA, mentoring, inspiration</td><td>0.1898388814350421</td></tr><tr><td>Array, Matrix</td><td>financial analysis, budgeting, strategic planning, financial regulations, accounting principles, risk assessment, data analysis, leadership, communication, collaboration, problem solving, interpersonal skills, strategic thinking, relationship building, teamwork, forecasting, financial reporting, return on investment analysis, CPA, MBA, mentoring, inspiration</td><td>0.15250127466226165</td></tr><tr><td>Array, Hash Table, Math, Bit Manipulation, Prefix Sum</td><td>financial analysis, budgeting, strategic planning, financial regulations, accounting principles, risk assessment, data analysis, leadership, communication, collaboration, problem solving, interpersonal skills, strategic thinking, relationship building, teamwork, forecasting, financial reporting, return on investment analysis, CPA, MBA, mentoring, inspiration</td><td>0.1509156253019517</td></tr><tr><td>Array, Hash Table, Math, Number Theory</td><td>financial analysis, budgeting, strategic planning, financial regulations, accounting principles, risk assessment, data analysis, leadership, communication, collaboration, problem solving, interpersonal skills, strategic thinking, relationship building, teamwork, forecasting, financial reporting, return on investment analysis, CPA, MBA, mentoring, inspiration</td><td>0.15851929371075874</td></tr><tr><td>Array, Hash Table, String</td><td>financial analysis, budgeting, strategic planning, financial regulations, accounting principles, risk assessment, data analysis, leadership, communication, collaboration, problem solving, interpersonal skills, strategic thinking, relationship building, teamwork, forecasting, financial reporting, return on investment analysis, CPA, MBA, mentoring, inspiration</td><td>0.12082599109095153</td></tr><tr><td>Array, Heap (Priority Queue)</td><td>financial analysis, budgeting, strategic planning, financial regulations, accounting principles, risk assessment, data analysis, leadership, communication, collaboration, problem solving, interpersonal skills, strategic thinking, relationship building, teamwork, forecasting, financial reporting, return on investment analysis, CPA, MBA, mentoring, inspiration</td><td>0.09387948355552825</td></tr><tr><td>Array, Matrix, Enumeration</td><td>financial analysis, budgeting, strategic planning, financial regulations, accounting principles, risk assessment, data analysis, leadership, communication, collaboration, problem solving, interpersonal skills, strategic thinking, relationship building, teamwork, forecasting, financial reporting, return on investment analysis, CPA, MBA, mentoring, inspiration</td><td>0.1516260357404297</td></tr><tr><td>Array, Simulation</td><td>financial analysis, budgeting, strategic planning, financial regulations, accounting principles, risk assessment, data analysis, leadership, communication, collaboration, problem solving, interpersonal skills, strategic thinking, relationship building, teamwork, forecasting, financial reporting, return on investment analysis, CPA, MBA, mentoring, inspiration</td><td>0.1377066404093057</td></tr><tr><td>Array, Hash Table, Greedy</td><td>Strategic Planning, Project Management, Technology Innovation, Consumer Technology Expertise,  Data Analytics, Business Strategy,  Digital Transformation,  Team Leadership,  Communication (written & oral), Presentation Skills, Relationship Building, Servant Leadership,  Problem-solving,  Negotiation,  Financial Analysis,  Product Management,  IT Infrastructure Knowledge,  Cloud Technologies,  Emerging Technology Awareness,  Regulatory Compliance (PCI, HIPAA),  Stakeholder Management,  Innovation,  Product Development,  Hardware/Software Knowledge,  Mobile App Development,  Electrical Systems, Control Systems.</td><td>0.11147106464375699</td></tr><tr><td>Array, Dynamic Programming</td><td>Strategic Planning, Project Management, Technology Innovation, Consumer Technology Expertise,  Data Analytics, Business Strategy,  Digital Transformation,  Team Leadership,  Communication (written & oral), Presentation Skills, Relationship Building, Servant Leadership,  Problem-solving,  Negotiation,  Financial Analysis,  Product Management,  IT Infrastructure Knowledge,  Cloud Technologies,  Emerging Technology Awareness,  Regulatory Compliance (PCI, HIPAA),  Stakeholder Management,  Innovation,  Product Development,  Hardware/Software Knowledge,  Mobile App Development,  Electrical Systems, Control Systems.</td><td>0.15530343702994287</td></tr><tr><td>Array, Greedy, Matrix</td><td>Strategic Planning, Project Management, Technology Innovation, Consumer Technology Expertise,  Data Analytics, Business Strategy,  Digital Transformation,  Team Leadership,  Communication (written & oral), Presentation Skills, Relationship Building, Servant Leadership,  Problem-solving,  Negotiation,  Financial Analysis,  Product Management,  IT Infrastructure Knowledge,  Cloud Technologies,  Emerging Technology Awareness,  Regulatory Compliance (PCI, HIPAA),  Stakeholder Management,  Innovation,  Product Development,  Hardware/Software Knowledge,  Mobile App Development,  Electrical Systems, Control Systems.</td><td>0.14187930690656816</td></tr><tr><td>Array, Hash Table, Two Pointers, Binary Search, Sorting</td><td>Strategic Planning, Project Management, Technology Innovation, Consumer Technology Expertise,  Data Analytics, Business Strategy,  Digital Transformation,  Team Leadership,  Communication (written & oral), Presentation Skills, Relationship Building, Servant Leadership,  Problem-solving,  Negotiation,  Financial Analysis,  Product Management,  IT Infrastructure Knowledge,  Cloud Technologies,  Emerging Technology Awareness,  Regulatory Compliance (PCI, HIPAA),  Stakeholder Management,  Innovation,  Product Development,  Hardware/Software Knowledge,  Mobile App Development,  Electrical Systems, Control Systems.</td><td>0.11098413337687296</td></tr><tr><td>Algorithm design,Sorting algorithms,Time complexity analysis,Space complexity analysis</td><td>Linux System Administration, HPC Cluster Management (SLURM, LSF), Configuration Management (Ansible, Puppet, Terraform), System Monitoring & Alerting (Prometheus, Grafana, Telegraf, Splunk), High-Performance Computing (HPC), Distributed Systems, Networking (TCP/IP, IPoIB), Storage Technologies, Python, Go, Bash, Root Cause Analysis, Automation, Documentation, Communication, Time Management, GPU Computing, High-Throughput Networks, High-Performance Storage, Containerization (Docker, Kubernetes, Singularity), Cloud Computing, Hardware Accelerators (FPGA, ASIC), Parallel Filesystems, Security, Scalability</td><td>0.14643954209251597</td></tr><tr><td>Tree, Depth-First Search, Binary Tree</td><td>Statistical methods, Causal inference, Data analysis, Data visualization, Data interpretation, SQL, Python, R, Project management, Data storytelling, Communication, Stakeholder management, Teamwork, Mentorship,  Product data analysis, Revenue data analysis</td><td>0.1752987583167851</td></tr><tr><td>Array, Dynamic Programming, Queue, Sliding Window, Heap (Priority Queue), Monotonic Queue</td><td>accounting principles, communication, teamwork, financial management, liquidity management, asset/liability management (ALM), profitability reporting, financial analysis, cost accounting, data analytics, CPA, CFA, financial forecasting, strategic planning, leadership, problem solving, advisory skills, engagement, ownership</td><td>0.12710220410014714</td></tr><tr><td>Hash Table, Design, Heap (Priority Queue), Data Stream, Ordered Set</td><td>accounting principles, communication, teamwork, financial management, liquidity management, asset/liability management (ALM), profitability reporting, financial analysis, cost accounting, data analytics, CPA, CFA, financial forecasting, strategic planning, leadership, problem solving, advisory skills, engagement, ownership</td><td>0.13833087823892892</td></tr><tr><td>Data structures,Algorithm design,Time complexity analysis</td><td>C/C++, Python, Linux-based development, VLSI CAD algorithm development, data structures, algorithms, software engineering principles, strong verbal and written communication skills, strong teamwork skills, problem-solving skills, analysis skills, programming skills, debugging skills, troubleshooting skills, statistical analysis, machine learning, deep learning,  routing algorithm knowledge, quality and software processes, Unix/Linux platform experience</td><td>0.2573747302095095</td></tr><tr><td>Array, Two Pointers, Binary Search, Sorting</td><td>HTML, CSS, Ajax, JavaScript, Angular, PHP, Node.js, Object-Oriented Programming, Single Page Application development, Responsive Web Design, Web Development, Software Development, Debugging, Testing, Code Review, Cloud Native Architecture, Problem-solving, Analytical skills, Communication (written & verbal), Teamwork, Collaboration</td><td>0.1533529733396357</td></tr><tr><td>Math, Binary Search</td><td>HTML, CSS, Ajax, JavaScript, Angular, PHP, Node.js, Object-Oriented Programming, Single Page Application development, Responsive Web Design, Web Development, Software Development, Debugging, Testing, Code Review, Cloud Native Architecture, Problem-solving, Analytical skills, Communication (written & verbal), Teamwork, Collaboration</td><td>0.1761976649452533</td></tr><tr><td>Array, String, Binary Search, Trie, Sorting, Heap (Priority Queue)</td><td>Linux System Administration, DevOps, Cloud Engineering, Automation,  Bash Scripting, SSH, Git,  Jenkins, Consul, Vault,  Networking, TCP/IP, DNS, HTTP, TLS, Web Security,  Troubleshooting,  Monitoring (Nagios, Cacti, Grafana, ELK), HAProxy, Kubernetes,  Infrastructure as Code (IaC), Configuration Management, CI/CD, Containerization, Virtualization, MySQL,  Backup and Restore,  Documentation,  Communication,  Problem-solving,  Software Updates,  High Availability (HA),  Security, CentOS, Ubuntu,  Python/other interpreted languages (Preferred),  Email Server Administration (Preferred)</td><td>0.14019916391698645</td></tr><tr><td>Array, Hash Table, Binary Search, Design</td><td>Linux System Administration, DevOps, Cloud Engineering, Automation,  Bash Scripting, SSH, Git,  Jenkins, Consul, Vault,  Networking, TCP/IP, DNS, HTTP, TLS, Web Security,  Troubleshooting,  Monitoring (Nagios, Cacti, Grafana, ELK), HAProxy, Kubernetes,  Infrastructure as Code (IaC), Configuration Management, CI/CD, Containerization, Virtualization, MySQL,  Backup and Restore,  Documentation,  Communication,  Problem-solving,  Software Updates,  High Availability (HA),  Security, CentOS, Ubuntu,  Python/other interpreted languages (Preferred),  Email Server Administration (Preferred)</td><td>0.1552248350111768</td></tr><tr><td>Array, Hash Table, String, Binary Search, Sorting</td><td>Linux System Administration, DevOps, Cloud Engineering, Automation,  Bash Scripting, SSH, Git,  Jenkins, Consul, Vault,  Networking, TCP/IP, DNS, HTTP, TLS, Web Security,  Troubleshooting,  Monitoring (Nagios, Cacti, Grafana, ELK), HAProxy, Kubernetes,  Infrastructure as Code (IaC), Configuration Management, CI/CD, Containerization, Virtualization, MySQL,  Backup and Restore,  Documentation,  Communication,  Problem-solving,  Software Updates,  High Availability (HA),  Security, CentOS, Ubuntu,  Python/other interpreted languages (Preferred),  Email Server Administration (Preferred)</td><td>0.14377619326114655</td></tr><tr><td>Array, Stack, Monotonic Stack</td><td>Linux/UNIX administration, Docker, docker-compose, containerized development, Ansible, Packer, Terraform, OpenShift, Kubernetes, Bash, Python, Node.js, Application clustering, load balancing, VMware vSphere API, Gitlab CI/CD, networking fundamentals, command line tools, HTTP, SSL, LDAP, SQL, HTML, XML, PostgreSQL, Keepalived,  CI/CD, Blue/Green Deployments,  Consul,  Atomic Host,  distributed computing, data systems, immutable infrastructure, serverless computing</td><td>0.14409755175823674</td></tr><tr><td>Array, Binary Search, Stack, Binary Indexed Tree, Segment Tree, Heap (Priority Queue), Monotonic Stack</td><td>Linux/UNIX administration, Docker, docker-compose, containerized development, Ansible, Packer, Terraform, OpenShift, Kubernetes, Bash, Python, Node.js, Application clustering, load balancing, VMware vSphere API, Gitlab CI/CD, networking fundamentals, command line tools, HTTP, SSL, LDAP, SQL, HTML, XML, PostgreSQL, Keepalived,  CI/CD, Blue/Green Deployments,  Consul,  Atomic Host,  distributed computing, data systems, immutable infrastructure, serverless computing</td><td>0.12187354409863718</td></tr><tr><td>Array, Binary Search</td><td>Linux/UNIX administration, Docker, docker-compose, containerized development, Ansible, Packer, Terraform, OpenShift, Kubernetes, Bash, Python, Node.js, Application clustering, load balancing, VMware vSphere API, Gitlab CI/CD, networking fundamentals, command line tools, HTTP, SSL, LDAP, SQL, HTML, XML, PostgreSQL, Keepalived,  CI/CD, Blue/Green Deployments,  Consul,  Atomic Host,  distributed computing, data systems, immutable infrastructure, serverless computing</td><td>0.13044342373990836</td></tr><tr><td>Array, Hash Table, String, Sorting</td><td>Linux/UNIX administration, Docker, docker-compose, containerized development, Ansible, Packer, Terraform, OpenShift, Kubernetes, Bash, Python, Node.js, Application clustering, load balancing, VMware vSphere API, Gitlab CI/CD, networking fundamentals, command line tools, HTTP, SSL, LDAP, SQL, HTML, XML, PostgreSQL, Keepalived,  CI/CD, Blue/Green Deployments,  Consul,  Atomic Host,  distributed computing, data systems, immutable infrastructure, serverless computing</td><td>0.14344899088609964</td></tr><tr><td>Array</td><td>Linux/UNIX administration, Docker, docker-compose, containerized development, Ansible, Packer, Terraform, OpenShift, Kubernetes, Bash, Python, Node.js, Application clustering, load balancing, VMware vSphere API, Gitlab CI/CD, networking fundamentals, command line tools, HTTP, SSL, LDAP, SQL, HTML, XML, PostgreSQL, Keepalived,  CI/CD, Blue/Green Deployments,  Consul,  Atomic Host,  distributed computing, data systems, immutable infrastructure, serverless computing</td><td>0.13219476721304305</td></tr></tbody></table></div>"
      ]
     },
     "metadata": {
      "application/vnd.databricks.v1+output": {
       "addedWidgets": {},
       "aggData": [],
       "aggError": "",
       "aggOverflow": false,
       "aggSchema": [],
       "aggSeriesLimitReached": false,
       "aggType": "",
       "arguments": {},
       "columnCustomDisplayInfos": {},
       "data": [
        [
         "Array, Two Pointers, Simulation",
         "Linux System Administration, DevOps, Cloud Engineering, Automation,  Bash Scripting, SSH, Git,  Jenkins, Consul, Vault,  Networking, TCP/IP, DNS, HTTP, TLS, Web Security,  Troubleshooting,  Monitoring (Nagios, Cacti, Grafana, ELK), HAProxy, Kubernetes,  Infrastructure as Code (IaC), Configuration Management, CI/CD, Containerization, Virtualization, MySQL,  Backup and Restore,  Documentation,  Communication,  Problem-solving,  Software Updates,  High Availability (HA),  Security, CentOS, Ubuntu,  Python/other interpreted languages (Preferred),  Email Server Administration (Preferred)",
         0.15248226032126697
        ],
        [
         "Array, Matrix, Simulation",
         "Linux System Administration, DevOps, Cloud Engineering, Automation,  Bash Scripting, SSH, Git,  Jenkins, Consul, Vault,  Networking, TCP/IP, DNS, HTTP, TLS, Web Security,  Troubleshooting,  Monitoring (Nagios, Cacti, Grafana, ELK), HAProxy, Kubernetes,  Infrastructure as Code (IaC), Configuration Management, CI/CD, Containerization, Virtualization, MySQL,  Backup and Restore,  Documentation,  Communication,  Problem-solving,  Software Updates,  High Availability (HA),  Security, CentOS, Ubuntu,  Python/other interpreted languages (Preferred),  Email Server Administration (Preferred)",
         0.1581306618715947
        ],
        [
         "String, Simulation",
         "Linux System Administration, DevOps, Cloud Engineering, Automation,  Bash Scripting, SSH, Git,  Jenkins, Consul, Vault,  Networking, TCP/IP, DNS, HTTP, TLS, Web Security,  Troubleshooting,  Monitoring (Nagios, Cacti, Grafana, ELK), HAProxy, Kubernetes,  Infrastructure as Code (IaC), Configuration Management, CI/CD, Containerization, Virtualization, MySQL,  Backup and Restore,  Documentation,  Communication,  Problem-solving,  Software Updates,  High Availability (HA),  Security, CentOS, Ubuntu,  Python/other interpreted languages (Preferred),  Email Server Administration (Preferred)",
         0.16948369075544178
        ],
        [
         "String manipulation, substring identification, iterative processing, algorithm design",
         "Licensed Occupational Therapist, Physical Therapy Assistant license (preferred), Occupational Therapy Assistant certification (preferred)",
         0.039161902464305356
        ],
        [
         "Array, Depth-First Search, Breadth-First Search, Union Find, Matrix",
         "Agile methodologies, Scrum, Software Engineering, Computer Science, Electrical Engineering, REST API, JSON/XML, Open Source Technologies (NiFi, Kafka, Elastic Stack, Solr), CI/CD, Ansible, Jenkins, Git, Java, Docker, Kubernetes, JIRA, Confluence, Linux, Windows, Model Based Systems Engineering (MBSE), SecDevOps, User Interface Development, User Experience, Web Application Development, System Integration,  Software Design, Problem Solving,  Continuous Integration",
         0.11781683646502997
        ],
        [
         "Tree, Depth-First Search, Binary Tree",
         "Agile methodologies, Scrum, Software Engineering, Computer Science, Electrical Engineering, REST API, JSON/XML, Open Source Technologies (NiFi, Kafka, Elastic Stack, Solr), CI/CD, Ansible, Jenkins, Git, Java, Docker, Kubernetes, JIRA, Confluence, Linux, Windows, Model Based Systems Engineering (MBSE), SecDevOps, User Interface Development, User Experience, Web Application Development, System Integration,  Software Design, Problem Solving,  Continuous Integration",
         0.15469038346281616
        ],
        [
         "Array, Hash Table, Tree, Depth-First Search, Breadth-First Search, Binary Tree",
         "Agile methodologies, Scrum, Software Engineering, Computer Science, Electrical Engineering, REST API, JSON/XML, Open Source Technologies (NiFi, Kafka, Elastic Stack, Solr), CI/CD, Ansible, Jenkins, Git, Java, Docker, Kubernetes, JIRA, Confluence, Linux, Windows, Model Based Systems Engineering (MBSE), SecDevOps, User Interface Development, User Experience, Web Application Development, System Integration,  Software Design, Problem Solving,  Continuous Integration",
         0.13654423848555614
        ],
        [
         "Array, Dynamic Programming",
         "Evaluation, Implementation, Execution, On-premise support, Field work",
         0.2504414746537804
        ],
        [
         "Array, Math, Greedy, Sorting",
         "Evaluation, Implementation, Execution, On-premise support, Field work",
         0.22489051166921853
        ],
        [
         "Hash Table, Binary Search, Design, Sorting, Ordered Set",
         "Statistical methods, Causal inference, Data analysis, Data visualization, Data interpretation, SQL, Python, R, Project management, Data storytelling, Communication, Stakeholder management, Teamwork, Mentorship,  Product data analysis, Revenue data analysis",
         0.19055233490653337
        ],
        [
         "String manipulation,String reversal,Index manipulation,Conditional logic,Algorithm implementation",
         "Azure, Terraform, ARM templates, Azure DevOps, Python, PowerShell, Docker, Kubernetes, Agile, Scrum, DevSecOps, Configuration Management, Orchestration, Cloud Services (compute, storage, Key Vault, Azure PaaS), Failure Injection Testing, IAM (least privilege access, password management, audit logging, RBAC, certificate issuance and revocation),  Site Reliability Engineering,  Metrics collection, reporting and alerting,  Continuous Integration,  Horizontal and vertical scalability, Cloud native monitoring,  Excellent communication skills, Problem-solving.",
         0.08706169061122403
        ],
        [
         "Hash Table, String",
         "sales, business development, relationship building, creativity, organization, communication, problem solving, market research, liquid sugar knowledge, sugar refining knowledge, food science knowledge, chemical knowledge",
         0.13251424099629122
        ],
        [
         "Hash Table, String, Trie, Sorting, Heap (Priority Queue), Bucket Sort, Counting",
         "sales, business development, relationship building, creativity, organization, communication, problem solving, market research, liquid sugar knowledge, sugar refining knowledge, food science knowledge, chemical knowledge",
         0.12455767294436339
        ],
        [
         "Array, Hash Table, String, Bit Manipulation",
         "sales, business development, relationship building, creativity, organization, communication, problem solving, market research, liquid sugar knowledge, sugar refining knowledge, food science knowledge, chemical knowledge",
         0.12326372601091862
        ],
        [
         "Hash Table, String, Design, Trie",
         "sales, business development, relationship building, creativity, organization, communication, problem solving, market research, liquid sugar knowledge, sugar refining knowledge, food science knowledge, chemical knowledge",
         0.1804164500402597
        ],
        [
         "Stack, Tree, Depth-First Search, Binary Tree",
         "sales, business development, relationship building, creativity, organization, communication, problem solving, market research, liquid sugar knowledge, sugar refining knowledge, food science knowledge, chemical knowledge",
         0.16800097919379672
        ],
        [
         "Dynamic Programming,Algorithm Design,Time Complexity Analysis",
         "The provided text only gives salary, location, type, department, and job number.  It offers no information about required skills.  Therefore, it's impossible to infer a comma-separated list of skills.",
         0.09353853813889955
        ],
        [
         "Math, Two Pointers, Binary Search",
         "financial analysis, budgeting, strategic planning, financial regulations, accounting principles, risk assessment, data analysis, leadership, communication, collaboration, problem solving, interpersonal skills, strategic thinking, relationship building, teamwork, forecasting, financial reporting, return on investment analysis, CPA, MBA, mentoring, inspiration",
         0.19133065851179487
        ],
        [
         "Frequency analysis, sorting, heap data structure, algorithm optimization, time complexity analysis",
         "Machine Learning, Deep Learning, NLP, Computer Vision, Data Mining, Data Science, Algorithm Development,  Large-Scale Data Processing,  Model Building, Model Deployment,  Software Engineering (Java, Scala, Python, C++),  TensorFlow, Scikit-learn, R, Spark, PyTorch, Apache Hadoop, Solr/Lucene, Cassandra,  Topic Modeling, Graph Algorithms,  Supervised/Unsupervised Learning,  Metrics Analysis",
         0.21049049547157037
        ],
        [
         "Depth-First Search, Breadth-First Search, Graph, Topological Sort",
         "Python, Java, SQL, NoSQL, Key-Value Store, Distributed Systems, Real-time Systems, Software Design, Problem-solving, Team Collaboration, CI/CD, Testing, Secure Coding, Event-driven Architecture, Messaging Frameworks (Pub/Sub, Kafka, RabbitMQ), Cloud Infrastructure (GCP, AWS, Azure)",
         0.13601612735074015
        ],
        [
         "Array, String",
         "Software Development, Salesforce (Apex, Lightning, JavaScript), Middleware (Mulesoft, Dell Boomi, Jitterbit, Kettle), Application Customization (SpringCM, Conga), Data Manipulation, Scripting, Cloud CPQ, Billing Solutions, Agile/Scrum, Version Control (Git), Object-Oriented Programming, Java, C#, C/C++, Python, JavaScript, Problem-Solving, Communication, Teamwork, Web Development (HTML, CSS, Server-side, Client-side), Open Source Contributions",
         0.17849677672299247
        ],
        [
         "Hash Table, String, Dynamic Programming, Backtracking",
         "Statistical modeling, Machine learning, Natural language processing, Time series analysis, Mathematical optimization, Graph theory, Quantitative finance, Python, R, Symbolic AI, Hybrid symbolic and machine learning, Data engineering, MLOps, Data visualization, Model risk management, Model governance, Cloud computing, Version control, DevOps, Financial services, Wealth management, Model validation, Model monitoring, Model explainability, Model interpretability, Transformer models, K-shot learning, Self-supervised learning, Algorithm research, Stakeholder management, Communication, Presentation skills, Technical communication, Data analysis, Problem-solving, Decision-making, Collaboration",
         0.19449396781321313
        ],
        [
         "Array, Binary Search, Sorting",
         "Linux System Administration, HPC Cluster Management (SLURM, LSF), Configuration Management (Ansible, Puppet, Terraform), System Monitoring & Alerting (Prometheus, Grafana, Telegraf, Splunk), High-Performance Computing (HPC), Distributed Systems, Networking (TCP/IP, IPoIB), Storage Technologies, Python, Go, Bash, Root Cause Analysis, Automation, Documentation, Communication, Time Management, GPU Computing, High-Throughput Networks, High-Performance Storage, Containerization (Docker, Kubernetes, Singularity), Cloud Computing, Hardware Accelerators (FPGA, ASIC), Parallel Filesystems, Security, Scalability",
         0.14155132721754768
        ],
        [
         "Array, Dynamic Programming, Matrix",
         "Linux System Administration, HPC Cluster Management (SLURM, LSF), Configuration Management (Ansible, Puppet, Terraform), System Monitoring & Alerting (Prometheus, Grafana, Telegraf, Splunk), High-Performance Computing (HPC), Distributed Systems, Networking (TCP/IP, IPoIB), Storage Technologies, Python, Go, Bash, Root Cause Analysis, Automation, Documentation, Communication, Time Management, GPU Computing, High-Throughput Networks, High-Performance Storage, Containerization (Docker, Kubernetes, Singularity), Cloud Computing, Hardware Accelerators (FPGA, ASIC), Parallel Filesystems, Security, Scalability",
         0.1593243961621608
        ],
        [
         "Array, Hash Table, Greedy, Counting",
         "Linux System Administration, HPC Cluster Management (SLURM, LSF), Configuration Management (Ansible, Puppet, Terraform), System Monitoring & Alerting (Prometheus, Grafana, Telegraf, Splunk), High-Performance Computing (HPC), Distributed Systems, Networking (TCP/IP, IPoIB), Storage Technologies, Python, Go, Bash, Root Cause Analysis, Automation, Documentation, Communication, Time Management, GPU Computing, High-Throughput Networks, High-Performance Storage, Containerization (Docker, Kubernetes, Singularity), Cloud Computing, Hardware Accelerators (FPGA, ASIC), Parallel Filesystems, Security, Scalability",
         0.13523235743798848
        ],
        [
         "Array, Matrix",
         "Linux System Administration, HPC Cluster Management (SLURM, LSF), Configuration Management (Ansible, Puppet, Terraform), System Monitoring & Alerting (Prometheus, Grafana, Telegraf, Splunk), High-Performance Computing (HPC), Distributed Systems, Networking (TCP/IP, IPoIB), Storage Technologies, Python, Go, Bash, Root Cause Analysis, Automation, Documentation, Communication, Time Management, GPU Computing, High-Throughput Networks, High-Performance Storage, Containerization (Docker, Kubernetes, Singularity), Cloud Computing, Hardware Accelerators (FPGA, ASIC), Parallel Filesystems, Security, Scalability",
         0.15356033073206032
        ],
        [
         "Array, Backtracking, Bit Manipulation, Matrix",
         "Linux System Administration, HPC Cluster Management (SLURM, LSF), Configuration Management (Ansible, Puppet, Terraform), System Monitoring & Alerting (Prometheus, Grafana, Telegraf, Splunk), High-Performance Computing (HPC), Distributed Systems, Networking (TCP/IP, IPoIB), Storage Technologies, Python, Go, Bash, Root Cause Analysis, Automation, Documentation, Communication, Time Management, GPU Computing, High-Throughput Networks, High-Performance Storage, Containerization (Docker, Kubernetes, Singularity), Cloud Computing, Hardware Accelerators (FPGA, ASIC), Parallel Filesystems, Security, Scalability",
         0.16021039078145155
        ],
        [
         "Array, Hash Table, Divide and Conquer, Sorting, Heap (Priority Queue), Bucket Sort, Counting, Quickselect",
         "Customer service, communication, hospitality, teamwork",
         0.15856945083942264
        ],
        [
         "Array, Bit Manipulation, Breadth-First Search, Matrix",
         "Software Development, Requirements Gathering, Implementation, Maintenance, Software Design, Embedded Code Development, Debugging, Troubleshooting, Linux, BSD, VxWorks, Computer Networking, C, C++, Python, Layer 2 VPN, Layer 3 VPN, BGP, VPLS, IP-VPN, mVPN, Virtualized Switching, OpenVswitch, Nexus 1000v, Server Virtualization, KVM, Xen, VMware ESXi, SD-WAN, Product Management, QA Support, Customer Support",
         0.15609182431944646
        ],
        [
         "Array, Hash Table, String, Graph, Topological Sort",
         "Software Development, Requirements Gathering, Implementation, Maintenance, Software Design, Embedded Code Development, Debugging, Troubleshooting, Linux, BSD, VxWorks, Computer Networking, C, C++, Python, Layer 2 VPN, Layer 3 VPN, BGP, VPLS, IP-VPN, mVPN, Virtualized Switching, OpenVswitch, Nexus 1000v, Server Virtualization, KVM, Xen, VMware ESXi, SD-WAN, Product Management, QA Support, Customer Support",
         0.12659893609234132
        ],
        [
         "Array manipulation, Hash table usage, Algorithm design, Time complexity analysis, Space complexity analysis",
         "Java, Oracle, SQL Server, Hibernate, Swing, Agile, Test-oriented development, Object-oriented design, Design patterns, Cloud solutions, Continuous Integration, System architecture, Software development lifecycle (SDLC), Documentation, Code review",
         0.1425211748480797
        ],
        [
         "Tree, Depth-First Search, Binary Tree",
         "C#, PowerShell, Software Development, Debugging, Troubleshooting, System Tuning, Capacity Planning, Performance Analysis, Security, Scalability, Reliability, Automation, DevOps, Service Engineering, System Architecture, Code Review,  Problem Solving,  On-Call Support, Disaster Recovery, Business Continuity Planning,  Distributed Systems, Virtualization (Hyper-V, VMWare),  Customer Focus, Live Site Operations,  Analytical Skills, Communication Skills, Interpersonal Skills,  Multitasking,  Customer Service, Supply Chain (Preferred), Operations Analytics (Preferred)",
         0.137812536675483
        ],
        [
         "Hash Table, Binary Search, Tree, Depth-First Search, Binary Tree",
         "C#, PowerShell, Software Development, Debugging, Troubleshooting, System Tuning, Capacity Planning, Performance Analysis, Security, Scalability, Reliability, Automation, DevOps, Service Engineering, System Architecture, Code Review,  Problem Solving,  On-Call Support, Disaster Recovery, Business Continuity Planning,  Distributed Systems, Virtualization (Hyper-V, VMWare),  Customer Focus, Live Site Operations,  Analytical Skills, Communication Skills, Interpersonal Skills,  Multitasking,  Customer Service, Supply Chain (Preferred), Operations Analytics (Preferred)",
         0.1269546380615793
        ],
        [
         "Linked List manipulation,Pointer manipulation,Algorithm design,Problem solving",
         "budgeting, data analysis, expense management, communication, problem solving, detail-oriented, time management, adaptability, interpersonal skills, financial planning, financial analysis, forecasting, financial modeling, reporting tools (Hyperion, GEAR), business case development, strategic planning, collaboration, influencing skills, business acumen, teamwork",
         0.19597391817452653
        ],
        [
         "Math",
         "Software Development, Performance Engineering, Service Reliability Engineering, Data Analysis, Problem Diagnosis, Object-oriented Programming (Java, C#, Scala), Profiling, Thread Dump Analysis, Heap Dump Analysis, Garbage Collection Analysis, CPU Utilization Analysis, Thread Utilization Analysis, SQL, NoSQL, Distributed Systems, Cloud Computing (Public/Private), Stakeholder Communication, Tool Development, Prototyping, Architectural Influence",
         0.21422950957309117
        ],
        [
         "Stack, Design",
         "PCB design, Software development, Coding, C/C++, Python, Embedded systems, Firmware, Altium Designer, KiCad, Eagle PCB, Electrical Engineering, Problem-solving, Communication, Teamwork, Stakeholder management, Client collaboration, Supplier management, Safety standards (electric vehicles), Sustainability, Micromobility, Strategic product innovation",
         0.26240171097396386
        ],
        [
         "Multithreading,Synchronization,Concurrency,Problem-solving,Java",
         "PCB design, Software development, Coding, C/C++, Python, Embedded systems, Firmware, Altium Designer, KiCad, Eagle PCB, Electrical Engineering, Problem-solving, Communication, Teamwork, Stakeholder management, Client collaboration, Supplier management, Safety standards (electric vehicles), Sustainability, Micromobility, Strategic product innovation",
         0.20580241632248675
        ],
        [
         "Algorithm design,Time complexity analysis,Space complexity analysis,Array manipulation",
         "AWS, Linux, Bash/Perl/Ruby/Python, Splunk/Wavefront/Zabbix/ELK/Prometheus/Grafana, Software Development, DevOps, SRE, Monitoring, Observability, Alerting, Automation, Agile, Team Leadership, Communication, Problem-solving",
         0.14022738623122374
        ],
        [
         "Problem-solving, String manipulation, 2D array manipulation, Algorithm design, Pathfinding",
         "SEO, Local SEO, PPC, Facebook Ads, Google Analytics, Ahrefs, Screaming Frog, SEMrush,  Website Content Writing,  Blog Writing,  Marketing Strategy,  Campaign Performance Tracking & Reporting,  Communication (written & verbal),  Interpersonal Skills, Customer Service,  Project Management, Time Management, Organization, Detail-Oriented,  Teamwork,  Resourcefulness,  Problem-solving,  Creative Thinking,  Flexible Schedule,  Bilingual (plus)",
         0.1430014815479517
        ],
        [
         "String manipulation,Array manipulation,Counting,Logical reasoning,Algorithm design",
         "financial analysis, accounting, Microsoft Excel, data analysis, financial reporting, project management, account reconciliation, communication, organization, time management, flexibility, team collaboration, influencing, KPI tracking, cash flow management",
         0.16579023083051048
        ],
        [
         "Tree construction, recursion, array manipulation, algorithm design",
         "financial analysis, budgeting, strategic planning, financial regulations, accounting principles, risk assessment, data analysis, leadership, communication, collaboration, problem solving, interpersonal skills, strategic thinking, relationship building, teamwork, forecasting, financial reporting, return on investment analysis, CPA, MBA, mentoring, inspiration",
         0.14559152379462664
        ],
        [
         "Probability,Randomization,Array manipulation,Algorithm design",
         "HTML, CSS, Ajax, JavaScript, Angular, PHP, Node.js, Object-Oriented Programming, Single Page Application development, Responsive Web Design, Web Development, Software Development, Debugging, Testing, Code Review, Cloud Native Architecture, Problem-solving, Analytical skills, Communication (written & verbal), Teamwork, Collaboration",
         0.15901401778683066
        ],
        [
         "Array, Greedy, Bit Manipulation",
         "financial analysis, budgeting, strategic planning, financial regulations, accounting principles, risk assessment, data analysis, leadership, communication, collaboration, problem solving, interpersonal skills, strategic thinking, relationship building, teamwork, forecasting, financial reporting, return on investment analysis, CPA, MBA, mentoring, inspiration",
         0.1534605331323815
        ],
        [
         "Array, Design, Counting, Iterator",
         "financial analysis, budgeting, strategic planning, financial regulations, accounting principles, risk assessment, data analysis, leadership, communication, collaboration, problem solving, interpersonal skills, strategic thinking, relationship building, teamwork, forecasting, financial reporting, return on investment analysis, CPA, MBA, mentoring, inspiration",
         0.1898388814350421
        ],
        [
         "Array, Matrix",
         "financial analysis, budgeting, strategic planning, financial regulations, accounting principles, risk assessment, data analysis, leadership, communication, collaboration, problem solving, interpersonal skills, strategic thinking, relationship building, teamwork, forecasting, financial reporting, return on investment analysis, CPA, MBA, mentoring, inspiration",
         0.15250127466226165
        ],
        [
         "Array, Hash Table, Math, Bit Manipulation, Prefix Sum",
         "financial analysis, budgeting, strategic planning, financial regulations, accounting principles, risk assessment, data analysis, leadership, communication, collaboration, problem solving, interpersonal skills, strategic thinking, relationship building, teamwork, forecasting, financial reporting, return on investment analysis, CPA, MBA, mentoring, inspiration",
         0.1509156253019517
        ],
        [
         "Array, Hash Table, Math, Number Theory",
         "financial analysis, budgeting, strategic planning, financial regulations, accounting principles, risk assessment, data analysis, leadership, communication, collaboration, problem solving, interpersonal skills, strategic thinking, relationship building, teamwork, forecasting, financial reporting, return on investment analysis, CPA, MBA, mentoring, inspiration",
         0.15851929371075874
        ],
        [
         "Array, Hash Table, String",
         "financial analysis, budgeting, strategic planning, financial regulations, accounting principles, risk assessment, data analysis, leadership, communication, collaboration, problem solving, interpersonal skills, strategic thinking, relationship building, teamwork, forecasting, financial reporting, return on investment analysis, CPA, MBA, mentoring, inspiration",
         0.12082599109095153
        ],
        [
         "Array, Heap (Priority Queue)",
         "financial analysis, budgeting, strategic planning, financial regulations, accounting principles, risk assessment, data analysis, leadership, communication, collaboration, problem solving, interpersonal skills, strategic thinking, relationship building, teamwork, forecasting, financial reporting, return on investment analysis, CPA, MBA, mentoring, inspiration",
         0.09387948355552825
        ],
        [
         "Array, Matrix, Enumeration",
         "financial analysis, budgeting, strategic planning, financial regulations, accounting principles, risk assessment, data analysis, leadership, communication, collaboration, problem solving, interpersonal skills, strategic thinking, relationship building, teamwork, forecasting, financial reporting, return on investment analysis, CPA, MBA, mentoring, inspiration",
         0.1516260357404297
        ],
        [
         "Array, Simulation",
         "financial analysis, budgeting, strategic planning, financial regulations, accounting principles, risk assessment, data analysis, leadership, communication, collaboration, problem solving, interpersonal skills, strategic thinking, relationship building, teamwork, forecasting, financial reporting, return on investment analysis, CPA, MBA, mentoring, inspiration",
         0.1377066404093057
        ],
        [
         "Array, Hash Table, Greedy",
         "Strategic Planning, Project Management, Technology Innovation, Consumer Technology Expertise,  Data Analytics, Business Strategy,  Digital Transformation,  Team Leadership,  Communication (written & oral), Presentation Skills, Relationship Building, Servant Leadership,  Problem-solving,  Negotiation,  Financial Analysis,  Product Management,  IT Infrastructure Knowledge,  Cloud Technologies,  Emerging Technology Awareness,  Regulatory Compliance (PCI, HIPAA),  Stakeholder Management,  Innovation,  Product Development,  Hardware/Software Knowledge,  Mobile App Development,  Electrical Systems, Control Systems.",
         0.11147106464375699
        ],
        [
         "Array, Dynamic Programming",
         "Strategic Planning, Project Management, Technology Innovation, Consumer Technology Expertise,  Data Analytics, Business Strategy,  Digital Transformation,  Team Leadership,  Communication (written & oral), Presentation Skills, Relationship Building, Servant Leadership,  Problem-solving,  Negotiation,  Financial Analysis,  Product Management,  IT Infrastructure Knowledge,  Cloud Technologies,  Emerging Technology Awareness,  Regulatory Compliance (PCI, HIPAA),  Stakeholder Management,  Innovation,  Product Development,  Hardware/Software Knowledge,  Mobile App Development,  Electrical Systems, Control Systems.",
         0.15530343702994287
        ],
        [
         "Array, Greedy, Matrix",
         "Strategic Planning, Project Management, Technology Innovation, Consumer Technology Expertise,  Data Analytics, Business Strategy,  Digital Transformation,  Team Leadership,  Communication (written & oral), Presentation Skills, Relationship Building, Servant Leadership,  Problem-solving,  Negotiation,  Financial Analysis,  Product Management,  IT Infrastructure Knowledge,  Cloud Technologies,  Emerging Technology Awareness,  Regulatory Compliance (PCI, HIPAA),  Stakeholder Management,  Innovation,  Product Development,  Hardware/Software Knowledge,  Mobile App Development,  Electrical Systems, Control Systems.",
         0.14187930690656816
        ],
        [
         "Array, Hash Table, Two Pointers, Binary Search, Sorting",
         "Strategic Planning, Project Management, Technology Innovation, Consumer Technology Expertise,  Data Analytics, Business Strategy,  Digital Transformation,  Team Leadership,  Communication (written & oral), Presentation Skills, Relationship Building, Servant Leadership,  Problem-solving,  Negotiation,  Financial Analysis,  Product Management,  IT Infrastructure Knowledge,  Cloud Technologies,  Emerging Technology Awareness,  Regulatory Compliance (PCI, HIPAA),  Stakeholder Management,  Innovation,  Product Development,  Hardware/Software Knowledge,  Mobile App Development,  Electrical Systems, Control Systems.",
         0.11098413337687296
        ],
        [
         "Algorithm design,Sorting algorithms,Time complexity analysis,Space complexity analysis",
         "Linux System Administration, HPC Cluster Management (SLURM, LSF), Configuration Management (Ansible, Puppet, Terraform), System Monitoring & Alerting (Prometheus, Grafana, Telegraf, Splunk), High-Performance Computing (HPC), Distributed Systems, Networking (TCP/IP, IPoIB), Storage Technologies, Python, Go, Bash, Root Cause Analysis, Automation, Documentation, Communication, Time Management, GPU Computing, High-Throughput Networks, High-Performance Storage, Containerization (Docker, Kubernetes, Singularity), Cloud Computing, Hardware Accelerators (FPGA, ASIC), Parallel Filesystems, Security, Scalability",
         0.14643954209251597
        ],
        [
         "Tree, Depth-First Search, Binary Tree",
         "Statistical methods, Causal inference, Data analysis, Data visualization, Data interpretation, SQL, Python, R, Project management, Data storytelling, Communication, Stakeholder management, Teamwork, Mentorship,  Product data analysis, Revenue data analysis",
         0.1752987583167851
        ],
        [
         "Array, Dynamic Programming, Queue, Sliding Window, Heap (Priority Queue), Monotonic Queue",
         "accounting principles, communication, teamwork, financial management, liquidity management, asset/liability management (ALM), profitability reporting, financial analysis, cost accounting, data analytics, CPA, CFA, financial forecasting, strategic planning, leadership, problem solving, advisory skills, engagement, ownership",
         0.12710220410014714
        ],
        [
         "Hash Table, Design, Heap (Priority Queue), Data Stream, Ordered Set",
         "accounting principles, communication, teamwork, financial management, liquidity management, asset/liability management (ALM), profitability reporting, financial analysis, cost accounting, data analytics, CPA, CFA, financial forecasting, strategic planning, leadership, problem solving, advisory skills, engagement, ownership",
         0.13833087823892892
        ],
        [
         "Data structures,Algorithm design,Time complexity analysis",
         "C/C++, Python, Linux-based development, VLSI CAD algorithm development, data structures, algorithms, software engineering principles, strong verbal and written communication skills, strong teamwork skills, problem-solving skills, analysis skills, programming skills, debugging skills, troubleshooting skills, statistical analysis, machine learning, deep learning,  routing algorithm knowledge, quality and software processes, Unix/Linux platform experience",
         0.2573747302095095
        ],
        [
         "Array, Two Pointers, Binary Search, Sorting",
         "HTML, CSS, Ajax, JavaScript, Angular, PHP, Node.js, Object-Oriented Programming, Single Page Application development, Responsive Web Design, Web Development, Software Development, Debugging, Testing, Code Review, Cloud Native Architecture, Problem-solving, Analytical skills, Communication (written & verbal), Teamwork, Collaboration",
         0.1533529733396357
        ],
        [
         "Math, Binary Search",
         "HTML, CSS, Ajax, JavaScript, Angular, PHP, Node.js, Object-Oriented Programming, Single Page Application development, Responsive Web Design, Web Development, Software Development, Debugging, Testing, Code Review, Cloud Native Architecture, Problem-solving, Analytical skills, Communication (written & verbal), Teamwork, Collaboration",
         0.1761976649452533
        ],
        [
         "Array, String, Binary Search, Trie, Sorting, Heap (Priority Queue)",
         "Linux System Administration, DevOps, Cloud Engineering, Automation,  Bash Scripting, SSH, Git,  Jenkins, Consul, Vault,  Networking, TCP/IP, DNS, HTTP, TLS, Web Security,  Troubleshooting,  Monitoring (Nagios, Cacti, Grafana, ELK), HAProxy, Kubernetes,  Infrastructure as Code (IaC), Configuration Management, CI/CD, Containerization, Virtualization, MySQL,  Backup and Restore,  Documentation,  Communication,  Problem-solving,  Software Updates,  High Availability (HA),  Security, CentOS, Ubuntu,  Python/other interpreted languages (Preferred),  Email Server Administration (Preferred)",
         0.14019916391698645
        ],
        [
         "Array, Hash Table, Binary Search, Design",
         "Linux System Administration, DevOps, Cloud Engineering, Automation,  Bash Scripting, SSH, Git,  Jenkins, Consul, Vault,  Networking, TCP/IP, DNS, HTTP, TLS, Web Security,  Troubleshooting,  Monitoring (Nagios, Cacti, Grafana, ELK), HAProxy, Kubernetes,  Infrastructure as Code (IaC), Configuration Management, CI/CD, Containerization, Virtualization, MySQL,  Backup and Restore,  Documentation,  Communication,  Problem-solving,  Software Updates,  High Availability (HA),  Security, CentOS, Ubuntu,  Python/other interpreted languages (Preferred),  Email Server Administration (Preferred)",
         0.1552248350111768
        ],
        [
         "Array, Hash Table, String, Binary Search, Sorting",
         "Linux System Administration, DevOps, Cloud Engineering, Automation,  Bash Scripting, SSH, Git,  Jenkins, Consul, Vault,  Networking, TCP/IP, DNS, HTTP, TLS, Web Security,  Troubleshooting,  Monitoring (Nagios, Cacti, Grafana, ELK), HAProxy, Kubernetes,  Infrastructure as Code (IaC), Configuration Management, CI/CD, Containerization, Virtualization, MySQL,  Backup and Restore,  Documentation,  Communication,  Problem-solving,  Software Updates,  High Availability (HA),  Security, CentOS, Ubuntu,  Python/other interpreted languages (Preferred),  Email Server Administration (Preferred)",
         0.14377619326114655
        ],
        [
         "Array, Stack, Monotonic Stack",
         "Linux/UNIX administration, Docker, docker-compose, containerized development, Ansible, Packer, Terraform, OpenShift, Kubernetes, Bash, Python, Node.js, Application clustering, load balancing, VMware vSphere API, Gitlab CI/CD, networking fundamentals, command line tools, HTTP, SSL, LDAP, SQL, HTML, XML, PostgreSQL, Keepalived,  CI/CD, Blue/Green Deployments,  Consul,  Atomic Host,  distributed computing, data systems, immutable infrastructure, serverless computing",
         0.14409755175823674
        ],
        [
         "Array, Binary Search, Stack, Binary Indexed Tree, Segment Tree, Heap (Priority Queue), Monotonic Stack",
         "Linux/UNIX administration, Docker, docker-compose, containerized development, Ansible, Packer, Terraform, OpenShift, Kubernetes, Bash, Python, Node.js, Application clustering, load balancing, VMware vSphere API, Gitlab CI/CD, networking fundamentals, command line tools, HTTP, SSL, LDAP, SQL, HTML, XML, PostgreSQL, Keepalived,  CI/CD, Blue/Green Deployments,  Consul,  Atomic Host,  distributed computing, data systems, immutable infrastructure, serverless computing",
         0.12187354409863718
        ],
        [
         "Array, Binary Search",
         "Linux/UNIX administration, Docker, docker-compose, containerized development, Ansible, Packer, Terraform, OpenShift, Kubernetes, Bash, Python, Node.js, Application clustering, load balancing, VMware vSphere API, Gitlab CI/CD, networking fundamentals, command line tools, HTTP, SSL, LDAP, SQL, HTML, XML, PostgreSQL, Keepalived,  CI/CD, Blue/Green Deployments,  Consul,  Atomic Host,  distributed computing, data systems, immutable infrastructure, serverless computing",
         0.13044342373990836
        ],
        [
         "Array, Hash Table, String, Sorting",
         "Linux/UNIX administration, Docker, docker-compose, containerized development, Ansible, Packer, Terraform, OpenShift, Kubernetes, Bash, Python, Node.js, Application clustering, load balancing, VMware vSphere API, Gitlab CI/CD, networking fundamentals, command line tools, HTTP, SSL, LDAP, SQL, HTML, XML, PostgreSQL, Keepalived,  CI/CD, Blue/Green Deployments,  Consul,  Atomic Host,  distributed computing, data systems, immutable infrastructure, serverless computing",
         0.14344899088609964
        ],
        [
         "Array",
         "Linux/UNIX administration, Docker, docker-compose, containerized development, Ansible, Packer, Terraform, OpenShift, Kubernetes, Bash, Python, Node.js, Application clustering, load balancing, VMware vSphere API, Gitlab CI/CD, networking fundamentals, command line tools, HTTP, SSL, LDAP, SQL, HTML, XML, PostgreSQL, Keepalived,  CI/CD, Blue/Green Deployments,  Consul,  Atomic Host,  distributed computing, data systems, immutable infrastructure, serverless computing",
         0.13219476721304305
        ]
       ],
       "datasetInfos": [],
       "dbfsResultPath": null,
       "isJsonSchema": true,
       "metadata": {},
       "overflow": false,
       "plotOptions": {
        "customPlotOptions": {},
        "displayType": "table",
        "pivotAggregation": null,
        "pivotColumns": null,
        "xColumns": null,
        "yColumns": null
       },
       "removedWidgets": [],
       "schema": [
        {
         "metadata": "{}",
         "name": "topics",
         "type": "\"string\""
        },
        {
         "metadata": "{}",
         "name": "skills",
         "type": "\"string\""
        },
        {
         "metadata": "{}",
         "name": "similarity",
         "type": "\"double\""
        }
       ],
       "type": "table"
      }
     },
     "output_type": "display_data"
    },
    {
     "data": {
      "text/html": [
       "<style scoped>\n",
       "  .table-result-container {\n",
       "    max-height: 300px;\n",
       "    overflow: auto;\n",
       "  }\n",
       "  table, th, td {\n",
       "    border: 1px solid black;\n",
       "    border-collapse: collapse;\n",
       "  }\n",
       "  th, td {\n",
       "    padding: 5px;\n",
       "  }\n",
       "  th {\n",
       "    text-align: left;\n",
       "  }\n",
       "</style><div class='table-result-container'><table class='table-result'><thead style='background-color: white'><tr><th>topics</th><th>skills</th><th>similarity</th></tr></thead><tbody><tr><td>Conflict resolution, customer service, communication, empathy, problem-solving</td><td>Troubleshooting, Customer Support, Network Engineering,  WAN Operations, TCP/IP, OSI Model, Linux/UNIX, VMware, Network Security, Windows OS,  Communication (written & verbal - English & Japanese),  Data Analysis, Problem-solving,  KCS Methodology,  Siebel (CRM),  Public/Private Cloud Technologies, Scripting (e.g., Python, JavaScript), Containerization (e.g., Docker),  Container Orchestration (e.g., Kubernetes), Automation (e.g., Ansible),  Technical Documentation,  Multitasking, Prioritization, Teamwork,  ISO Quality Management Systems.</td><td>0.2223421096801758</td></tr><tr><td>Understanding of convolutional neural networks, critical thinking, problem-solving</td><td>Statistical analysis, Data modeling, RFM analysis, Predictive modeling, Marketing mix modeling, Attribution modeling, A/B testing, Multivariate testing, Regression analysis, Cluster analysis, CHAID, Factor analysis, Principal component analysis, Time series analysis, Survival analysis, Experimental design, SQL, R, Python, Data visualization, Presentation skills, Communication skills, Project management, Collaboration, Data quality assurance (QA/QC), Database marketing</td><td>0.2268657122667019</td></tr><tr><td>Problem-solving, critical thinking, understanding of machine learning concepts</td><td>C/C++, Python, Linux-based development, VLSI CAD algorithm development, data structures, algorithms, software engineering principles, strong verbal and written communication skills, strong teamwork skills, problem-solving skills, analysis skills, programming skills, debugging skills, troubleshooting skills, statistical analysis, machine learning, deep learning,  routing algorithm knowledge, quality and software processes, Unix/Linux platform experience</td><td>0.2834614831954241</td></tr><tr><td>Deep learning,Gradient descent optimization,Debugging,Problem-solving</td><td>Linux/UNIX administration, Docker, docker-compose, containerized development, Ansible, Packer, Terraform, OpenShift, Kubernetes, Bash, Python, Node.js, Application clustering, load balancing, VMware vSphere API, Gitlab CI/CD, networking fundamentals, command line tools, HTTP, SSL, LDAP, SQL, HTML, XML, PostgreSQL, Keepalived,  CI/CD, Blue/Green Deployments,  Consul,  Atomic Host,  distributed computing, data systems, immutable infrastructure, serverless computing</td><td>0.14669105443446076</td></tr><tr><td>Mathematical reasoning,Computational complexity analysis,Algorithm understanding</td><td>Software development, Data structures, Algorithms, C, C++, Java, JavaScript, Python, C#, Go, Web application development, Mobile application development, Unix/Linux environments, Distributed systems, Parallel systems, Machine learning, Information retrieval, Natural language processing, Networking, Large software system development, Security software development, UI development, AJAX, Embedded systems, Mobile app development (Android/iOS), Developer tools, Automated test system development, Cloud-based computing, Problem-solving, Leadership, Communication (written and verbal English)</td><td>0.2089879236394359</td></tr><tr><td>Understanding of deep learning concepts,Knowledge of gradient descent,Problem-solving</td><td>financial analysis, accounting, Microsoft Excel, data analysis, financial reporting, project management, account reconciliation, communication, organization, time management, flexibility, team collaboration, influencing, KPI tracking, cash flow management</td><td>0.253946195046107</td></tr><tr><td>Deep learning,Gradient descent optimization,Debugging,Problem-solving</td><td>financial analysis, accounting, Microsoft Excel, data analysis, financial reporting, project management, account reconciliation, communication, organization, time management, flexibility, team collaboration, influencing, KPI tracking, cash flow management</td><td>0.253946195046107</td></tr><tr><td>Problem-solving, critical thinking, understanding of machine learning concepts</td><td>Linux/UNIX administration, Docker, docker-compose, containerized development, Ansible, Packer, Terraform, OpenShift, Kubernetes, Bash, Python, Node.js, Application clustering, load balancing, VMware vSphere API, Gitlab CI/CD, networking fundamentals, command line tools, HTTP, SSL, LDAP, SQL, HTML, XML, PostgreSQL, Keepalived,  CI/CD, Blue/Green Deployments,  Consul,  Atomic Host,  distributed computing, data systems, immutable infrastructure, serverless computing</td><td>0.14669105443446076</td></tr><tr><td>Understanding of neural networks,Understanding of activation functions,Problem-solving,Critical thinking</td><td>Linux/UNIX administration, Docker, docker-compose, containerized development, Ansible, Packer, Terraform, OpenShift, Kubernetes, Bash, Python, Node.js, Application clustering, load balancing, VMware vSphere API, Gitlab CI/CD, networking fundamentals, command line tools, HTTP, SSL, LDAP, SQL, HTML, XML, PostgreSQL, Keepalived,  CI/CD, Blue/Green Deployments,  Consul,  Atomic Host,  distributed computing, data systems, immutable infrastructure, serverless computing</td><td>0.14669105443446076</td></tr><tr><td>Conflict resolution, customer service, communication, empathy, problem-solving</td><td>SQL, RDBMS, Non-RDBMS, MySQL, PostgreSQL, MongoDB, Python, Jupyter Notebook, Inferential Statistics, Probability, ETL, Data Pipeline, Automated Reporting, Data Analysis, Statistical Modeling, Machine Learning, Git, Hive, Spark, Presto, Diagnostic Analytics, Forecasting, Big Data</td><td>0.19906450727063676</td></tr><tr><td>Problem-solving, communication, critical thinking, storytelling, self-awareness</td><td>JavaScript, Node.js, TypeScript, React, Java, Spring, Postgres, Kubernetes, Software Architecture, Web Application Development, Developer Tooling, Code Review, Mentoring, Problem Solving, Communication, Collaboration,  Internationalization</td><td>0.24252368728904164</td></tr><tr><td>Self-awareness, self-reflection, communication, storytelling, problem-solving</td><td>Linux System Administration, HPC Cluster Management (SLURM, LSF), Configuration Management (Ansible, Puppet, Terraform), System Monitoring & Alerting (Prometheus, Grafana, Telegraf, Splunk), High-Performance Computing (HPC), Distributed Systems, Networking (TCP/IP, IPoIB), Storage Technologies, Python, Go, Bash, Root Cause Analysis, Automation, Documentation, Communication, Time Management, GPU Computing, High-Throughput Networks, High-Performance Storage, Containerization (Docker, Kubernetes, Singularity), Cloud Computing, Hardware Accelerators (FPGA, ASIC), Parallel Filesystems, Security, Scalability</td><td>0.16976599956729582</td></tr><tr><td>Deep learning,Gradient descent optimization,Debugging,Problem-solving</td><td>Software Engineering, Database Management (Informix, PostgreSQL, MySQL, MongoDB, Progress), Process Automation, Data Visualization (SSRS, Tableau, PowerBI), Python, Java, Scala, R, Maven, Gradle, Automation Testing, Regression Testing, Performance Testing, Git/GitHub, Agile Development, CI/CD, Test Data Management,  Self-Service Portal Development, SecDevOps, Communication (written & verbal), Leadership, Problem-Solving,  Reporting and Metrics,  Cloud Platforms (AWS, PCF, Kubernetes), Monitoring Tools (Grafana, Elastic/ELK, AppDynamics, Kafka, Kibana, Prometheus, Splunk, Big Panda), Jenkins, Artifactory, Gitlab, SonarQube</td><td>0.17599063307385554</td></tr><tr><td>Linear algebra,Matrix operations,Computational efficiency,Algorithm optimization</td><td>Linux System Administration, DevOps, Cloud Engineering, Automation,  Bash Scripting, SSH, Git,  Jenkins, Consul, Vault,  Networking, TCP/IP, DNS, HTTP, TLS, Web Security,  Troubleshooting,  Monitoring (Nagios, Cacti, Grafana, ELK), HAProxy, Kubernetes,  Infrastructure as Code (IaC), Configuration Management, CI/CD, Containerization, Virtualization, MySQL,  Backup and Restore,  Documentation,  Communication,  Problem-solving,  Software Updates,  High Availability (HA),  Security, CentOS, Ubuntu,  Python/other interpreted languages (Preferred),  Email Server Administration (Preferred)</td><td>0.1402215858688578</td></tr><tr><td>Linear algebra,Matrix operations,Computational efficiency,Algorithm optimization</td><td>Software Engineering, Programming (C, C++, Java, Python, Go), System Design, System Reliability, Observability Tooling, Scalability Engineering, Distributed Systems, Collaboration, Requirements Gathering, Mentoring, Documentation, Data Science (familiarity helpful)</td><td>0.2110651081893593</td></tr><tr><td>Understanding of activation functions,Knowledge of neural networks,Comparative analysis,Problem-solving</td><td>Linux/UNIX administration, Docker, docker-compose, containerized development, Ansible, Packer, Terraform, OpenShift, Kubernetes, Bash, Python, Node.js, Application clustering, load balancing, VMware vSphere API, Gitlab CI/CD, networking fundamentals, command line tools, HTTP, SSL, LDAP, SQL, HTML, XML, PostgreSQL, Keepalived,  CI/CD, Blue/Green Deployments,  Consul,  Atomic Host,  distributed computing, data systems, immutable infrastructure, serverless computing</td><td>0.14669105443446076</td></tr><tr><td>Communication skills, self-awareness, critical thinking, problem-solving</td><td>Statistical modeling, Machine learning, Natural language processing, Time series analysis, Mathematical optimization, Graph theory, Quantitative finance, Python, R, Symbolic AI, Hybrid symbolic and machine learning, Data engineering, MLOps, Data visualization, Model risk management, Model governance, Cloud computing, Version control, DevOps, Financial services, Wealth management, Model validation, Model monitoring, Model explainability, Model interpretability, Transformer models, K-shot learning, Self-supervised learning, Algorithm research, Stakeholder management, Communication, Presentation skills, Technical communication, Data analysis, Problem-solving, Decision-making, Collaboration</td><td>0.27456566067160787</td></tr><tr><td>Problem-solving, Storytelling, Self-awareness,  Communication</td><td>financial analysis, accounting, Microsoft Excel, data analysis, financial reporting, project management, account reconciliation, communication, organization, time management, flexibility, team collaboration, influencing, KPI tracking, cash flow management</td><td>0.253946195046107</td></tr><tr><td>Understanding of convolutional neural networks, critical thinking, problem-solving</td><td>Strategic Planning, Project Management, Technology Innovation, Consumer Technology Expertise,  Data Analytics, Business Strategy,  Digital Transformation,  Team Leadership,  Communication (written & oral), Presentation Skills, Relationship Building, Servant Leadership,  Problem-solving,  Negotiation,  Financial Analysis,  Product Management,  IT Infrastructure Knowledge,  Cloud Technologies,  Emerging Technology Awareness,  Regulatory Compliance (PCI, HIPAA),  Stakeholder Management,  Innovation,  Product Development,  Hardware/Software Knowledge,  Mobile App Development,  Electrical Systems, Control Systems.</td><td>0.2925628088414669</td></tr><tr><td>Critical thinking, Problem-solving, Analytical skills</td><td>AWS, Automation, Capacity Management, Cloud Computing, DevOps, Development Processes, Observability, Performance Tuning, Reliability Engineering, Scalability, Security, Service Design, Software Architecture, Troubleshooting,  Application Architecture, Messaging Protocols, Caching Strategies, Software Design Practices, Environment Management, High Availability</td><td>0.23864264972507954</td></tr><tr><td>Communication skills, self-awareness, critical thinking, problem-solving</td><td>accounting principles, communication, teamwork, financial management, liquidity management, asset/liability management (ALM), profitability reporting, financial analysis, cost accounting, data analytics, CPA, CFA, financial forecasting, strategic planning, leadership, problem solving, advisory skills, engagement, ownership</td><td>0.285607049339696</td></tr><tr><td>Linear algebra,Matrix operations,Computational efficiency,Algorithm optimization</td><td>SQL, ETL, A/B Testing, statistical analysis, hypothesis testing, experimentation, regression models, data visualization, R, Python, Matlab, SAS, Chartio, Looker, Tableau, funnel optimization, user segmentation, cohort analysis, time series analysis, mentoring, communication, problem-solving, project management</td><td>0.19610465820068898</td></tr><tr><td>Analysis, Comparison, Critical Thinking, Summarization</td><td>accounting principles, communication, teamwork, financial management, liquidity management, asset/liability management (ALM), profitability reporting, financial analysis, cost accounting, data analytics, CPA, CFA, financial forecasting, strategic planning, leadership, problem solving, advisory skills, engagement, ownership</td><td>0.19229662751680926</td></tr><tr><td>Communication skills, self-awareness, critical thinking, problem-solving</td><td>Linux System Administration, HPC Cluster Management (SLURM, LSF), Configuration Management (Ansible, Puppet, Terraform), System Monitoring & Alerting (Prometheus, Grafana, Telegraf, Splunk), High-Performance Computing (HPC), Distributed Systems, Networking (TCP/IP, IPoIB), Storage Technologies, Python, Go, Bash, Root Cause Analysis, Automation, Documentation, Communication, Time Management, GPU Computing, High-Throughput Networks, High-Performance Storage, Containerization (Docker, Kubernetes, Singularity), Cloud Computing, Hardware Accelerators (FPGA, ASIC), Parallel Filesystems, Security, Scalability</td><td>0.16976599956729582</td></tr><tr><td>Linear algebra,Matrix operations,Computational efficiency,Algorithm optimization</td><td>Data Analysis, Statistical Modeling, Machine Learning, Python/R, SQL/Hive, A/B Testing, Causal Inference, Data Visualization, Communication, Leadership, Problem-solving, Product Design, Web-scale data experience</td><td>0.21423045287911707</td></tr><tr><td>Mathematical reasoning,Computational complexity analysis,Algorithm understanding</td><td>Azure, Terraform, ARM templates, Azure DevOps, Python, PowerShell, Docker, Kubernetes, Agile, Scrum, DevSecOps, Configuration Management, Orchestration, Cloud Services (compute, storage, Key Vault, Azure PaaS), Failure Injection Testing, IAM (least privilege access, password management, audit logging, RBAC, certificate issuance and revocation),  Site Reliability Engineering,  Metrics collection, reporting and alerting,  Continuous Integration,  Horizontal and vertical scalability, Cloud native monitoring,  Excellent communication skills, Problem-solving.</td><td>0.109556911678444</td></tr><tr><td>Understanding of activation functions,Knowledge of neural networks,Comparative analysis,Problem-solving</td><td>JavaScript, Node.js, TypeScript, React, Java, Spring, Postgres, Kubernetes, Software Architecture, Web Application Development, Developer Tooling, Code Review, Mentoring, Problem Solving, Communication, Collaboration,  Internationalization</td><td>0.24252368728904164</td></tr><tr><td>Problem-solving, critical thinking, understanding of machine learning concepts</td><td>Software Engineering, Database Management (Informix, PostgreSQL, MySQL, MongoDB, Progress), Process Automation, Data Visualization (SSRS, Tableau, PowerBI), Python, Java, Scala, R, Maven, Gradle, Automation Testing, Regression Testing, Performance Testing, Git/GitHub, Agile Development, CI/CD, Test Data Management,  Self-Service Portal Development, SecDevOps, Communication (written & verbal), Leadership, Problem-Solving,  Reporting and Metrics,  Cloud Platforms (AWS, PCF, Kubernetes), Monitoring Tools (Grafana, Elastic/ELK, AppDynamics, Kafka, Kibana, Prometheus, Splunk, Big Panda), Jenkins, Artifactory, Gitlab, SonarQube</td><td>0.17599063307385554</td></tr><tr><td>Self-awareness, self-reflection, communication, storytelling, problem-solving</td><td>accounting principles, communication, teamwork, financial management, liquidity management, asset/liability management (ALM), profitability reporting, financial analysis, cost accounting, data analytics, CPA, CFA, financial forecasting, strategic planning, leadership, problem solving, advisory skills, engagement, ownership</td><td>0.285607049339696</td></tr><tr><td>Understanding of deep learning concepts,Knowledge of gradient descent,Problem-solving</td><td>Linux/UNIX administration, Docker, docker-compose, containerized development, Ansible, Packer, Terraform, OpenShift, Kubernetes, Bash, Python, Node.js, Application clustering, load balancing, VMware vSphere API, Gitlab CI/CD, networking fundamentals, command line tools, HTTP, SSL, LDAP, SQL, HTML, XML, PostgreSQL, Keepalived,  CI/CD, Blue/Green Deployments,  Consul,  Atomic Host,  distributed computing, data systems, immutable infrastructure, serverless computing</td><td>0.14669105443446076</td></tr><tr><td>Analysis, Comparison, Critical Thinking, Summarization</td><td>Evaluation, Implementation, Execution, On-premise support, Field work</td><td>0.2846684530377388</td></tr><tr><td>Understanding of neural networks,Understanding of activation functions,Problem-solving,Critical thinking</td><td>Software development, Data structures, Algorithms, C, C++, Java, JavaScript, Python, C#, Go, Web application development, Mobile application development, Unix/Linux environments, Distributed systems, Parallel systems, Machine learning, Information retrieval, Natural language processing, Networking, Large software system development, Security software development, UI development, AJAX, Embedded systems, Mobile app development (Android/iOS), Developer tools, Automated test system development, Cloud-based computing, Problem-solving, Leadership, Communication (written and verbal English)</td><td>0.25190763139436323</td></tr><tr><td>Critical thinking, Problem-solving, Analytical skills</td><td>Customer service, communication, hospitality, teamwork</td><td>0.3192470483481884</td></tr><tr><td>Self-awareness, self-reflection, communication, storytelling, problem-solving</td><td>Linux/UNIX administration, Docker, docker-compose, containerized development, Ansible, Packer, Terraform, OpenShift, Kubernetes, Bash, Python, Node.js, Application clustering, load balancing, VMware vSphere API, Gitlab CI/CD, networking fundamentals, command line tools, HTTP, SSL, LDAP, SQL, HTML, XML, PostgreSQL, Keepalived,  CI/CD, Blue/Green Deployments,  Consul,  Atomic Host,  distributed computing, data systems, immutable infrastructure, serverless computing</td><td>0.14669105443446076</td></tr><tr><td>Conflict resolution, customer service, communication, empathy, problem-solving</td><td>Python, Java, SQL, NoSQL, Key-Value Store, Distributed Systems, Real-time Systems, Software Design, Problem-solving, Team Collaboration, CI/CD, Testing, Secure Coding, Event-driven Architecture, Messaging Frameworks (Pub/Sub, Kafka, RabbitMQ), Cloud Infrastructure (GCP, AWS, Azure)</td><td>0.24591414593160152</td></tr><tr><td>Communication skills, self-awareness, critical thinking, problem-solving</td><td>Linux/UNIX administration, Docker, docker-compose, containerized development, Ansible, Packer, Terraform, OpenShift, Kubernetes, Bash, Python, Node.js, Application clustering, load balancing, VMware vSphere API, Gitlab CI/CD, networking fundamentals, command line tools, HTTP, SSL, LDAP, SQL, HTML, XML, PostgreSQL, Keepalived,  CI/CD, Blue/Green Deployments,  Consul,  Atomic Host,  distributed computing, data systems, immutable infrastructure, serverless computing</td><td>0.14669105443446076</td></tr><tr><td>Understanding of LSTMs, Understanding of Bi-LSTMs, Comparative analysis,  Problem-solving</td><td>C#, PowerShell, Software Development, Debugging, Troubleshooting, System Tuning, Capacity Planning, Performance Analysis, Security, Scalability, Reliability, Automation, DevOps, Service Engineering, System Architecture, Code Review,  Problem Solving,  On-Call Support, Disaster Recovery, Business Continuity Planning,  Distributed Systems, Virtualization (Hyper-V, VMWare),  Customer Focus, Live Site Operations,  Analytical Skills, Communication Skills, Interpersonal Skills,  Multitasking,  Customer Service, Supply Chain (Preferred), Operations Analytics (Preferred)</td><td>0.2649149198550731</td></tr><tr><td>Linear algebra,Matrix operations,Computational efficiency,Algorithm optimization</td><td>Data Mining, Statistical Analysis, Machine Learning, Deep Learning, Data Cleansing, Data Quality Assessment, Exploratory Data Analysis, Data Visualization, Model Development, Predictive Modeling, Prescriptive Modeling, SQL, R, Python, NumPy, Pandas, Scikit-learn, TensorFlow, Agile Development, Data Engineering, Software Development, Stakeholder Management, Communication, Problem-Solving, Business Acumen</td><td>0.22140301451086997</td></tr><tr><td>Problem-solving,Critical thinking,Understanding of N-grams,NLP fundamentals</td><td>Software development, Data structures, Algorithms, C, C++, Java, JavaScript, Python, C#, Go, Web application development, Mobile application development, Unix/Linux environments, Distributed systems, Parallel systems, Machine learning, Information retrieval, Natural language processing, Networking, Large software system development, Security software development, UI development, AJAX, Embedded systems, Mobile app development (Android/iOS), Developer tools, Automated test system development, Cloud-based computing, Problem-solving, Leadership, Communication (written and verbal English)</td><td>0.25190763139436323</td></tr><tr><td>Critical thinking, Problem-solving, Analytical skills</td><td>HTML, CSS, Ajax, JavaScript, Angular, PHP, Node.js, Object-Oriented Programming, Single Page Application development, Responsive Web Design, Web Development, Software Development, Debugging, Testing, Code Review, Cloud Native Architecture, Problem-solving, Analytical skills, Communication (written & verbal), Teamwork, Collaboration</td><td>0.2558793324444975</td></tr><tr><td>Mathematical reasoning,Computational complexity analysis,Algorithm understanding</td><td>Software Development, Salesforce (Apex, Lightning, JavaScript), Middleware (Mulesoft, Dell Boomi, Jitterbit, Kettle), Application Customization (SpringCM, Conga), Data Manipulation, Scripting, Cloud CPQ, Billing Solutions, Agile/Scrum, Version Control (Git), Object-Oriented Programming, Java, C#, C/C++, Python, JavaScript, Problem-Solving, Communication, Teamwork, Web Development (HTML, CSS, Server-side, Client-side), Open Source Contributions</td><td>0.16712005833784738</td></tr><tr><td>Problem-solving, communication, critical thinking, storytelling, self-awareness</td><td>Software development, Data structures, Algorithms, C, C++, Java, JavaScript, Python, C#, Go, Web application development, Mobile application development, Unix/Linux environments, Distributed systems, Parallel systems, Machine learning, Information retrieval, Natural language processing, Networking, Large software system development, Security software development, UI development, AJAX, Embedded systems, Mobile app development (Android/iOS), Developer tools, Automated test system development, Cloud-based computing, Problem-solving, Leadership, Communication (written and verbal English)</td><td>0.25190763139436323</td></tr><tr><td>Problem-solving,Critical thinking,Understanding of N-grams,NLP fundamentals</td><td>SEO, Local SEO, PPC, Facebook Ads, Google Analytics, Ahrefs, Screaming Frog, SEMrush,  Website Content Writing,  Blog Writing,  Marketing Strategy,  Campaign Performance Tracking & Reporting,  Communication (written & verbal),  Interpersonal Skills, Customer Service,  Project Management, Time Management, Organization, Detail-Oriented,  Teamwork,  Resourcefulness,  Problem-solving,  Creative Thinking,  Flexible Schedule,  Bilingual (plus)</td><td>0.2446080854535103</td></tr><tr><td>Problem-solving, Storytelling, Self-awareness,  Communication</td><td>Linux/UNIX administration, Docker, docker-compose, containerized development, Ansible, Packer, Terraform, OpenShift, Kubernetes, Bash, Python, Node.js, Application clustering, load balancing, VMware vSphere API, Gitlab CI/CD, networking fundamentals, command line tools, HTTP, SSL, LDAP, SQL, HTML, XML, PostgreSQL, Keepalived,  CI/CD, Blue/Green Deployments,  Consul,  Atomic Host,  distributed computing, data systems, immutable infrastructure, serverless computing</td><td>0.14669105443446076</td></tr><tr><td>Problem-solving, Storytelling, Self-awareness,  Communication</td><td>JavaScript, Node.js, TypeScript, React, Java, Spring, Postgres, Kubernetes, Software Architecture, Web Application Development, Developer Tooling, Code Review, Mentoring, Problem Solving, Communication, Collaboration,  Internationalization</td><td>0.24252368728904164</td></tr><tr><td>Understanding of convolutional neural networks, critical thinking, problem-solving</td><td>JavaScript, Node.js, TypeScript, React, Java, Spring, Postgres, Kubernetes, Software Architecture, Web Application Development, Developer Tooling, Code Review, Mentoring, Problem Solving, Communication, Collaboration,  Internationalization</td><td>0.24252368728904164</td></tr><tr><td>Critical thinking, Problem-solving, Analytical skills</td><td>C#, .NET, MongoDB, SQL, Angular, Bootstrap, Application Support, Debugging, REST API development, Azure, Sitecore, Salesforce Administration</td><td>0.16800837901731333</td></tr><tr><td>Understanding of convolutional neural networks, critical thinking, problem-solving</td><td>accounting principles, communication, teamwork, financial management, liquidity management, asset/liability management (ALM), profitability reporting, financial analysis, cost accounting, data analytics, CPA, CFA, financial forecasting, strategic planning, leadership, problem solving, advisory skills, engagement, ownership</td><td>0.285607049339696</td></tr><tr><td>Critical thinking, Problem-solving, Analytical skills</td><td>SEO, Local SEO, PPC, Facebook Ads, Google Analytics, Ahrefs, Screaming Frog, SEMrush,  Website Content Writing,  Blog Writing,  Marketing Strategy,  Campaign Performance Tracking & Reporting,  Communication (written & verbal),  Interpersonal Skills, Customer Service,  Project Management, Time Management, Organization, Detail-Oriented,  Teamwork,  Resourcefulness,  Problem-solving,  Creative Thinking,  Flexible Schedule,  Bilingual (plus)</td><td>0.2446080854535103</td></tr><tr><td>Understanding of convolutional neural networks, critical thinking, problem-solving</td><td>SQL, RDBMS, Non-RDBMS, MySQL, PostgreSQL, MongoDB, Python, Jupyter Notebook, Inferential Statistics, Probability, ETL, Data Pipeline, Automated Reporting, Data Analysis, Statistical Modeling, Machine Learning, Git, Hive, Spark, Presto, Diagnostic Analytics, Forecasting, Big Data</td><td>0.19906450727063676</td></tr><tr><td>Conflict resolution, customer service, communication, empathy, problem-solving</td><td>Linux System Administration, HPC Cluster Management (SLURM, LSF), Configuration Management (Ansible, Puppet, Terraform), System Monitoring & Alerting (Prometheus, Grafana, Telegraf, Splunk), High-Performance Computing (HPC), Distributed Systems, Networking (TCP/IP, IPoIB), Storage Technologies, Python, Go, Bash, Root Cause Analysis, Automation, Documentation, Communication, Time Management, GPU Computing, High-Throughput Networks, High-Performance Storage, Containerization (Docker, Kubernetes, Singularity), Cloud Computing, Hardware Accelerators (FPGA, ASIC), Parallel Filesystems, Security, Scalability</td><td>0.16976599956729582</td></tr><tr><td>Problem-solving,Critical thinking,Understanding of N-grams,NLP fundamentals</td><td>C/C++, Python, Linux-based development, VLSI CAD algorithm development, data structures, algorithms, software engineering principles, strong verbal and written communication skills, strong teamwork skills, problem-solving skills, analysis skills, programming skills, debugging skills, troubleshooting skills, statistical analysis, machine learning, deep learning,  routing algorithm knowledge, quality and software processes, Unix/Linux platform experience</td><td>0.2834614831954241</td></tr><tr><td>Self-awareness, self-reflection, communication, storytelling, problem-solving</td><td>SQL, RDBMS, Non-RDBMS, MySQL, PostgreSQL, MongoDB, Python, Jupyter Notebook, Inferential Statistics, Probability, ETL, Data Pipeline, Automated Reporting, Data Analysis, Statistical Modeling, Machine Learning, Git, Hive, Spark, Presto, Diagnostic Analytics, Forecasting, Big Data</td><td>0.19906450727063676</td></tr><tr><td>Conflict resolution, customer service, communication, empathy, problem-solving</td><td>financial analysis, accounting, Microsoft Excel, data analysis, financial reporting, project management, account reconciliation, communication, organization, time management, flexibility, team collaboration, influencing, KPI tracking, cash flow management</td><td>0.253946195046107</td></tr><tr><td>Understanding of deep learning concepts,Knowledge of gradient descent,Problem-solving</td><td>C/C++, Python, Linux-based development, VLSI CAD algorithm development, data structures, algorithms, software engineering principles, strong verbal and written communication skills, strong teamwork skills, problem-solving skills, analysis skills, programming skills, debugging skills, troubleshooting skills, statistical analysis, machine learning, deep learning,  routing algorithm knowledge, quality and software processes, Unix/Linux platform experience</td><td>0.2834614831954241</td></tr><tr><td>Understanding of deep learning concepts,Knowledge of gradient descent,Problem-solving</td><td>SEO, Local SEO, PPC, Facebook Ads, Google Analytics, Ahrefs, Screaming Frog, SEMrush,  Website Content Writing,  Blog Writing,  Marketing Strategy,  Campaign Performance Tracking & Reporting,  Communication (written & verbal),  Interpersonal Skills, Customer Service,  Project Management, Time Management, Organization, Detail-Oriented,  Teamwork,  Resourcefulness,  Problem-solving,  Creative Thinking,  Flexible Schedule,  Bilingual (plus)</td><td>0.2446080854535103</td></tr><tr><td>Problem-solving,Critical thinking,Understanding of N-grams,NLP fundamentals</td><td>financial analysis, accounting, Microsoft Excel, data analysis, financial reporting, project management, account reconciliation, communication, organization, time management, flexibility, team collaboration, influencing, KPI tracking, cash flow management</td><td>0.253946195046107</td></tr><tr><td>Understanding of LSTMs, Understanding of Bi-LSTMs, Comparative analysis,  Problem-solving</td><td>C#, .NET, MongoDB, SQL, Angular, Bootstrap, Application Support, Debugging, REST API development, Azure, Sitecore, Salesforce Administration</td><td>0.16800837901731333</td></tr><tr><td>Mathematical reasoning,Computational complexity analysis,Algorithm understanding</td><td>Licensed Occupational Therapist, Physical Therapy Assistant license (preferred), Occupational Therapy Assistant certification (preferred)</td><td>0.020180221336583298</td></tr><tr><td>Problem-solving,Critical thinking,Understanding of N-grams,NLP fundamentals</td><td>JavaScript, Node.js, TypeScript, React, Java, Spring, Postgres, Kubernetes, Software Architecture, Web Application Development, Developer Tooling, Code Review, Mentoring, Problem Solving, Communication, Collaboration,  Internationalization</td><td>0.24252368728904164</td></tr><tr><td>Analysis, Comparison, Critical Thinking, Summarization</td><td>Data Analysis, Statistical Modeling, Machine Learning, Python/R, SQL/Hive, A/B Testing, Causal Inference, Data Visualization, Communication, Leadership, Problem-solving, Product Design, Web-scale data experience</td><td>0.24817894055293158</td></tr><tr><td>Communication skills, self-awareness, critical thinking, problem-solving</td><td>Statistical analysis, Data modeling, RFM analysis, Predictive modeling, Marketing mix modeling, Attribution modeling, A/B testing, Multivariate testing, Regression analysis, Cluster analysis, CHAID, Factor analysis, Principal component analysis, Time series analysis, Survival analysis, Experimental design, SQL, R, Python, Data visualization, Presentation skills, Communication skills, Project management, Collaboration, Data quality assurance (QA/QC), Database marketing</td><td>0.2268657122667019</td></tr><tr><td>Linear algebra,Matrix operations,Computational efficiency,Algorithm optimization</td><td>Linux System Administration, HPC Cluster Management (SLURM, LSF), Configuration Management (Ansible, Puppet, Terraform), System Monitoring & Alerting (Prometheus, Grafana, Telegraf, Splunk), High-Performance Computing (HPC), Distributed Systems, Networking (TCP/IP, IPoIB), Storage Technologies, Python, Go, Bash, Root Cause Analysis, Automation, Documentation, Communication, Time Management, GPU Computing, High-Throughput Networks, High-Performance Storage, Containerization (Docker, Kubernetes, Singularity), Cloud Computing, Hardware Accelerators (FPGA, ASIC), Parallel Filesystems, Security, Scalability</td><td>0.16380396776699593</td></tr><tr><td>Analysis, Comparison, Critical Thinking, Summarization</td><td>Strategic Planning, Project Management, Technology Innovation, Consumer Technology Expertise,  Data Analytics, Business Strategy,  Digital Transformation,  Team Leadership,  Communication (written & oral), Presentation Skills, Relationship Building, Servant Leadership,  Problem-solving,  Negotiation,  Financial Analysis,  Product Management,  IT Infrastructure Knowledge,  Cloud Technologies,  Emerging Technology Awareness,  Regulatory Compliance (PCI, HIPAA),  Stakeholder Management,  Innovation,  Product Development,  Hardware/Software Knowledge,  Mobile App Development,  Electrical Systems, Control Systems.</td><td>0.17379082207168853</td></tr><tr><td>Communication skills, self-awareness, critical thinking, problem-solving</td><td>SQL, RDBMS, Non-RDBMS, MySQL, PostgreSQL, MongoDB, Python, Jupyter Notebook, Inferential Statistics, Probability, ETL, Data Pipeline, Automated Reporting, Data Analysis, Statistical Modeling, Machine Learning, Git, Hive, Spark, Presto, Diagnostic Analytics, Forecasting, Big Data</td><td>0.19906450727063676</td></tr><tr><td>Critical thinking, Problem-solving, Analytical skills</td><td>PCB design, Software development, Coding, C/C++, Python, Embedded systems, Firmware, Altium Designer, KiCad, Eagle PCB, Electrical Engineering, Problem-solving, Communication, Teamwork, Stakeholder management, Client collaboration, Supplier management, Safety standards (electric vehicles), Sustainability, Micromobility, Strategic product innovation</td><td>0.26598754631621496</td></tr><tr><td>Analysis, Comparison, Critical Thinking, Summarization</td><td>Data Mining, Statistical Analysis, Machine Learning, Deep Learning, Data Cleansing, Data Quality Assessment, Exploratory Data Analysis, Data Visualization, Model Development, Predictive Modeling, Prescriptive Modeling, SQL, R, Python, NumPy, Pandas, Scikit-learn, TensorFlow, Agile Development, Data Engineering, Software Development, Stakeholder Management, Communication, Problem-Solving, Business Acumen</td><td>0.20395057171583175</td></tr><tr><td>Communication skills, self-awareness, critical thinking, problem-solving</td><td>JavaScript, Node.js, TypeScript, React, Java, Spring, Postgres, Kubernetes, Software Architecture, Web Application Development, Developer Tooling, Code Review, Mentoring, Problem Solving, Communication, Collaboration,  Internationalization</td><td>0.24252368728904164</td></tr><tr><td>Understanding of LSTMs, Understanding of Bi-LSTMs, Comparative analysis,  Problem-solving</td><td>SQL, ETL, A/B Testing, statistical analysis, hypothesis testing, experimentation, regression models, data visualization, R, Python, Matlab, SAS, Chartio, Looker, Tableau, funnel optimization, user segmentation, cohort analysis, time series analysis, mentoring, communication, problem-solving, project management</td><td>0.25922237725361535</td></tr><tr><td>Understanding of LSTMs, Understanding of Bi-LSTMs, Comparative analysis,  Problem-solving</td><td>AWS, Linux, Bash/Perl/Ruby/Python, Splunk/Wavefront/Zabbix/ELK/Prometheus/Grafana, Software Development, DevOps, SRE, Monitoring, Observability, Alerting, Automation, Agile, Team Leadership, Communication, Problem-solving</td><td>0.26643401260177296</td></tr></tbody></table></div>"
      ]
     },
     "metadata": {
      "application/vnd.databricks.v1+output": {
       "addedWidgets": {},
       "aggData": [],
       "aggError": "",
       "aggOverflow": false,
       "aggSchema": [],
       "aggSeriesLimitReached": false,
       "aggType": "",
       "arguments": {},
       "columnCustomDisplayInfos": {},
       "data": [
        [
         "Conflict resolution, customer service, communication, empathy, problem-solving",
         "Troubleshooting, Customer Support, Network Engineering,  WAN Operations, TCP/IP, OSI Model, Linux/UNIX, VMware, Network Security, Windows OS,  Communication (written & verbal - English & Japanese),  Data Analysis, Problem-solving,  KCS Methodology,  Siebel (CRM),  Public/Private Cloud Technologies, Scripting (e.g., Python, JavaScript), Containerization (e.g., Docker),  Container Orchestration (e.g., Kubernetes), Automation (e.g., Ansible),  Technical Documentation,  Multitasking, Prioritization, Teamwork,  ISO Quality Management Systems.",
         0.2223421096801758
        ],
        [
         "Understanding of convolutional neural networks, critical thinking, problem-solving",
         "Statistical analysis, Data modeling, RFM analysis, Predictive modeling, Marketing mix modeling, Attribution modeling, A/B testing, Multivariate testing, Regression analysis, Cluster analysis, CHAID, Factor analysis, Principal component analysis, Time series analysis, Survival analysis, Experimental design, SQL, R, Python, Data visualization, Presentation skills, Communication skills, Project management, Collaboration, Data quality assurance (QA/QC), Database marketing",
         0.2268657122667019
        ],
        [
         "Problem-solving, critical thinking, understanding of machine learning concepts",
         "C/C++, Python, Linux-based development, VLSI CAD algorithm development, data structures, algorithms, software engineering principles, strong verbal and written communication skills, strong teamwork skills, problem-solving skills, analysis skills, programming skills, debugging skills, troubleshooting skills, statistical analysis, machine learning, deep learning,  routing algorithm knowledge, quality and software processes, Unix/Linux platform experience",
         0.2834614831954241
        ],
        [
         "Deep learning,Gradient descent optimization,Debugging,Problem-solving",
         "Linux/UNIX administration, Docker, docker-compose, containerized development, Ansible, Packer, Terraform, OpenShift, Kubernetes, Bash, Python, Node.js, Application clustering, load balancing, VMware vSphere API, Gitlab CI/CD, networking fundamentals, command line tools, HTTP, SSL, LDAP, SQL, HTML, XML, PostgreSQL, Keepalived,  CI/CD, Blue/Green Deployments,  Consul,  Atomic Host,  distributed computing, data systems, immutable infrastructure, serverless computing",
         0.14669105443446076
        ],
        [
         "Mathematical reasoning,Computational complexity analysis,Algorithm understanding",
         "Software development, Data structures, Algorithms, C, C++, Java, JavaScript, Python, C#, Go, Web application development, Mobile application development, Unix/Linux environments, Distributed systems, Parallel systems, Machine learning, Information retrieval, Natural language processing, Networking, Large software system development, Security software development, UI development, AJAX, Embedded systems, Mobile app development (Android/iOS), Developer tools, Automated test system development, Cloud-based computing, Problem-solving, Leadership, Communication (written and verbal English)",
         0.2089879236394359
        ],
        [
         "Understanding of deep learning concepts,Knowledge of gradient descent,Problem-solving",
         "financial analysis, accounting, Microsoft Excel, data analysis, financial reporting, project management, account reconciliation, communication, organization, time management, flexibility, team collaboration, influencing, KPI tracking, cash flow management",
         0.253946195046107
        ],
        [
         "Deep learning,Gradient descent optimization,Debugging,Problem-solving",
         "financial analysis, accounting, Microsoft Excel, data analysis, financial reporting, project management, account reconciliation, communication, organization, time management, flexibility, team collaboration, influencing, KPI tracking, cash flow management",
         0.253946195046107
        ],
        [
         "Problem-solving, critical thinking, understanding of machine learning concepts",
         "Linux/UNIX administration, Docker, docker-compose, containerized development, Ansible, Packer, Terraform, OpenShift, Kubernetes, Bash, Python, Node.js, Application clustering, load balancing, VMware vSphere API, Gitlab CI/CD, networking fundamentals, command line tools, HTTP, SSL, LDAP, SQL, HTML, XML, PostgreSQL, Keepalived,  CI/CD, Blue/Green Deployments,  Consul,  Atomic Host,  distributed computing, data systems, immutable infrastructure, serverless computing",
         0.14669105443446076
        ],
        [
         "Understanding of neural networks,Understanding of activation functions,Problem-solving,Critical thinking",
         "Linux/UNIX administration, Docker, docker-compose, containerized development, Ansible, Packer, Terraform, OpenShift, Kubernetes, Bash, Python, Node.js, Application clustering, load balancing, VMware vSphere API, Gitlab CI/CD, networking fundamentals, command line tools, HTTP, SSL, LDAP, SQL, HTML, XML, PostgreSQL, Keepalived,  CI/CD, Blue/Green Deployments,  Consul,  Atomic Host,  distributed computing, data systems, immutable infrastructure, serverless computing",
         0.14669105443446076
        ],
        [
         "Conflict resolution, customer service, communication, empathy, problem-solving",
         "SQL, RDBMS, Non-RDBMS, MySQL, PostgreSQL, MongoDB, Python, Jupyter Notebook, Inferential Statistics, Probability, ETL, Data Pipeline, Automated Reporting, Data Analysis, Statistical Modeling, Machine Learning, Git, Hive, Spark, Presto, Diagnostic Analytics, Forecasting, Big Data",
         0.19906450727063676
        ],
        [
         "Problem-solving, communication, critical thinking, storytelling, self-awareness",
         "JavaScript, Node.js, TypeScript, React, Java, Spring, Postgres, Kubernetes, Software Architecture, Web Application Development, Developer Tooling, Code Review, Mentoring, Problem Solving, Communication, Collaboration,  Internationalization",
         0.24252368728904164
        ],
        [
         "Self-awareness, self-reflection, communication, storytelling, problem-solving",
         "Linux System Administration, HPC Cluster Management (SLURM, LSF), Configuration Management (Ansible, Puppet, Terraform), System Monitoring & Alerting (Prometheus, Grafana, Telegraf, Splunk), High-Performance Computing (HPC), Distributed Systems, Networking (TCP/IP, IPoIB), Storage Technologies, Python, Go, Bash, Root Cause Analysis, Automation, Documentation, Communication, Time Management, GPU Computing, High-Throughput Networks, High-Performance Storage, Containerization (Docker, Kubernetes, Singularity), Cloud Computing, Hardware Accelerators (FPGA, ASIC), Parallel Filesystems, Security, Scalability",
         0.16976599956729582
        ],
        [
         "Deep learning,Gradient descent optimization,Debugging,Problem-solving",
         "Software Engineering, Database Management (Informix, PostgreSQL, MySQL, MongoDB, Progress), Process Automation, Data Visualization (SSRS, Tableau, PowerBI), Python, Java, Scala, R, Maven, Gradle, Automation Testing, Regression Testing, Performance Testing, Git/GitHub, Agile Development, CI/CD, Test Data Management,  Self-Service Portal Development, SecDevOps, Communication (written & verbal), Leadership, Problem-Solving,  Reporting and Metrics,  Cloud Platforms (AWS, PCF, Kubernetes), Monitoring Tools (Grafana, Elastic/ELK, AppDynamics, Kafka, Kibana, Prometheus, Splunk, Big Panda), Jenkins, Artifactory, Gitlab, SonarQube",
         0.17599063307385554
        ],
        [
         "Linear algebra,Matrix operations,Computational efficiency,Algorithm optimization",
         "Linux System Administration, DevOps, Cloud Engineering, Automation,  Bash Scripting, SSH, Git,  Jenkins, Consul, Vault,  Networking, TCP/IP, DNS, HTTP, TLS, Web Security,  Troubleshooting,  Monitoring (Nagios, Cacti, Grafana, ELK), HAProxy, Kubernetes,  Infrastructure as Code (IaC), Configuration Management, CI/CD, Containerization, Virtualization, MySQL,  Backup and Restore,  Documentation,  Communication,  Problem-solving,  Software Updates,  High Availability (HA),  Security, CentOS, Ubuntu,  Python/other interpreted languages (Preferred),  Email Server Administration (Preferred)",
         0.1402215858688578
        ],
        [
         "Linear algebra,Matrix operations,Computational efficiency,Algorithm optimization",
         "Software Engineering, Programming (C, C++, Java, Python, Go), System Design, System Reliability, Observability Tooling, Scalability Engineering, Distributed Systems, Collaboration, Requirements Gathering, Mentoring, Documentation, Data Science (familiarity helpful)",
         0.2110651081893593
        ],
        [
         "Understanding of activation functions,Knowledge of neural networks,Comparative analysis,Problem-solving",
         "Linux/UNIX administration, Docker, docker-compose, containerized development, Ansible, Packer, Terraform, OpenShift, Kubernetes, Bash, Python, Node.js, Application clustering, load balancing, VMware vSphere API, Gitlab CI/CD, networking fundamentals, command line tools, HTTP, SSL, LDAP, SQL, HTML, XML, PostgreSQL, Keepalived,  CI/CD, Blue/Green Deployments,  Consul,  Atomic Host,  distributed computing, data systems, immutable infrastructure, serverless computing",
         0.14669105443446076
        ],
        [
         "Communication skills, self-awareness, critical thinking, problem-solving",
         "Statistical modeling, Machine learning, Natural language processing, Time series analysis, Mathematical optimization, Graph theory, Quantitative finance, Python, R, Symbolic AI, Hybrid symbolic and machine learning, Data engineering, MLOps, Data visualization, Model risk management, Model governance, Cloud computing, Version control, DevOps, Financial services, Wealth management, Model validation, Model monitoring, Model explainability, Model interpretability, Transformer models, K-shot learning, Self-supervised learning, Algorithm research, Stakeholder management, Communication, Presentation skills, Technical communication, Data analysis, Problem-solving, Decision-making, Collaboration",
         0.27456566067160787
        ],
        [
         "Problem-solving, Storytelling, Self-awareness,  Communication",
         "financial analysis, accounting, Microsoft Excel, data analysis, financial reporting, project management, account reconciliation, communication, organization, time management, flexibility, team collaboration, influencing, KPI tracking, cash flow management",
         0.253946195046107
        ],
        [
         "Understanding of convolutional neural networks, critical thinking, problem-solving",
         "Strategic Planning, Project Management, Technology Innovation, Consumer Technology Expertise,  Data Analytics, Business Strategy,  Digital Transformation,  Team Leadership,  Communication (written & oral), Presentation Skills, Relationship Building, Servant Leadership,  Problem-solving,  Negotiation,  Financial Analysis,  Product Management,  IT Infrastructure Knowledge,  Cloud Technologies,  Emerging Technology Awareness,  Regulatory Compliance (PCI, HIPAA),  Stakeholder Management,  Innovation,  Product Development,  Hardware/Software Knowledge,  Mobile App Development,  Electrical Systems, Control Systems.",
         0.2925628088414669
        ],
        [
         "Critical thinking, Problem-solving, Analytical skills",
         "AWS, Automation, Capacity Management, Cloud Computing, DevOps, Development Processes, Observability, Performance Tuning, Reliability Engineering, Scalability, Security, Service Design, Software Architecture, Troubleshooting,  Application Architecture, Messaging Protocols, Caching Strategies, Software Design Practices, Environment Management, High Availability",
         0.23864264972507954
        ],
        [
         "Communication skills, self-awareness, critical thinking, problem-solving",
         "accounting principles, communication, teamwork, financial management, liquidity management, asset/liability management (ALM), profitability reporting, financial analysis, cost accounting, data analytics, CPA, CFA, financial forecasting, strategic planning, leadership, problem solving, advisory skills, engagement, ownership",
         0.285607049339696
        ],
        [
         "Linear algebra,Matrix operations,Computational efficiency,Algorithm optimization",
         "SQL, ETL, A/B Testing, statistical analysis, hypothesis testing, experimentation, regression models, data visualization, R, Python, Matlab, SAS, Chartio, Looker, Tableau, funnel optimization, user segmentation, cohort analysis, time series analysis, mentoring, communication, problem-solving, project management",
         0.19610465820068898
        ],
        [
         "Analysis, Comparison, Critical Thinking, Summarization",
         "accounting principles, communication, teamwork, financial management, liquidity management, asset/liability management (ALM), profitability reporting, financial analysis, cost accounting, data analytics, CPA, CFA, financial forecasting, strategic planning, leadership, problem solving, advisory skills, engagement, ownership",
         0.19229662751680926
        ],
        [
         "Communication skills, self-awareness, critical thinking, problem-solving",
         "Linux System Administration, HPC Cluster Management (SLURM, LSF), Configuration Management (Ansible, Puppet, Terraform), System Monitoring & Alerting (Prometheus, Grafana, Telegraf, Splunk), High-Performance Computing (HPC), Distributed Systems, Networking (TCP/IP, IPoIB), Storage Technologies, Python, Go, Bash, Root Cause Analysis, Automation, Documentation, Communication, Time Management, GPU Computing, High-Throughput Networks, High-Performance Storage, Containerization (Docker, Kubernetes, Singularity), Cloud Computing, Hardware Accelerators (FPGA, ASIC), Parallel Filesystems, Security, Scalability",
         0.16976599956729582
        ],
        [
         "Linear algebra,Matrix operations,Computational efficiency,Algorithm optimization",
         "Data Analysis, Statistical Modeling, Machine Learning, Python/R, SQL/Hive, A/B Testing, Causal Inference, Data Visualization, Communication, Leadership, Problem-solving, Product Design, Web-scale data experience",
         0.21423045287911707
        ],
        [
         "Mathematical reasoning,Computational complexity analysis,Algorithm understanding",
         "Azure, Terraform, ARM templates, Azure DevOps, Python, PowerShell, Docker, Kubernetes, Agile, Scrum, DevSecOps, Configuration Management, Orchestration, Cloud Services (compute, storage, Key Vault, Azure PaaS), Failure Injection Testing, IAM (least privilege access, password management, audit logging, RBAC, certificate issuance and revocation),  Site Reliability Engineering,  Metrics collection, reporting and alerting,  Continuous Integration,  Horizontal and vertical scalability, Cloud native monitoring,  Excellent communication skills, Problem-solving.",
         0.109556911678444
        ],
        [
         "Understanding of activation functions,Knowledge of neural networks,Comparative analysis,Problem-solving",
         "JavaScript, Node.js, TypeScript, React, Java, Spring, Postgres, Kubernetes, Software Architecture, Web Application Development, Developer Tooling, Code Review, Mentoring, Problem Solving, Communication, Collaboration,  Internationalization",
         0.24252368728904164
        ],
        [
         "Problem-solving, critical thinking, understanding of machine learning concepts",
         "Software Engineering, Database Management (Informix, PostgreSQL, MySQL, MongoDB, Progress), Process Automation, Data Visualization (SSRS, Tableau, PowerBI), Python, Java, Scala, R, Maven, Gradle, Automation Testing, Regression Testing, Performance Testing, Git/GitHub, Agile Development, CI/CD, Test Data Management,  Self-Service Portal Development, SecDevOps, Communication (written & verbal), Leadership, Problem-Solving,  Reporting and Metrics,  Cloud Platforms (AWS, PCF, Kubernetes), Monitoring Tools (Grafana, Elastic/ELK, AppDynamics, Kafka, Kibana, Prometheus, Splunk, Big Panda), Jenkins, Artifactory, Gitlab, SonarQube",
         0.17599063307385554
        ],
        [
         "Self-awareness, self-reflection, communication, storytelling, problem-solving",
         "accounting principles, communication, teamwork, financial management, liquidity management, asset/liability management (ALM), profitability reporting, financial analysis, cost accounting, data analytics, CPA, CFA, financial forecasting, strategic planning, leadership, problem solving, advisory skills, engagement, ownership",
         0.285607049339696
        ],
        [
         "Understanding of deep learning concepts,Knowledge of gradient descent,Problem-solving",
         "Linux/UNIX administration, Docker, docker-compose, containerized development, Ansible, Packer, Terraform, OpenShift, Kubernetes, Bash, Python, Node.js, Application clustering, load balancing, VMware vSphere API, Gitlab CI/CD, networking fundamentals, command line tools, HTTP, SSL, LDAP, SQL, HTML, XML, PostgreSQL, Keepalived,  CI/CD, Blue/Green Deployments,  Consul,  Atomic Host,  distributed computing, data systems, immutable infrastructure, serverless computing",
         0.14669105443446076
        ],
        [
         "Analysis, Comparison, Critical Thinking, Summarization",
         "Evaluation, Implementation, Execution, On-premise support, Field work",
         0.2846684530377388
        ],
        [
         "Understanding of neural networks,Understanding of activation functions,Problem-solving,Critical thinking",
         "Software development, Data structures, Algorithms, C, C++, Java, JavaScript, Python, C#, Go, Web application development, Mobile application development, Unix/Linux environments, Distributed systems, Parallel systems, Machine learning, Information retrieval, Natural language processing, Networking, Large software system development, Security software development, UI development, AJAX, Embedded systems, Mobile app development (Android/iOS), Developer tools, Automated test system development, Cloud-based computing, Problem-solving, Leadership, Communication (written and verbal English)",
         0.25190763139436323
        ],
        [
         "Critical thinking, Problem-solving, Analytical skills",
         "Customer service, communication, hospitality, teamwork",
         0.3192470483481884
        ],
        [
         "Self-awareness, self-reflection, communication, storytelling, problem-solving",
         "Linux/UNIX administration, Docker, docker-compose, containerized development, Ansible, Packer, Terraform, OpenShift, Kubernetes, Bash, Python, Node.js, Application clustering, load balancing, VMware vSphere API, Gitlab CI/CD, networking fundamentals, command line tools, HTTP, SSL, LDAP, SQL, HTML, XML, PostgreSQL, Keepalived,  CI/CD, Blue/Green Deployments,  Consul,  Atomic Host,  distributed computing, data systems, immutable infrastructure, serverless computing",
         0.14669105443446076
        ],
        [
         "Conflict resolution, customer service, communication, empathy, problem-solving",
         "Python, Java, SQL, NoSQL, Key-Value Store, Distributed Systems, Real-time Systems, Software Design, Problem-solving, Team Collaboration, CI/CD, Testing, Secure Coding, Event-driven Architecture, Messaging Frameworks (Pub/Sub, Kafka, RabbitMQ), Cloud Infrastructure (GCP, AWS, Azure)",
         0.24591414593160152
        ],
        [
         "Communication skills, self-awareness, critical thinking, problem-solving",
         "Linux/UNIX administration, Docker, docker-compose, containerized development, Ansible, Packer, Terraform, OpenShift, Kubernetes, Bash, Python, Node.js, Application clustering, load balancing, VMware vSphere API, Gitlab CI/CD, networking fundamentals, command line tools, HTTP, SSL, LDAP, SQL, HTML, XML, PostgreSQL, Keepalived,  CI/CD, Blue/Green Deployments,  Consul,  Atomic Host,  distributed computing, data systems, immutable infrastructure, serverless computing",
         0.14669105443446076
        ],
        [
         "Understanding of LSTMs, Understanding of Bi-LSTMs, Comparative analysis,  Problem-solving",
         "C#, PowerShell, Software Development, Debugging, Troubleshooting, System Tuning, Capacity Planning, Performance Analysis, Security, Scalability, Reliability, Automation, DevOps, Service Engineering, System Architecture, Code Review,  Problem Solving,  On-Call Support, Disaster Recovery, Business Continuity Planning,  Distributed Systems, Virtualization (Hyper-V, VMWare),  Customer Focus, Live Site Operations,  Analytical Skills, Communication Skills, Interpersonal Skills,  Multitasking,  Customer Service, Supply Chain (Preferred), Operations Analytics (Preferred)",
         0.2649149198550731
        ],
        [
         "Linear algebra,Matrix operations,Computational efficiency,Algorithm optimization",
         "Data Mining, Statistical Analysis, Machine Learning, Deep Learning, Data Cleansing, Data Quality Assessment, Exploratory Data Analysis, Data Visualization, Model Development, Predictive Modeling, Prescriptive Modeling, SQL, R, Python, NumPy, Pandas, Scikit-learn, TensorFlow, Agile Development, Data Engineering, Software Development, Stakeholder Management, Communication, Problem-Solving, Business Acumen",
         0.22140301451086997
        ],
        [
         "Problem-solving,Critical thinking,Understanding of N-grams,NLP fundamentals",
         "Software development, Data structures, Algorithms, C, C++, Java, JavaScript, Python, C#, Go, Web application development, Mobile application development, Unix/Linux environments, Distributed systems, Parallel systems, Machine learning, Information retrieval, Natural language processing, Networking, Large software system development, Security software development, UI development, AJAX, Embedded systems, Mobile app development (Android/iOS), Developer tools, Automated test system development, Cloud-based computing, Problem-solving, Leadership, Communication (written and verbal English)",
         0.25190763139436323
        ],
        [
         "Critical thinking, Problem-solving, Analytical skills",
         "HTML, CSS, Ajax, JavaScript, Angular, PHP, Node.js, Object-Oriented Programming, Single Page Application development, Responsive Web Design, Web Development, Software Development, Debugging, Testing, Code Review, Cloud Native Architecture, Problem-solving, Analytical skills, Communication (written & verbal), Teamwork, Collaboration",
         0.2558793324444975
        ],
        [
         "Mathematical reasoning,Computational complexity analysis,Algorithm understanding",
         "Software Development, Salesforce (Apex, Lightning, JavaScript), Middleware (Mulesoft, Dell Boomi, Jitterbit, Kettle), Application Customization (SpringCM, Conga), Data Manipulation, Scripting, Cloud CPQ, Billing Solutions, Agile/Scrum, Version Control (Git), Object-Oriented Programming, Java, C#, C/C++, Python, JavaScript, Problem-Solving, Communication, Teamwork, Web Development (HTML, CSS, Server-side, Client-side), Open Source Contributions",
         0.16712005833784738
        ],
        [
         "Problem-solving, communication, critical thinking, storytelling, self-awareness",
         "Software development, Data structures, Algorithms, C, C++, Java, JavaScript, Python, C#, Go, Web application development, Mobile application development, Unix/Linux environments, Distributed systems, Parallel systems, Machine learning, Information retrieval, Natural language processing, Networking, Large software system development, Security software development, UI development, AJAX, Embedded systems, Mobile app development (Android/iOS), Developer tools, Automated test system development, Cloud-based computing, Problem-solving, Leadership, Communication (written and verbal English)",
         0.25190763139436323
        ],
        [
         "Problem-solving,Critical thinking,Understanding of N-grams,NLP fundamentals",
         "SEO, Local SEO, PPC, Facebook Ads, Google Analytics, Ahrefs, Screaming Frog, SEMrush,  Website Content Writing,  Blog Writing,  Marketing Strategy,  Campaign Performance Tracking & Reporting,  Communication (written & verbal),  Interpersonal Skills, Customer Service,  Project Management, Time Management, Organization, Detail-Oriented,  Teamwork,  Resourcefulness,  Problem-solving,  Creative Thinking,  Flexible Schedule,  Bilingual (plus)",
         0.2446080854535103
        ],
        [
         "Problem-solving, Storytelling, Self-awareness,  Communication",
         "Linux/UNIX administration, Docker, docker-compose, containerized development, Ansible, Packer, Terraform, OpenShift, Kubernetes, Bash, Python, Node.js, Application clustering, load balancing, VMware vSphere API, Gitlab CI/CD, networking fundamentals, command line tools, HTTP, SSL, LDAP, SQL, HTML, XML, PostgreSQL, Keepalived,  CI/CD, Blue/Green Deployments,  Consul,  Atomic Host,  distributed computing, data systems, immutable infrastructure, serverless computing",
         0.14669105443446076
        ],
        [
         "Problem-solving, Storytelling, Self-awareness,  Communication",
         "JavaScript, Node.js, TypeScript, React, Java, Spring, Postgres, Kubernetes, Software Architecture, Web Application Development, Developer Tooling, Code Review, Mentoring, Problem Solving, Communication, Collaboration,  Internationalization",
         0.24252368728904164
        ],
        [
         "Understanding of convolutional neural networks, critical thinking, problem-solving",
         "JavaScript, Node.js, TypeScript, React, Java, Spring, Postgres, Kubernetes, Software Architecture, Web Application Development, Developer Tooling, Code Review, Mentoring, Problem Solving, Communication, Collaboration,  Internationalization",
         0.24252368728904164
        ],
        [
         "Critical thinking, Problem-solving, Analytical skills",
         "C#, .NET, MongoDB, SQL, Angular, Bootstrap, Application Support, Debugging, REST API development, Azure, Sitecore, Salesforce Administration",
         0.16800837901731333
        ],
        [
         "Understanding of convolutional neural networks, critical thinking, problem-solving",
         "accounting principles, communication, teamwork, financial management, liquidity management, asset/liability management (ALM), profitability reporting, financial analysis, cost accounting, data analytics, CPA, CFA, financial forecasting, strategic planning, leadership, problem solving, advisory skills, engagement, ownership",
         0.285607049339696
        ],
        [
         "Critical thinking, Problem-solving, Analytical skills",
         "SEO, Local SEO, PPC, Facebook Ads, Google Analytics, Ahrefs, Screaming Frog, SEMrush,  Website Content Writing,  Blog Writing,  Marketing Strategy,  Campaign Performance Tracking & Reporting,  Communication (written & verbal),  Interpersonal Skills, Customer Service,  Project Management, Time Management, Organization, Detail-Oriented,  Teamwork,  Resourcefulness,  Problem-solving,  Creative Thinking,  Flexible Schedule,  Bilingual (plus)",
         0.2446080854535103
        ],
        [
         "Understanding of convolutional neural networks, critical thinking, problem-solving",
         "SQL, RDBMS, Non-RDBMS, MySQL, PostgreSQL, MongoDB, Python, Jupyter Notebook, Inferential Statistics, Probability, ETL, Data Pipeline, Automated Reporting, Data Analysis, Statistical Modeling, Machine Learning, Git, Hive, Spark, Presto, Diagnostic Analytics, Forecasting, Big Data",
         0.19906450727063676
        ],
        [
         "Conflict resolution, customer service, communication, empathy, problem-solving",
         "Linux System Administration, HPC Cluster Management (SLURM, LSF), Configuration Management (Ansible, Puppet, Terraform), System Monitoring & Alerting (Prometheus, Grafana, Telegraf, Splunk), High-Performance Computing (HPC), Distributed Systems, Networking (TCP/IP, IPoIB), Storage Technologies, Python, Go, Bash, Root Cause Analysis, Automation, Documentation, Communication, Time Management, GPU Computing, High-Throughput Networks, High-Performance Storage, Containerization (Docker, Kubernetes, Singularity), Cloud Computing, Hardware Accelerators (FPGA, ASIC), Parallel Filesystems, Security, Scalability",
         0.16976599956729582
        ],
        [
         "Problem-solving,Critical thinking,Understanding of N-grams,NLP fundamentals",
         "C/C++, Python, Linux-based development, VLSI CAD algorithm development, data structures, algorithms, software engineering principles, strong verbal and written communication skills, strong teamwork skills, problem-solving skills, analysis skills, programming skills, debugging skills, troubleshooting skills, statistical analysis, machine learning, deep learning,  routing algorithm knowledge, quality and software processes, Unix/Linux platform experience",
         0.2834614831954241
        ],
        [
         "Self-awareness, self-reflection, communication, storytelling, problem-solving",
         "SQL, RDBMS, Non-RDBMS, MySQL, PostgreSQL, MongoDB, Python, Jupyter Notebook, Inferential Statistics, Probability, ETL, Data Pipeline, Automated Reporting, Data Analysis, Statistical Modeling, Machine Learning, Git, Hive, Spark, Presto, Diagnostic Analytics, Forecasting, Big Data",
         0.19906450727063676
        ],
        [
         "Conflict resolution, customer service, communication, empathy, problem-solving",
         "financial analysis, accounting, Microsoft Excel, data analysis, financial reporting, project management, account reconciliation, communication, organization, time management, flexibility, team collaboration, influencing, KPI tracking, cash flow management",
         0.253946195046107
        ],
        [
         "Understanding of deep learning concepts,Knowledge of gradient descent,Problem-solving",
         "C/C++, Python, Linux-based development, VLSI CAD algorithm development, data structures, algorithms, software engineering principles, strong verbal and written communication skills, strong teamwork skills, problem-solving skills, analysis skills, programming skills, debugging skills, troubleshooting skills, statistical analysis, machine learning, deep learning,  routing algorithm knowledge, quality and software processes, Unix/Linux platform experience",
         0.2834614831954241
        ],
        [
         "Understanding of deep learning concepts,Knowledge of gradient descent,Problem-solving",
         "SEO, Local SEO, PPC, Facebook Ads, Google Analytics, Ahrefs, Screaming Frog, SEMrush,  Website Content Writing,  Blog Writing,  Marketing Strategy,  Campaign Performance Tracking & Reporting,  Communication (written & verbal),  Interpersonal Skills, Customer Service,  Project Management, Time Management, Organization, Detail-Oriented,  Teamwork,  Resourcefulness,  Problem-solving,  Creative Thinking,  Flexible Schedule,  Bilingual (plus)",
         0.2446080854535103
        ],
        [
         "Problem-solving,Critical thinking,Understanding of N-grams,NLP fundamentals",
         "financial analysis, accounting, Microsoft Excel, data analysis, financial reporting, project management, account reconciliation, communication, organization, time management, flexibility, team collaboration, influencing, KPI tracking, cash flow management",
         0.253946195046107
        ],
        [
         "Understanding of LSTMs, Understanding of Bi-LSTMs, Comparative analysis,  Problem-solving",
         "C#, .NET, MongoDB, SQL, Angular, Bootstrap, Application Support, Debugging, REST API development, Azure, Sitecore, Salesforce Administration",
         0.16800837901731333
        ],
        [
         "Mathematical reasoning,Computational complexity analysis,Algorithm understanding",
         "Licensed Occupational Therapist, Physical Therapy Assistant license (preferred), Occupational Therapy Assistant certification (preferred)",
         0.020180221336583298
        ],
        [
         "Problem-solving,Critical thinking,Understanding of N-grams,NLP fundamentals",
         "JavaScript, Node.js, TypeScript, React, Java, Spring, Postgres, Kubernetes, Software Architecture, Web Application Development, Developer Tooling, Code Review, Mentoring, Problem Solving, Communication, Collaboration,  Internationalization",
         0.24252368728904164
        ],
        [
         "Analysis, Comparison, Critical Thinking, Summarization",
         "Data Analysis, Statistical Modeling, Machine Learning, Python/R, SQL/Hive, A/B Testing, Causal Inference, Data Visualization, Communication, Leadership, Problem-solving, Product Design, Web-scale data experience",
         0.24817894055293158
        ],
        [
         "Communication skills, self-awareness, critical thinking, problem-solving",
         "Statistical analysis, Data modeling, RFM analysis, Predictive modeling, Marketing mix modeling, Attribution modeling, A/B testing, Multivariate testing, Regression analysis, Cluster analysis, CHAID, Factor analysis, Principal component analysis, Time series analysis, Survival analysis, Experimental design, SQL, R, Python, Data visualization, Presentation skills, Communication skills, Project management, Collaboration, Data quality assurance (QA/QC), Database marketing",
         0.2268657122667019
        ],
        [
         "Linear algebra,Matrix operations,Computational efficiency,Algorithm optimization",
         "Linux System Administration, HPC Cluster Management (SLURM, LSF), Configuration Management (Ansible, Puppet, Terraform), System Monitoring & Alerting (Prometheus, Grafana, Telegraf, Splunk), High-Performance Computing (HPC), Distributed Systems, Networking (TCP/IP, IPoIB), Storage Technologies, Python, Go, Bash, Root Cause Analysis, Automation, Documentation, Communication, Time Management, GPU Computing, High-Throughput Networks, High-Performance Storage, Containerization (Docker, Kubernetes, Singularity), Cloud Computing, Hardware Accelerators (FPGA, ASIC), Parallel Filesystems, Security, Scalability",
         0.16380396776699593
        ],
        [
         "Analysis, Comparison, Critical Thinking, Summarization",
         "Strategic Planning, Project Management, Technology Innovation, Consumer Technology Expertise,  Data Analytics, Business Strategy,  Digital Transformation,  Team Leadership,  Communication (written & oral), Presentation Skills, Relationship Building, Servant Leadership,  Problem-solving,  Negotiation,  Financial Analysis,  Product Management,  IT Infrastructure Knowledge,  Cloud Technologies,  Emerging Technology Awareness,  Regulatory Compliance (PCI, HIPAA),  Stakeholder Management,  Innovation,  Product Development,  Hardware/Software Knowledge,  Mobile App Development,  Electrical Systems, Control Systems.",
         0.17379082207168853
        ],
        [
         "Communication skills, self-awareness, critical thinking, problem-solving",
         "SQL, RDBMS, Non-RDBMS, MySQL, PostgreSQL, MongoDB, Python, Jupyter Notebook, Inferential Statistics, Probability, ETL, Data Pipeline, Automated Reporting, Data Analysis, Statistical Modeling, Machine Learning, Git, Hive, Spark, Presto, Diagnostic Analytics, Forecasting, Big Data",
         0.19906450727063676
        ],
        [
         "Critical thinking, Problem-solving, Analytical skills",
         "PCB design, Software development, Coding, C/C++, Python, Embedded systems, Firmware, Altium Designer, KiCad, Eagle PCB, Electrical Engineering, Problem-solving, Communication, Teamwork, Stakeholder management, Client collaboration, Supplier management, Safety standards (electric vehicles), Sustainability, Micromobility, Strategic product innovation",
         0.26598754631621496
        ],
        [
         "Analysis, Comparison, Critical Thinking, Summarization",
         "Data Mining, Statistical Analysis, Machine Learning, Deep Learning, Data Cleansing, Data Quality Assessment, Exploratory Data Analysis, Data Visualization, Model Development, Predictive Modeling, Prescriptive Modeling, SQL, R, Python, NumPy, Pandas, Scikit-learn, TensorFlow, Agile Development, Data Engineering, Software Development, Stakeholder Management, Communication, Problem-Solving, Business Acumen",
         0.20395057171583175
        ],
        [
         "Communication skills, self-awareness, critical thinking, problem-solving",
         "JavaScript, Node.js, TypeScript, React, Java, Spring, Postgres, Kubernetes, Software Architecture, Web Application Development, Developer Tooling, Code Review, Mentoring, Problem Solving, Communication, Collaboration,  Internationalization",
         0.24252368728904164
        ],
        [
         "Understanding of LSTMs, Understanding of Bi-LSTMs, Comparative analysis,  Problem-solving",
         "SQL, ETL, A/B Testing, statistical analysis, hypothesis testing, experimentation, regression models, data visualization, R, Python, Matlab, SAS, Chartio, Looker, Tableau, funnel optimization, user segmentation, cohort analysis, time series analysis, mentoring, communication, problem-solving, project management",
         0.25922237725361535
        ],
        [
         "Understanding of LSTMs, Understanding of Bi-LSTMs, Comparative analysis,  Problem-solving",
         "AWS, Linux, Bash/Perl/Ruby/Python, Splunk/Wavefront/Zabbix/ELK/Prometheus/Grafana, Software Development, DevOps, SRE, Monitoring, Observability, Alerting, Automation, Agile, Team Leadership, Communication, Problem-solving",
         0.26643401260177296
        ]
       ],
       "datasetInfos": [],
       "dbfsResultPath": null,
       "isJsonSchema": true,
       "metadata": {},
       "overflow": false,
       "plotOptions": {
        "customPlotOptions": {},
        "displayType": "table",
        "pivotAggregation": null,
        "pivotColumns": null,
        "xColumns": null,
        "yColumns": null
       },
       "removedWidgets": [],
       "schema": [
        {
         "metadata": "{}",
         "name": "topics",
         "type": "\"string\""
        },
        {
         "metadata": "{}",
         "name": "skills",
         "type": "\"string\""
        },
        {
         "metadata": "{}",
         "name": "similarity",
         "type": "\"double\""
        }
       ],
       "type": "table"
      }
     },
     "output_type": "display_data"
    }
   ],
   "source": [
    "code_scores.select(\"topics\", \"skills\", \"similarity\").limit(70).display()\n",
    "open_scores.select(\"topics\", \"skills\", \"similarity\").limit(70).display()"
   ]
  },
  {
   "cell_type": "code",
   "execution_count": 0,
   "metadata": {
    "application/vnd.databricks.v1+cell": {
     "cellMetadata": {
      "byteLimit": 2048000,
      "rowLimit": 10000
     },
     "inputWidgets": {},
     "nuid": "0b3b94f5-cd98-44d3-a296-60066b9d62ac",
     "showTitle": false,
     "tableResultSettingsMap": {},
     "title": ""
    }
   },
   "outputs": [],
   "source": [
    "from consts import MID_CALC_PATH\n",
    "\n",
    "code_scores_df = code_scores.select(\"similarity\").toPandas()\n",
    "code_scores_df.to_csv(os.path.join(MID_CALC_PATH, \"code_questions_similarity.csv\"), index=False)\n",
    "open_scores_df = open_scores.select(\"similarity\").toPandas()\n",
    "open_scores_df.to_csv(os.path.join(MID_CALC_PATH, \"open_questions_similarity.csv\"), index=False)"
   ]
  },
  {
   "cell_type": "code",
   "execution_count": 0,
   "metadata": {
    "application/vnd.databricks.v1+cell": {
     "cellMetadata": {
      "byteLimit": 2048000,
      "rowLimit": 10000
     },
     "inputWidgets": {},
     "nuid": "487bd303-5b39-42d2-801a-c45536bdfb8f",
     "showTitle": false,
     "tableResultSettingsMap": {},
     "title": ""
    }
   },
   "outputs": [],
   "source": [
    "from pyspark.sql.functions import col, when, expr\n",
    "\n",
    "\"\"\" Distributing the scores, so they'd be further apart \"\"\"\n",
    "\n",
    "# Define the transformation function\n",
    "def apply_root_transform(df, col_name):\n",
    "    return df.withColumn(\n",
    "        col_name,\n",
    "        when(col(col_name) >= 0, col(col_name) ** 0.5)  # Apply x^0.5 for positive values\n",
    "        .otherwise(-(-col(col_name)) ** 0.5)           # Apply -(-x)^0.5 for negative values\n",
    "    )\n",
    "\n",
    "# Apply the transformation on the \"similarity\" column for both datasets\n",
    "code_scores_after_transformation = apply_root_transform(code_scores, \"similarity\")\n",
    "open_scores_after_transformation = apply_root_transform(open_scores, \"similarity\")"
   ]
  },
  {
   "cell_type": "code",
   "execution_count": 0,
   "metadata": {
    "application/vnd.databricks.v1+cell": {
     "cellMetadata": {
      "byteLimit": 2048000,
      "rowLimit": 10000
     },
     "inputWidgets": {},
     "nuid": "b65ed870-3708-4ea3-9d4b-85df0a7f923f",
     "showTitle": false,
     "tableResultSettingsMap": {},
     "title": ""
    }
   },
   "outputs": [
    {
     "data": {
      "text/html": [
       "<style scoped>\n",
       "  .table-result-container {\n",
       "    max-height: 300px;\n",
       "    overflow: auto;\n",
       "  }\n",
       "  table, th, td {\n",
       "    border: 1px solid black;\n",
       "    border-collapse: collapse;\n",
       "  }\n",
       "  th, td {\n",
       "    padding: 5px;\n",
       "  }\n",
       "  th {\n",
       "    text-align: left;\n",
       "  }\n",
       "</style><div class='table-result-container'><table class='table-result'><thead style='background-color: white'><tr><th>topics</th><th>skills</th><th>similarity</th></tr></thead><tbody><tr><td>Array, Two Pointers, Simulation</td><td>Linux System Administration, DevOps, Cloud Engineering, Automation,  Bash Scripting, SSH, Git,  Jenkins, Consul, Vault,  Networking, TCP/IP, DNS, HTTP, TLS, Web Security,  Troubleshooting,  Monitoring (Nagios, Cacti, Grafana, ELK), HAProxy, Kubernetes,  Infrastructure as Code (IaC), Configuration Management, CI/CD, Containerization, Virtualization, MySQL,  Backup and Restore,  Documentation,  Communication,  Problem-solving,  Software Updates,  High Availability (HA),  Security, CentOS, Ubuntu,  Python/other interpreted languages (Preferred),  Email Server Administration (Preferred)</td><td>0.390489769803598</td></tr><tr><td>Array, Matrix, Simulation</td><td>Linux System Administration, DevOps, Cloud Engineering, Automation,  Bash Scripting, SSH, Git,  Jenkins, Consul, Vault,  Networking, TCP/IP, DNS, HTTP, TLS, Web Security,  Troubleshooting,  Monitoring (Nagios, Cacti, Grafana, ELK), HAProxy, Kubernetes,  Infrastructure as Code (IaC), Configuration Management, CI/CD, Containerization, Virtualization, MySQL,  Backup and Restore,  Documentation,  Communication,  Problem-solving,  Software Updates,  High Availability (HA),  Security, CentOS, Ubuntu,  Python/other interpreted languages (Preferred),  Email Server Administration (Preferred)</td><td>0.39765646212729233</td></tr><tr><td>String, Simulation</td><td>Linux System Administration, DevOps, Cloud Engineering, Automation,  Bash Scripting, SSH, Git,  Jenkins, Consul, Vault,  Networking, TCP/IP, DNS, HTTP, TLS, Web Security,  Troubleshooting,  Monitoring (Nagios, Cacti, Grafana, ELK), HAProxy, Kubernetes,  Infrastructure as Code (IaC), Configuration Management, CI/CD, Containerization, Virtualization, MySQL,  Backup and Restore,  Documentation,  Communication,  Problem-solving,  Software Updates,  High Availability (HA),  Security, CentOS, Ubuntu,  Python/other interpreted languages (Preferred),  Email Server Administration (Preferred)</td><td>0.4116839695147745</td></tr><tr><td>String manipulation, substring identification, iterative processing, algorithm design</td><td>Licensed Occupational Therapist, Physical Therapy Assistant license (preferred), Occupational Therapy Assistant certification (preferred)</td><td>0.19789366453806792</td></tr><tr><td>Array, Depth-First Search, Breadth-First Search, Union Find, Matrix</td><td>Agile methodologies, Scrum, Software Engineering, Computer Science, Electrical Engineering, REST API, JSON/XML, Open Source Technologies (NiFi, Kafka, Elastic Stack, Solr), CI/CD, Ansible, Jenkins, Git, Java, Docker, Kubernetes, JIRA, Confluence, Linux, Windows, Model Based Systems Engineering (MBSE), SecDevOps, User Interface Development, User Experience, Web Application Development, System Integration,  Software Design, Problem Solving,  Continuous Integration</td><td>0.34324457237519423</td></tr><tr><td>Tree, Depth-First Search, Binary Tree</td><td>Agile methodologies, Scrum, Software Engineering, Computer Science, Electrical Engineering, REST API, JSON/XML, Open Source Technologies (NiFi, Kafka, Elastic Stack, Solr), CI/CD, Ansible, Jenkins, Git, Java, Docker, Kubernetes, JIRA, Confluence, Linux, Windows, Model Based Systems Engineering (MBSE), SecDevOps, User Interface Development, User Experience, Web Application Development, System Integration,  Software Design, Problem Solving,  Continuous Integration</td><td>0.3933069837452879</td></tr><tr><td>Array, Hash Table, Tree, Depth-First Search, Breadth-First Search, Binary Tree</td><td>Agile methodologies, Scrum, Software Engineering, Computer Science, Electrical Engineering, REST API, JSON/XML, Open Source Technologies (NiFi, Kafka, Elastic Stack, Solr), CI/CD, Ansible, Jenkins, Git, Java, Docker, Kubernetes, JIRA, Confluence, Linux, Windows, Model Based Systems Engineering (MBSE), SecDevOps, User Interface Development, User Experience, Web Application Development, System Integration,  Software Design, Problem Solving,  Continuous Integration</td><td>0.36951892845368034</td></tr><tr><td>Array, Dynamic Programming</td><td>Evaluation, Implementation, Execution, On-premise support, Field work</td><td>0.5004412799258074</td></tr><tr><td>Array, Math, Greedy, Sorting</td><td>Evaluation, Implementation, Execution, On-premise support, Field work</td><td>0.4742262241475249</td></tr><tr><td>Hash Table, Binary Search, Design, Sorting, Ordered Set</td><td>Statistical methods, Causal inference, Data analysis, Data visualization, Data interpretation, SQL, Python, R, Project management, Data storytelling, Communication, Stakeholder management, Teamwork, Mentorship,  Product data analysis, Revenue data analysis</td><td>0.43652300615950745</td></tr><tr><td>String manipulation,String reversal,Index manipulation,Conditional logic,Algorithm implementation</td><td>Azure, Terraform, ARM templates, Azure DevOps, Python, PowerShell, Docker, Kubernetes, Agile, Scrum, DevSecOps, Configuration Management, Orchestration, Cloud Services (compute, storage, Key Vault, Azure PaaS), Failure Injection Testing, IAM (least privilege access, password management, audit logging, RBAC, certificate issuance and revocation),  Site Reliability Engineering,  Metrics collection, reporting and alerting,  Continuous Integration,  Horizontal and vertical scalability, Cloud native monitoring,  Excellent communication skills, Problem-solving.</td><td>0.2950621809233166</td></tr><tr><td>Hash Table, String</td><td>sales, business development, relationship building, creativity, organization, communication, problem solving, market research, liquid sugar knowledge, sugar refining knowledge, food science knowledge, chemical knowledge</td><td>0.3640250554512577</td></tr><tr><td>Hash Table, String, Trie, Sorting, Heap (Priority Queue), Bucket Sort, Counting</td><td>sales, business development, relationship building, creativity, organization, communication, problem solving, market research, liquid sugar knowledge, sugar refining knowledge, food science knowledge, chemical knowledge</td><td>0.3529272913000118</td></tr><tr><td>Array, Hash Table, String, Bit Manipulation</td><td>sales, business development, relationship building, creativity, organization, communication, problem solving, market research, liquid sugar knowledge, sugar refining knowledge, food science knowledge, chemical knowledge</td><td>0.3510893419215665</td></tr><tr><td>Hash Table, String, Design, Trie</td><td>sales, business development, relationship building, creativity, organization, communication, problem solving, market research, liquid sugar knowledge, sugar refining knowledge, food science knowledge, chemical knowledge</td><td>0.4247545762440467</td></tr><tr><td>Stack, Tree, Depth-First Search, Binary Tree</td><td>sales, business development, relationship building, creativity, organization, communication, problem solving, market research, liquid sugar knowledge, sugar refining knowledge, food science knowledge, chemical knowledge</td><td>0.40987922513076547</td></tr><tr><td>Dynamic Programming,Algorithm Design,Time Complexity Analysis</td><td>The provided text only gives salary, location, type, department, and job number.  It offers no information about required skills.  Therefore, it's impossible to infer a comma-separated list of skills.</td><td>0.30584070713183287</td></tr><tr><td>Math, Two Pointers, Binary Search</td><td>financial analysis, budgeting, strategic planning, financial regulations, accounting principles, risk assessment, data analysis, leadership, communication, collaboration, problem solving, interpersonal skills, strategic thinking, relationship building, teamwork, forecasting, financial reporting, return on investment analysis, CPA, MBA, mentoring, inspiration</td><td>0.43741360119661904</td></tr><tr><td>Frequency analysis, sorting, heap data structure, algorithm optimization, time complexity analysis</td><td>Machine Learning, Deep Learning, NLP, Computer Vision, Data Mining, Data Science, Algorithm Development,  Large-Scale Data Processing,  Model Building, Model Deployment,  Software Engineering (Java, Scala, Python, C++),  TensorFlow, Scikit-learn, R, Spark, PyTorch, Apache Hadoop, Solr/Lucene, Cassandra,  Topic Modeling, Graph Algorithms,  Supervised/Unsupervised Learning,  Metrics Analysis</td><td>0.4587924317941288</td></tr><tr><td>Depth-First Search, Breadth-First Search, Graph, Topological Sort</td><td>Python, Java, SQL, NoSQL, Key-Value Store, Distributed Systems, Real-time Systems, Software Design, Problem-solving, Team Collaboration, CI/CD, Testing, Secure Coding, Event-driven Architecture, Messaging Frameworks (Pub/Sub, Kafka, RabbitMQ), Cloud Infrastructure (GCP, AWS, Azure)</td><td>0.36880364335339766</td></tr><tr><td>Array, String</td><td>Software Development, Salesforce (Apex, Lightning, JavaScript), Middleware (Mulesoft, Dell Boomi, Jitterbit, Kettle), Application Customization (SpringCM, Conga), Data Manipulation, Scripting, Cloud CPQ, Billing Solutions, Agile/Scrum, Version Control (Git), Object-Oriented Programming, Java, C#, C/C++, Python, JavaScript, Problem-Solving, Communication, Teamwork, Web Development (HTML, CSS, Server-side, Client-side), Open Source Contributions</td><td>0.42248878887254804</td></tr><tr><td>Hash Table, String, Dynamic Programming, Backtracking</td><td>Statistical modeling, Machine learning, Natural language processing, Time series analysis, Mathematical optimization, Graph theory, Quantitative finance, Python, R, Symbolic AI, Hybrid symbolic and machine learning, Data engineering, MLOps, Data visualization, Model risk management, Model governance, Cloud computing, Version control, DevOps, Financial services, Wealth management, Model validation, Model monitoring, Model explainability, Model interpretability, Transformer models, K-shot learning, Self-supervised learning, Algorithm research, Stakeholder management, Communication, Presentation skills, Technical communication, Data analysis, Problem-solving, Decision-making, Collaboration</td><td>0.4410147024909863</td></tr><tr><td>Array, Binary Search, Sorting</td><td>Linux System Administration, HPC Cluster Management (SLURM, LSF), Configuration Management (Ansible, Puppet, Terraform), System Monitoring & Alerting (Prometheus, Grafana, Telegraf, Splunk), High-Performance Computing (HPC), Distributed Systems, Networking (TCP/IP, IPoIB), Storage Technologies, Python, Go, Bash, Root Cause Analysis, Automation, Documentation, Communication, Time Management, GPU Computing, High-Throughput Networks, High-Performance Storage, Containerization (Docker, Kubernetes, Singularity), Cloud Computing, Hardware Accelerators (FPGA, ASIC), Parallel Filesystems, Security, Scalability</td><td>0.3762330756559658</td></tr><tr><td>Array, Dynamic Programming, Matrix</td><td>Linux System Administration, HPC Cluster Management (SLURM, LSF), Configuration Management (Ansible, Puppet, Terraform), System Monitoring & Alerting (Prometheus, Grafana, Telegraf, Splunk), High-Performance Computing (HPC), Distributed Systems, Networking (TCP/IP, IPoIB), Storage Technologies, Python, Go, Bash, Root Cause Analysis, Automation, Documentation, Communication, Time Management, GPU Computing, High-Throughput Networks, High-Performance Storage, Containerization (Docker, Kubernetes, Singularity), Cloud Computing, Hardware Accelerators (FPGA, ASIC), Parallel Filesystems, Security, Scalability</td><td>0.3991546018301189</td></tr><tr><td>Array, Hash Table, Greedy, Counting</td><td>Linux System Administration, HPC Cluster Management (SLURM, LSF), Configuration Management (Ansible, Puppet, Terraform), System Monitoring & Alerting (Prometheus, Grafana, Telegraf, Splunk), High-Performance Computing (HPC), Distributed Systems, Networking (TCP/IP, IPoIB), Storage Technologies, Python, Go, Bash, Root Cause Analysis, Automation, Documentation, Communication, Time Management, GPU Computing, High-Throughput Networks, High-Performance Storage, Containerization (Docker, Kubernetes, Singularity), Cloud Computing, Hardware Accelerators (FPGA, ASIC), Parallel Filesystems, Security, Scalability</td><td>0.3677395238997142</td></tr><tr><td>Array, Matrix</td><td>Linux System Administration, HPC Cluster Management (SLURM, LSF), Configuration Management (Ansible, Puppet, Terraform), System Monitoring & Alerting (Prometheus, Grafana, Telegraf, Splunk), High-Performance Computing (HPC), Distributed Systems, Networking (TCP/IP, IPoIB), Storage Technologies, Python, Go, Bash, Root Cause Analysis, Automation, Documentation, Communication, Time Management, GPU Computing, High-Throughput Networks, High-Performance Storage, Containerization (Docker, Kubernetes, Singularity), Cloud Computing, Hardware Accelerators (FPGA, ASIC), Parallel Filesystems, Security, Scalability</td><td>0.39186774648095285</td></tr><tr><td>Array, Backtracking, Bit Manipulation, Matrix</td><td>Linux System Administration, HPC Cluster Management (SLURM, LSF), Configuration Management (Ansible, Puppet, Terraform), System Monitoring & Alerting (Prometheus, Grafana, Telegraf, Splunk), High-Performance Computing (HPC), Distributed Systems, Networking (TCP/IP, IPoIB), Storage Technologies, Python, Go, Bash, Root Cause Analysis, Automation, Documentation, Communication, Time Management, GPU Computing, High-Throughput Networks, High-Performance Storage, Containerization (Docker, Kubernetes, Singularity), Cloud Computing, Hardware Accelerators (FPGA, ASIC), Parallel Filesystems, Security, Scalability</td><td>0.40026290207993487</td></tr><tr><td>Array, Hash Table, Divide and Conquer, Sorting, Heap (Priority Queue), Bucket Sort, Counting, Quickselect</td><td>Customer service, communication, hospitality, teamwork</td><td>0.3982077985668069</td></tr><tr><td>Array, Bit Manipulation, Breadth-First Search, Matrix</td><td>Software Development, Requirements Gathering, Implementation, Maintenance, Software Design, Embedded Code Development, Debugging, Troubleshooting, Linux, BSD, VxWorks, Computer Networking, C, C++, Python, Layer 2 VPN, Layer 3 VPN, BGP, VPLS, IP-VPN, mVPN, Virtualized Switching, OpenVswitch, Nexus 1000v, Server Virtualization, KVM, Xen, VMware ESXi, SD-WAN, Product Management, QA Support, Customer Support</td><td>0.3950845786910019</td></tr><tr><td>Array, Hash Table, String, Graph, Topological Sort</td><td>Software Development, Requirements Gathering, Implementation, Maintenance, Software Design, Embedded Code Development, Debugging, Troubleshooting, Linux, BSD, VxWorks, Computer Networking, C, C++, Python, Layer 2 VPN, Layer 3 VPN, BGP, VPLS, IP-VPN, mVPN, Virtualized Switching, OpenVswitch, Nexus 1000v, Server Virtualization, KVM, Xen, VMware ESXi, SD-WAN, Product Management, QA Support, Customer Support</td><td>0.3558074424352888</td></tr><tr><td>Array manipulation, Hash table usage, Algorithm design, Time complexity analysis, Space complexity analysis</td><td>Java, Oracle, SQL Server, Hibernate, Swing, Agile, Test-oriented development, Object-oriented design, Design patterns, Cloud solutions, Continuous Integration, System architecture, Software development lifecycle (SDLC), Documentation, Code review</td><td>0.3775197674931469</td></tr><tr><td>Tree, Depth-First Search, Binary Tree</td><td>C#, PowerShell, Software Development, Debugging, Troubleshooting, System Tuning, Capacity Planning, Performance Analysis, Security, Scalability, Reliability, Automation, DevOps, Service Engineering, System Architecture, Code Review,  Problem Solving,  On-Call Support, Disaster Recovery, Business Continuity Planning,  Distributed Systems, Virtualization (Hyper-V, VMWare),  Customer Focus, Live Site Operations,  Analytical Skills, Communication Skills, Interpersonal Skills,  Multitasking,  Customer Service, Supply Chain (Preferred), Operations Analytics (Preferred)</td><td>0.3712311095200441</td></tr><tr><td>Hash Table, Binary Search, Tree, Depth-First Search, Binary Tree</td><td>C#, PowerShell, Software Development, Debugging, Troubleshooting, System Tuning, Capacity Planning, Performance Analysis, Security, Scalability, Reliability, Automation, DevOps, Service Engineering, System Architecture, Code Review,  Problem Solving,  On-Call Support, Disaster Recovery, Business Continuity Planning,  Distributed Systems, Virtualization (Hyper-V, VMWare),  Customer Focus, Live Site Operations,  Analytical Skills, Communication Skills, Interpersonal Skills,  Multitasking,  Customer Service, Supply Chain (Preferred), Operations Analytics (Preferred)</td><td>0.35630694360562115</td></tr><tr><td>Linked List manipulation,Pointer manipulation,Algorithm design,Problem solving</td><td>budgeting, data analysis, expense management, communication, problem solving, detail-oriented, time management, adaptability, interpersonal skills, financial planning, financial analysis, forecasting, financial modeling, reporting tools (Hyperion, GEAR), business case development, strategic planning, collaboration, influencing skills, business acumen, teamwork</td><td>0.4426894150242657</td></tr><tr><td>Math</td><td>Software Development, Performance Engineering, Service Reliability Engineering, Data Analysis, Problem Diagnosis, Object-oriented Programming (Java, C#, Scala), Profiling, Thread Dump Analysis, Heap Dump Analysis, Garbage Collection Analysis, CPU Utilization Analysis, Thread Utilization Analysis, SQL, NoSQL, Distributed Systems, Cloud Computing (Public/Private), Stakeholder Communication, Tool Development, Prototyping, Architectural Influence</td><td>0.46284933787690696</td></tr><tr><td>Stack, Design</td><td>PCB design, Software development, Coding, C/C++, Python, Embedded systems, Firmware, Altium Designer, KiCad, Eagle PCB, Electrical Engineering, Problem-solving, Communication, Teamwork, Stakeholder management, Client collaboration, Supplier management, Safety standards (electric vehicles), Sustainability, Micromobility, Strategic product innovation</td><td>0.5122516090496582</td></tr><tr><td>Multithreading,Synchronization,Concurrency,Problem-solving,Java</td><td>PCB design, Software development, Coding, C/C++, Python, Embedded systems, Firmware, Altium Designer, KiCad, Eagle PCB, Electrical Engineering, Problem-solving, Communication, Teamwork, Stakeholder management, Client collaboration, Supplier management, Safety standards (electric vehicles), Sustainability, Micromobility, Strategic product innovation</td><td>0.45365451207112084</td></tr><tr><td>Algorithm design,Time complexity analysis,Space complexity analysis,Array manipulation</td><td>AWS, Linux, Bash/Perl/Ruby/Python, Splunk/Wavefront/Zabbix/ELK/Prometheus/Grafana, Software Development, DevOps, SRE, Monitoring, Observability, Alerting, Automation, Agile, Team Leadership, Communication, Problem-solving</td><td>0.3744694730298102</td></tr><tr><td>Problem-solving, String manipulation, 2D array manipulation, Algorithm design, Pathfinding</td><td>SEO, Local SEO, PPC, Facebook Ads, Google Analytics, Ahrefs, Screaming Frog, SEMrush,  Website Content Writing,  Blog Writing,  Marketing Strategy,  Campaign Performance Tracking & Reporting,  Communication (written & verbal),  Interpersonal Skills, Customer Service,  Project Management, Time Management, Organization, Detail-Oriented,  Teamwork,  Resourcefulness,  Problem-solving,  Creative Thinking,  Flexible Schedule,  Bilingual (plus)</td><td>0.3781553669432072</td></tr><tr><td>String manipulation,Array manipulation,Counting,Logical reasoning,Algorithm design</td><td>financial analysis, accounting, Microsoft Excel, data analysis, financial reporting, project management, account reconciliation, communication, organization, time management, flexibility, team collaboration, influencing, KPI tracking, cash flow management</td><td>0.4071734652829313</td></tr><tr><td>Tree construction, recursion, array manipulation, algorithm design</td><td>financial analysis, budgeting, strategic planning, financial regulations, accounting principles, risk assessment, data analysis, leadership, communication, collaboration, problem solving, interpersonal skills, strategic thinking, relationship building, teamwork, forecasting, financial reporting, return on investment analysis, CPA, MBA, mentoring, inspiration</td><td>0.3815645735581681</td></tr><tr><td>Probability,Randomization,Array manipulation,Algorithm design</td><td>HTML, CSS, Ajax, JavaScript, Angular, PHP, Node.js, Object-Oriented Programming, Single Page Application development, Responsive Web Design, Web Development, Software Development, Debugging, Testing, Code Review, Cloud Native Architecture, Problem-solving, Analytical skills, Communication (written & verbal), Teamwork, Collaboration</td><td>0.39876561760867835</td></tr><tr><td>Array, Greedy, Bit Manipulation</td><td>financial analysis, budgeting, strategic planning, financial regulations, accounting principles, risk assessment, data analysis, leadership, communication, collaboration, problem solving, interpersonal skills, strategic thinking, relationship building, teamwork, forecasting, financial reporting, return on investment analysis, CPA, MBA, mentoring, inspiration</td><td>0.39174038996812865</td></tr><tr><td>Array, Design, Counting, Iterator</td><td>financial analysis, budgeting, strategic planning, financial regulations, accounting principles, risk assessment, data analysis, leadership, communication, collaboration, problem solving, interpersonal skills, strategic thinking, relationship building, teamwork, forecasting, financial reporting, return on investment analysis, CPA, MBA, mentoring, inspiration</td><td>0.43570503948777334</td></tr><tr><td>Array, Matrix</td><td>financial analysis, budgeting, strategic planning, financial regulations, accounting principles, risk assessment, data analysis, leadership, communication, collaboration, problem solving, interpersonal skills, strategic thinking, relationship building, teamwork, forecasting, financial reporting, return on investment analysis, CPA, MBA, mentoring, inspiration</td><td>0.3905141158297119</td></tr><tr><td>Array, Hash Table, Math, Bit Manipulation, Prefix Sum</td><td>financial analysis, budgeting, strategic planning, financial regulations, accounting principles, risk assessment, data analysis, leadership, communication, collaboration, problem solving, interpersonal skills, strategic thinking, relationship building, teamwork, forecasting, financial reporting, return on investment analysis, CPA, MBA, mentoring, inspiration</td><td>0.38847860340300816</td></tr><tr><td>Array, Hash Table, Math, Number Theory</td><td>financial analysis, budgeting, strategic planning, financial regulations, accounting principles, risk assessment, data analysis, leadership, communication, collaboration, problem solving, interpersonal skills, strategic thinking, relationship building, teamwork, forecasting, financial reporting, return on investment analysis, CPA, MBA, mentoring, inspiration</td><td>0.3981448149992145</td></tr><tr><td>Array, Hash Table, String</td><td>financial analysis, budgeting, strategic planning, financial regulations, accounting principles, risk assessment, data analysis, leadership, communication, collaboration, problem solving, interpersonal skills, strategic thinking, relationship building, teamwork, forecasting, financial reporting, return on investment analysis, CPA, MBA, mentoring, inspiration</td><td>0.34760033240914995</td></tr><tr><td>Array, Heap (Priority Queue)</td><td>financial analysis, budgeting, strategic planning, financial regulations, accounting principles, risk assessment, data analysis, leadership, communication, collaboration, problem solving, interpersonal skills, strategic thinking, relationship building, teamwork, forecasting, financial reporting, return on investment analysis, CPA, MBA, mentoring, inspiration</td><td>0.3063975906490262</td></tr><tr><td>Array, Matrix, Enumeration</td><td>financial analysis, budgeting, strategic planning, financial regulations, accounting principles, risk assessment, data analysis, leadership, communication, collaboration, problem solving, interpersonal skills, strategic thinking, relationship building, teamwork, forecasting, financial reporting, return on investment analysis, CPA, MBA, mentoring, inspiration</td><td>0.3893918793971309</td></tr><tr><td>Array, Simulation</td><td>financial analysis, budgeting, strategic planning, financial regulations, accounting principles, risk assessment, data analysis, leadership, communication, collaboration, problem solving, interpersonal skills, strategic thinking, relationship building, teamwork, forecasting, financial reporting, return on investment analysis, CPA, MBA, mentoring, inspiration</td><td>0.3710884536189528</td></tr><tr><td>Array, Hash Table, Greedy</td><td>Strategic Planning, Project Management, Technology Innovation, Consumer Technology Expertise,  Data Analytics, Business Strategy,  Digital Transformation,  Team Leadership,  Communication (written & oral), Presentation Skills, Relationship Building, Servant Leadership,  Problem-solving,  Negotiation,  Financial Analysis,  Product Management,  IT Infrastructure Knowledge,  Cloud Technologies,  Emerging Technology Awareness,  Regulatory Compliance (PCI, HIPAA),  Stakeholder Management,  Innovation,  Product Development,  Hardware/Software Knowledge,  Mobile App Development,  Electrical Systems, Control Systems.</td><td>0.33387282705209326</td></tr><tr><td>Array, Dynamic Programming</td><td>Strategic Planning, Project Management, Technology Innovation, Consumer Technology Expertise,  Data Analytics, Business Strategy,  Digital Transformation,  Team Leadership,  Communication (written & oral), Presentation Skills, Relationship Building, Servant Leadership,  Problem-solving,  Negotiation,  Financial Analysis,  Product Management,  IT Infrastructure Knowledge,  Cloud Technologies,  Emerging Technology Awareness,  Regulatory Compliance (PCI, HIPAA),  Stakeholder Management,  Innovation,  Product Development,  Hardware/Software Knowledge,  Mobile App Development,  Electrical Systems, Control Systems.</td><td>0.3940855706949226</td></tr><tr><td>Array, Greedy, Matrix</td><td>Strategic Planning, Project Management, Technology Innovation, Consumer Technology Expertise,  Data Analytics, Business Strategy,  Digital Transformation,  Team Leadership,  Communication (written & oral), Presentation Skills, Relationship Building, Servant Leadership,  Problem-solving,  Negotiation,  Financial Analysis,  Product Management,  IT Infrastructure Knowledge,  Cloud Technologies,  Emerging Technology Awareness,  Regulatory Compliance (PCI, HIPAA),  Stakeholder Management,  Innovation,  Product Development,  Hardware/Software Knowledge,  Mobile App Development,  Electrical Systems, Control Systems.</td><td>0.37666869647817586</td></tr><tr><td>Array, Hash Table, Two Pointers, Binary Search, Sorting</td><td>Strategic Planning, Project Management, Technology Innovation, Consumer Technology Expertise,  Data Analytics, Business Strategy,  Digital Transformation,  Team Leadership,  Communication (written & oral), Presentation Skills, Relationship Building, Servant Leadership,  Problem-solving,  Negotiation,  Financial Analysis,  Product Management,  IT Infrastructure Knowledge,  Cloud Technologies,  Emerging Technology Awareness,  Regulatory Compliance (PCI, HIPAA),  Stakeholder Management,  Innovation,  Product Development,  Hardware/Software Knowledge,  Mobile App Development,  Electrical Systems, Control Systems.</td><td>0.3331428122845711</td></tr><tr><td>Algorithm design,Sorting algorithms,Time complexity analysis,Space complexity analysis</td><td>Linux System Administration, HPC Cluster Management (SLURM, LSF), Configuration Management (Ansible, Puppet, Terraform), System Monitoring & Alerting (Prometheus, Grafana, Telegraf, Splunk), High-Performance Computing (HPC), Distributed Systems, Networking (TCP/IP, IPoIB), Storage Technologies, Python, Go, Bash, Root Cause Analysis, Automation, Documentation, Communication, Time Management, GPU Computing, High-Throughput Networks, High-Performance Storage, Containerization (Docker, Kubernetes, Singularity), Cloud Computing, Hardware Accelerators (FPGA, ASIC), Parallel Filesystems, Security, Scalability</td><td>0.3826741983626751</td></tr><tr><td>Tree, Depth-First Search, Binary Tree</td><td>Statistical methods, Causal inference, Data analysis, Data visualization, Data interpretation, SQL, Python, R, Project management, Data storytelling, Communication, Stakeholder management, Teamwork, Mentorship,  Product data analysis, Revenue data analysis</td><td>0.41868694548168695</td></tr><tr><td>Array, Dynamic Programming, Queue, Sliding Window, Heap (Priority Queue), Monotonic Queue</td><td>accounting principles, communication, teamwork, financial management, liquidity management, asset/liability management (ALM), profitability reporting, financial analysis, cost accounting, data analytics, CPA, CFA, financial forecasting, strategic planning, leadership, problem solving, advisory skills, engagement, ownership</td><td>0.356513960596422</td></tr><tr><td>Hash Table, Design, Heap (Priority Queue), Data Stream, Ordered Set</td><td>accounting principles, communication, teamwork, financial management, liquidity management, asset/liability management (ALM), profitability reporting, financial analysis, cost accounting, data analytics, CPA, CFA, financial forecasting, strategic planning, leadership, problem solving, advisory skills, engagement, ownership</td><td>0.3719285929300528</td></tr><tr><td>Data structures,Algorithm design,Time complexity analysis</td><td>C/C++, Python, Linux-based development, VLSI CAD algorithm development, data structures, algorithms, software engineering principles, strong verbal and written communication skills, strong teamwork skills, problem-solving skills, analysis skills, programming skills, debugging skills, troubleshooting skills, statistical analysis, machine learning, deep learning,  routing algorithm knowledge, quality and software processes, Unix/Linux platform experience</td><td>0.507321131246777</td></tr><tr><td>Array, Two Pointers, Binary Search, Sorting</td><td>HTML, CSS, Ajax, JavaScript, Angular, PHP, Node.js, Object-Oriented Programming, Single Page Application development, Responsive Web Design, Web Development, Software Development, Debugging, Testing, Code Review, Cloud Native Architecture, Problem-solving, Analytical skills, Communication (written & verbal), Teamwork, Collaboration</td><td>0.3916030813714771</td></tr><tr><td>Math, Binary Search</td><td>HTML, CSS, Ajax, JavaScript, Angular, PHP, Node.js, Object-Oriented Programming, Single Page Application development, Responsive Web Design, Web Development, Software Development, Debugging, Testing, Code Review, Cloud Native Architecture, Problem-solving, Analytical skills, Communication (written & verbal), Teamwork, Collaboration</td><td>0.4197590558228057</td></tr><tr><td>Array, String, Binary Search, Trie, Sorting, Heap (Priority Queue)</td><td>Linux System Administration, DevOps, Cloud Engineering, Automation,  Bash Scripting, SSH, Git,  Jenkins, Consul, Vault,  Networking, TCP/IP, DNS, HTTP, TLS, Web Security,  Troubleshooting,  Monitoring (Nagios, Cacti, Grafana, ELK), HAProxy, Kubernetes,  Infrastructure as Code (IaC), Configuration Management, CI/CD, Containerization, Virtualization, MySQL,  Backup and Restore,  Documentation,  Communication,  Problem-solving,  Software Updates,  High Availability (HA),  Security, CentOS, Ubuntu,  Python/other interpreted languages (Preferred),  Email Server Administration (Preferred)</td><td>0.37443178806958477</td></tr><tr><td>Array, Hash Table, Binary Search, Design</td><td>Linux System Administration, DevOps, Cloud Engineering, Automation,  Bash Scripting, SSH, Git,  Jenkins, Consul, Vault,  Networking, TCP/IP, DNS, HTTP, TLS, Web Security,  Troubleshooting,  Monitoring (Nagios, Cacti, Grafana, ELK), HAProxy, Kubernetes,  Infrastructure as Code (IaC), Configuration Management, CI/CD, Containerization, Virtualization, MySQL,  Backup and Restore,  Documentation,  Communication,  Problem-solving,  Software Updates,  High Availability (HA),  Security, CentOS, Ubuntu,  Python/other interpreted languages (Preferred),  Email Server Administration (Preferred)</td><td>0.39398583097768475</td></tr><tr><td>Array, Hash Table, String, Binary Search, Sorting</td><td>Linux System Administration, DevOps, Cloud Engineering, Automation,  Bash Scripting, SSH, Git,  Jenkins, Consul, Vault,  Networking, TCP/IP, DNS, HTTP, TLS, Web Security,  Troubleshooting,  Monitoring (Nagios, Cacti, Grafana, ELK), HAProxy, Kubernetes,  Infrastructure as Code (IaC), Configuration Management, CI/CD, Containerization, Virtualization, MySQL,  Backup and Restore,  Documentation,  Communication,  Problem-solving,  Software Updates,  High Availability (HA),  Security, CentOS, Ubuntu,  Python/other interpreted languages (Preferred),  Email Server Administration (Preferred)</td><td>0.37917831327905155</td></tr><tr><td>Array, Stack, Monotonic Stack</td><td>Linux/UNIX administration, Docker, docker-compose, containerized development, Ansible, Packer, Terraform, OpenShift, Kubernetes, Bash, Python, Node.js, Application clustering, load balancing, VMware vSphere API, Gitlab CI/CD, networking fundamentals, command line tools, HTTP, SSL, LDAP, SQL, HTML, XML, PostgreSQL, Keepalived,  CI/CD, Blue/Green Deployments,  Consul,  Atomic Host,  distributed computing, data systems, immutable infrastructure, serverless computing</td><td>0.3796018331860856</td></tr><tr><td>Array, Binary Search, Stack, Binary Indexed Tree, Segment Tree, Heap (Priority Queue), Monotonic Stack</td><td>Linux/UNIX administration, Docker, docker-compose, containerized development, Ansible, Packer, Terraform, OpenShift, Kubernetes, Bash, Python, Node.js, Application clustering, load balancing, VMware vSphere API, Gitlab CI/CD, networking fundamentals, command line tools, HTTP, SSL, LDAP, SQL, HTML, XML, PostgreSQL, Keepalived,  CI/CD, Blue/Green Deployments,  Consul,  Atomic Host,  distributed computing, data systems, immutable infrastructure, serverless computing</td><td>0.3491039159027541</td></tr><tr><td>Array, Binary Search</td><td>Linux/UNIX administration, Docker, docker-compose, containerized development, Ansible, Packer, Terraform, OpenShift, Kubernetes, Bash, Python, Node.js, Application clustering, load balancing, VMware vSphere API, Gitlab CI/CD, networking fundamentals, command line tools, HTTP, SSL, LDAP, SQL, HTML, XML, PostgreSQL, Keepalived,  CI/CD, Blue/Green Deployments,  Consul,  Atomic Host,  distributed computing, data systems, immutable infrastructure, serverless computing</td><td>0.3611695221636349</td></tr><tr><td>Array, Hash Table, String, Sorting</td><td>Linux/UNIX administration, Docker, docker-compose, containerized development, Ansible, Packer, Terraform, OpenShift, Kubernetes, Bash, Python, Node.js, Application clustering, load balancing, VMware vSphere API, Gitlab CI/CD, networking fundamentals, command line tools, HTTP, SSL, LDAP, SQL, HTML, XML, PostgreSQL, Keepalived,  CI/CD, Blue/Green Deployments,  Consul,  Atomic Host,  distributed computing, data systems, immutable infrastructure, serverless computing</td><td>0.3787466051149497</td></tr><tr><td>Array</td><td>Linux/UNIX administration, Docker, docker-compose, containerized development, Ansible, Packer, Terraform, OpenShift, Kubernetes, Bash, Python, Node.js, Application clustering, load balancing, VMware vSphere API, Gitlab CI/CD, networking fundamentals, command line tools, HTTP, SSL, LDAP, SQL, HTML, XML, PostgreSQL, Keepalived,  CI/CD, Blue/Green Deployments,  Consul,  Atomic Host,  distributed computing, data systems, immutable infrastructure, serverless computing</td><td>0.3635859832461134</td></tr></tbody></table></div>"
      ]
     },
     "metadata": {
      "application/vnd.databricks.v1+output": {
       "addedWidgets": {},
       "aggData": [],
       "aggError": "",
       "aggOverflow": false,
       "aggSchema": [],
       "aggSeriesLimitReached": false,
       "aggType": "",
       "arguments": {},
       "columnCustomDisplayInfos": {},
       "data": [
        [
         "Array, Two Pointers, Simulation",
         "Linux System Administration, DevOps, Cloud Engineering, Automation,  Bash Scripting, SSH, Git,  Jenkins, Consul, Vault,  Networking, TCP/IP, DNS, HTTP, TLS, Web Security,  Troubleshooting,  Monitoring (Nagios, Cacti, Grafana, ELK), HAProxy, Kubernetes,  Infrastructure as Code (IaC), Configuration Management, CI/CD, Containerization, Virtualization, MySQL,  Backup and Restore,  Documentation,  Communication,  Problem-solving,  Software Updates,  High Availability (HA),  Security, CentOS, Ubuntu,  Python/other interpreted languages (Preferred),  Email Server Administration (Preferred)",
         0.390489769803598
        ],
        [
         "Array, Matrix, Simulation",
         "Linux System Administration, DevOps, Cloud Engineering, Automation,  Bash Scripting, SSH, Git,  Jenkins, Consul, Vault,  Networking, TCP/IP, DNS, HTTP, TLS, Web Security,  Troubleshooting,  Monitoring (Nagios, Cacti, Grafana, ELK), HAProxy, Kubernetes,  Infrastructure as Code (IaC), Configuration Management, CI/CD, Containerization, Virtualization, MySQL,  Backup and Restore,  Documentation,  Communication,  Problem-solving,  Software Updates,  High Availability (HA),  Security, CentOS, Ubuntu,  Python/other interpreted languages (Preferred),  Email Server Administration (Preferred)",
         0.39765646212729233
        ],
        [
         "String, Simulation",
         "Linux System Administration, DevOps, Cloud Engineering, Automation,  Bash Scripting, SSH, Git,  Jenkins, Consul, Vault,  Networking, TCP/IP, DNS, HTTP, TLS, Web Security,  Troubleshooting,  Monitoring (Nagios, Cacti, Grafana, ELK), HAProxy, Kubernetes,  Infrastructure as Code (IaC), Configuration Management, CI/CD, Containerization, Virtualization, MySQL,  Backup and Restore,  Documentation,  Communication,  Problem-solving,  Software Updates,  High Availability (HA),  Security, CentOS, Ubuntu,  Python/other interpreted languages (Preferred),  Email Server Administration (Preferred)",
         0.4116839695147745
        ],
        [
         "String manipulation, substring identification, iterative processing, algorithm design",
         "Licensed Occupational Therapist, Physical Therapy Assistant license (preferred), Occupational Therapy Assistant certification (preferred)",
         0.19789366453806792
        ],
        [
         "Array, Depth-First Search, Breadth-First Search, Union Find, Matrix",
         "Agile methodologies, Scrum, Software Engineering, Computer Science, Electrical Engineering, REST API, JSON/XML, Open Source Technologies (NiFi, Kafka, Elastic Stack, Solr), CI/CD, Ansible, Jenkins, Git, Java, Docker, Kubernetes, JIRA, Confluence, Linux, Windows, Model Based Systems Engineering (MBSE), SecDevOps, User Interface Development, User Experience, Web Application Development, System Integration,  Software Design, Problem Solving,  Continuous Integration",
         0.34324457237519423
        ],
        [
         "Tree, Depth-First Search, Binary Tree",
         "Agile methodologies, Scrum, Software Engineering, Computer Science, Electrical Engineering, REST API, JSON/XML, Open Source Technologies (NiFi, Kafka, Elastic Stack, Solr), CI/CD, Ansible, Jenkins, Git, Java, Docker, Kubernetes, JIRA, Confluence, Linux, Windows, Model Based Systems Engineering (MBSE), SecDevOps, User Interface Development, User Experience, Web Application Development, System Integration,  Software Design, Problem Solving,  Continuous Integration",
         0.3933069837452879
        ],
        [
         "Array, Hash Table, Tree, Depth-First Search, Breadth-First Search, Binary Tree",
         "Agile methodologies, Scrum, Software Engineering, Computer Science, Electrical Engineering, REST API, JSON/XML, Open Source Technologies (NiFi, Kafka, Elastic Stack, Solr), CI/CD, Ansible, Jenkins, Git, Java, Docker, Kubernetes, JIRA, Confluence, Linux, Windows, Model Based Systems Engineering (MBSE), SecDevOps, User Interface Development, User Experience, Web Application Development, System Integration,  Software Design, Problem Solving,  Continuous Integration",
         0.36951892845368034
        ],
        [
         "Array, Dynamic Programming",
         "Evaluation, Implementation, Execution, On-premise support, Field work",
         0.5004412799258074
        ],
        [
         "Array, Math, Greedy, Sorting",
         "Evaluation, Implementation, Execution, On-premise support, Field work",
         0.4742262241475249
        ],
        [
         "Hash Table, Binary Search, Design, Sorting, Ordered Set",
         "Statistical methods, Causal inference, Data analysis, Data visualization, Data interpretation, SQL, Python, R, Project management, Data storytelling, Communication, Stakeholder management, Teamwork, Mentorship,  Product data analysis, Revenue data analysis",
         0.43652300615950745
        ],
        [
         "String manipulation,String reversal,Index manipulation,Conditional logic,Algorithm implementation",
         "Azure, Terraform, ARM templates, Azure DevOps, Python, PowerShell, Docker, Kubernetes, Agile, Scrum, DevSecOps, Configuration Management, Orchestration, Cloud Services (compute, storage, Key Vault, Azure PaaS), Failure Injection Testing, IAM (least privilege access, password management, audit logging, RBAC, certificate issuance and revocation),  Site Reliability Engineering,  Metrics collection, reporting and alerting,  Continuous Integration,  Horizontal and vertical scalability, Cloud native monitoring,  Excellent communication skills, Problem-solving.",
         0.2950621809233166
        ],
        [
         "Hash Table, String",
         "sales, business development, relationship building, creativity, organization, communication, problem solving, market research, liquid sugar knowledge, sugar refining knowledge, food science knowledge, chemical knowledge",
         0.3640250554512577
        ],
        [
         "Hash Table, String, Trie, Sorting, Heap (Priority Queue), Bucket Sort, Counting",
         "sales, business development, relationship building, creativity, organization, communication, problem solving, market research, liquid sugar knowledge, sugar refining knowledge, food science knowledge, chemical knowledge",
         0.3529272913000118
        ],
        [
         "Array, Hash Table, String, Bit Manipulation",
         "sales, business development, relationship building, creativity, organization, communication, problem solving, market research, liquid sugar knowledge, sugar refining knowledge, food science knowledge, chemical knowledge",
         0.3510893419215665
        ],
        [
         "Hash Table, String, Design, Trie",
         "sales, business development, relationship building, creativity, organization, communication, problem solving, market research, liquid sugar knowledge, sugar refining knowledge, food science knowledge, chemical knowledge",
         0.4247545762440467
        ],
        [
         "Stack, Tree, Depth-First Search, Binary Tree",
         "sales, business development, relationship building, creativity, organization, communication, problem solving, market research, liquid sugar knowledge, sugar refining knowledge, food science knowledge, chemical knowledge",
         0.40987922513076547
        ],
        [
         "Dynamic Programming,Algorithm Design,Time Complexity Analysis",
         "The provided text only gives salary, location, type, department, and job number.  It offers no information about required skills.  Therefore, it's impossible to infer a comma-separated list of skills.",
         0.30584070713183287
        ],
        [
         "Math, Two Pointers, Binary Search",
         "financial analysis, budgeting, strategic planning, financial regulations, accounting principles, risk assessment, data analysis, leadership, communication, collaboration, problem solving, interpersonal skills, strategic thinking, relationship building, teamwork, forecasting, financial reporting, return on investment analysis, CPA, MBA, mentoring, inspiration",
         0.43741360119661904
        ],
        [
         "Frequency analysis, sorting, heap data structure, algorithm optimization, time complexity analysis",
         "Machine Learning, Deep Learning, NLP, Computer Vision, Data Mining, Data Science, Algorithm Development,  Large-Scale Data Processing,  Model Building, Model Deployment,  Software Engineering (Java, Scala, Python, C++),  TensorFlow, Scikit-learn, R, Spark, PyTorch, Apache Hadoop, Solr/Lucene, Cassandra,  Topic Modeling, Graph Algorithms,  Supervised/Unsupervised Learning,  Metrics Analysis",
         0.4587924317941288
        ],
        [
         "Depth-First Search, Breadth-First Search, Graph, Topological Sort",
         "Python, Java, SQL, NoSQL, Key-Value Store, Distributed Systems, Real-time Systems, Software Design, Problem-solving, Team Collaboration, CI/CD, Testing, Secure Coding, Event-driven Architecture, Messaging Frameworks (Pub/Sub, Kafka, RabbitMQ), Cloud Infrastructure (GCP, AWS, Azure)",
         0.36880364335339766
        ],
        [
         "Array, String",
         "Software Development, Salesforce (Apex, Lightning, JavaScript), Middleware (Mulesoft, Dell Boomi, Jitterbit, Kettle), Application Customization (SpringCM, Conga), Data Manipulation, Scripting, Cloud CPQ, Billing Solutions, Agile/Scrum, Version Control (Git), Object-Oriented Programming, Java, C#, C/C++, Python, JavaScript, Problem-Solving, Communication, Teamwork, Web Development (HTML, CSS, Server-side, Client-side), Open Source Contributions",
         0.42248878887254804
        ],
        [
         "Hash Table, String, Dynamic Programming, Backtracking",
         "Statistical modeling, Machine learning, Natural language processing, Time series analysis, Mathematical optimization, Graph theory, Quantitative finance, Python, R, Symbolic AI, Hybrid symbolic and machine learning, Data engineering, MLOps, Data visualization, Model risk management, Model governance, Cloud computing, Version control, DevOps, Financial services, Wealth management, Model validation, Model monitoring, Model explainability, Model interpretability, Transformer models, K-shot learning, Self-supervised learning, Algorithm research, Stakeholder management, Communication, Presentation skills, Technical communication, Data analysis, Problem-solving, Decision-making, Collaboration",
         0.4410147024909863
        ],
        [
         "Array, Binary Search, Sorting",
         "Linux System Administration, HPC Cluster Management (SLURM, LSF), Configuration Management (Ansible, Puppet, Terraform), System Monitoring & Alerting (Prometheus, Grafana, Telegraf, Splunk), High-Performance Computing (HPC), Distributed Systems, Networking (TCP/IP, IPoIB), Storage Technologies, Python, Go, Bash, Root Cause Analysis, Automation, Documentation, Communication, Time Management, GPU Computing, High-Throughput Networks, High-Performance Storage, Containerization (Docker, Kubernetes, Singularity), Cloud Computing, Hardware Accelerators (FPGA, ASIC), Parallel Filesystems, Security, Scalability",
         0.3762330756559658
        ],
        [
         "Array, Dynamic Programming, Matrix",
         "Linux System Administration, HPC Cluster Management (SLURM, LSF), Configuration Management (Ansible, Puppet, Terraform), System Monitoring & Alerting (Prometheus, Grafana, Telegraf, Splunk), High-Performance Computing (HPC), Distributed Systems, Networking (TCP/IP, IPoIB), Storage Technologies, Python, Go, Bash, Root Cause Analysis, Automation, Documentation, Communication, Time Management, GPU Computing, High-Throughput Networks, High-Performance Storage, Containerization (Docker, Kubernetes, Singularity), Cloud Computing, Hardware Accelerators (FPGA, ASIC), Parallel Filesystems, Security, Scalability",
         0.3991546018301189
        ],
        [
         "Array, Hash Table, Greedy, Counting",
         "Linux System Administration, HPC Cluster Management (SLURM, LSF), Configuration Management (Ansible, Puppet, Terraform), System Monitoring & Alerting (Prometheus, Grafana, Telegraf, Splunk), High-Performance Computing (HPC), Distributed Systems, Networking (TCP/IP, IPoIB), Storage Technologies, Python, Go, Bash, Root Cause Analysis, Automation, Documentation, Communication, Time Management, GPU Computing, High-Throughput Networks, High-Performance Storage, Containerization (Docker, Kubernetes, Singularity), Cloud Computing, Hardware Accelerators (FPGA, ASIC), Parallel Filesystems, Security, Scalability",
         0.3677395238997142
        ],
        [
         "Array, Matrix",
         "Linux System Administration, HPC Cluster Management (SLURM, LSF), Configuration Management (Ansible, Puppet, Terraform), System Monitoring & Alerting (Prometheus, Grafana, Telegraf, Splunk), High-Performance Computing (HPC), Distributed Systems, Networking (TCP/IP, IPoIB), Storage Technologies, Python, Go, Bash, Root Cause Analysis, Automation, Documentation, Communication, Time Management, GPU Computing, High-Throughput Networks, High-Performance Storage, Containerization (Docker, Kubernetes, Singularity), Cloud Computing, Hardware Accelerators (FPGA, ASIC), Parallel Filesystems, Security, Scalability",
         0.39186774648095285
        ],
        [
         "Array, Backtracking, Bit Manipulation, Matrix",
         "Linux System Administration, HPC Cluster Management (SLURM, LSF), Configuration Management (Ansible, Puppet, Terraform), System Monitoring & Alerting (Prometheus, Grafana, Telegraf, Splunk), High-Performance Computing (HPC), Distributed Systems, Networking (TCP/IP, IPoIB), Storage Technologies, Python, Go, Bash, Root Cause Analysis, Automation, Documentation, Communication, Time Management, GPU Computing, High-Throughput Networks, High-Performance Storage, Containerization (Docker, Kubernetes, Singularity), Cloud Computing, Hardware Accelerators (FPGA, ASIC), Parallel Filesystems, Security, Scalability",
         0.40026290207993487
        ],
        [
         "Array, Hash Table, Divide and Conquer, Sorting, Heap (Priority Queue), Bucket Sort, Counting, Quickselect",
         "Customer service, communication, hospitality, teamwork",
         0.3982077985668069
        ],
        [
         "Array, Bit Manipulation, Breadth-First Search, Matrix",
         "Software Development, Requirements Gathering, Implementation, Maintenance, Software Design, Embedded Code Development, Debugging, Troubleshooting, Linux, BSD, VxWorks, Computer Networking, C, C++, Python, Layer 2 VPN, Layer 3 VPN, BGP, VPLS, IP-VPN, mVPN, Virtualized Switching, OpenVswitch, Nexus 1000v, Server Virtualization, KVM, Xen, VMware ESXi, SD-WAN, Product Management, QA Support, Customer Support",
         0.3950845786910019
        ],
        [
         "Array, Hash Table, String, Graph, Topological Sort",
         "Software Development, Requirements Gathering, Implementation, Maintenance, Software Design, Embedded Code Development, Debugging, Troubleshooting, Linux, BSD, VxWorks, Computer Networking, C, C++, Python, Layer 2 VPN, Layer 3 VPN, BGP, VPLS, IP-VPN, mVPN, Virtualized Switching, OpenVswitch, Nexus 1000v, Server Virtualization, KVM, Xen, VMware ESXi, SD-WAN, Product Management, QA Support, Customer Support",
         0.3558074424352888
        ],
        [
         "Array manipulation, Hash table usage, Algorithm design, Time complexity analysis, Space complexity analysis",
         "Java, Oracle, SQL Server, Hibernate, Swing, Agile, Test-oriented development, Object-oriented design, Design patterns, Cloud solutions, Continuous Integration, System architecture, Software development lifecycle (SDLC), Documentation, Code review",
         0.3775197674931469
        ],
        [
         "Tree, Depth-First Search, Binary Tree",
         "C#, PowerShell, Software Development, Debugging, Troubleshooting, System Tuning, Capacity Planning, Performance Analysis, Security, Scalability, Reliability, Automation, DevOps, Service Engineering, System Architecture, Code Review,  Problem Solving,  On-Call Support, Disaster Recovery, Business Continuity Planning,  Distributed Systems, Virtualization (Hyper-V, VMWare),  Customer Focus, Live Site Operations,  Analytical Skills, Communication Skills, Interpersonal Skills,  Multitasking,  Customer Service, Supply Chain (Preferred), Operations Analytics (Preferred)",
         0.3712311095200441
        ],
        [
         "Hash Table, Binary Search, Tree, Depth-First Search, Binary Tree",
         "C#, PowerShell, Software Development, Debugging, Troubleshooting, System Tuning, Capacity Planning, Performance Analysis, Security, Scalability, Reliability, Automation, DevOps, Service Engineering, System Architecture, Code Review,  Problem Solving,  On-Call Support, Disaster Recovery, Business Continuity Planning,  Distributed Systems, Virtualization (Hyper-V, VMWare),  Customer Focus, Live Site Operations,  Analytical Skills, Communication Skills, Interpersonal Skills,  Multitasking,  Customer Service, Supply Chain (Preferred), Operations Analytics (Preferred)",
         0.35630694360562115
        ],
        [
         "Linked List manipulation,Pointer manipulation,Algorithm design,Problem solving",
         "budgeting, data analysis, expense management, communication, problem solving, detail-oriented, time management, adaptability, interpersonal skills, financial planning, financial analysis, forecasting, financial modeling, reporting tools (Hyperion, GEAR), business case development, strategic planning, collaboration, influencing skills, business acumen, teamwork",
         0.4426894150242657
        ],
        [
         "Math",
         "Software Development, Performance Engineering, Service Reliability Engineering, Data Analysis, Problem Diagnosis, Object-oriented Programming (Java, C#, Scala), Profiling, Thread Dump Analysis, Heap Dump Analysis, Garbage Collection Analysis, CPU Utilization Analysis, Thread Utilization Analysis, SQL, NoSQL, Distributed Systems, Cloud Computing (Public/Private), Stakeholder Communication, Tool Development, Prototyping, Architectural Influence",
         0.46284933787690696
        ],
        [
         "Stack, Design",
         "PCB design, Software development, Coding, C/C++, Python, Embedded systems, Firmware, Altium Designer, KiCad, Eagle PCB, Electrical Engineering, Problem-solving, Communication, Teamwork, Stakeholder management, Client collaboration, Supplier management, Safety standards (electric vehicles), Sustainability, Micromobility, Strategic product innovation",
         0.5122516090496582
        ],
        [
         "Multithreading,Synchronization,Concurrency,Problem-solving,Java",
         "PCB design, Software development, Coding, C/C++, Python, Embedded systems, Firmware, Altium Designer, KiCad, Eagle PCB, Electrical Engineering, Problem-solving, Communication, Teamwork, Stakeholder management, Client collaboration, Supplier management, Safety standards (electric vehicles), Sustainability, Micromobility, Strategic product innovation",
         0.45365451207112084
        ],
        [
         "Algorithm design,Time complexity analysis,Space complexity analysis,Array manipulation",
         "AWS, Linux, Bash/Perl/Ruby/Python, Splunk/Wavefront/Zabbix/ELK/Prometheus/Grafana, Software Development, DevOps, SRE, Monitoring, Observability, Alerting, Automation, Agile, Team Leadership, Communication, Problem-solving",
         0.3744694730298102
        ],
        [
         "Problem-solving, String manipulation, 2D array manipulation, Algorithm design, Pathfinding",
         "SEO, Local SEO, PPC, Facebook Ads, Google Analytics, Ahrefs, Screaming Frog, SEMrush,  Website Content Writing,  Blog Writing,  Marketing Strategy,  Campaign Performance Tracking & Reporting,  Communication (written & verbal),  Interpersonal Skills, Customer Service,  Project Management, Time Management, Organization, Detail-Oriented,  Teamwork,  Resourcefulness,  Problem-solving,  Creative Thinking,  Flexible Schedule,  Bilingual (plus)",
         0.3781553669432072
        ],
        [
         "String manipulation,Array manipulation,Counting,Logical reasoning,Algorithm design",
         "financial analysis, accounting, Microsoft Excel, data analysis, financial reporting, project management, account reconciliation, communication, organization, time management, flexibility, team collaboration, influencing, KPI tracking, cash flow management",
         0.4071734652829313
        ],
        [
         "Tree construction, recursion, array manipulation, algorithm design",
         "financial analysis, budgeting, strategic planning, financial regulations, accounting principles, risk assessment, data analysis, leadership, communication, collaboration, problem solving, interpersonal skills, strategic thinking, relationship building, teamwork, forecasting, financial reporting, return on investment analysis, CPA, MBA, mentoring, inspiration",
         0.3815645735581681
        ],
        [
         "Probability,Randomization,Array manipulation,Algorithm design",
         "HTML, CSS, Ajax, JavaScript, Angular, PHP, Node.js, Object-Oriented Programming, Single Page Application development, Responsive Web Design, Web Development, Software Development, Debugging, Testing, Code Review, Cloud Native Architecture, Problem-solving, Analytical skills, Communication (written & verbal), Teamwork, Collaboration",
         0.39876561760867835
        ],
        [
         "Array, Greedy, Bit Manipulation",
         "financial analysis, budgeting, strategic planning, financial regulations, accounting principles, risk assessment, data analysis, leadership, communication, collaboration, problem solving, interpersonal skills, strategic thinking, relationship building, teamwork, forecasting, financial reporting, return on investment analysis, CPA, MBA, mentoring, inspiration",
         0.39174038996812865
        ],
        [
         "Array, Design, Counting, Iterator",
         "financial analysis, budgeting, strategic planning, financial regulations, accounting principles, risk assessment, data analysis, leadership, communication, collaboration, problem solving, interpersonal skills, strategic thinking, relationship building, teamwork, forecasting, financial reporting, return on investment analysis, CPA, MBA, mentoring, inspiration",
         0.43570503948777334
        ],
        [
         "Array, Matrix",
         "financial analysis, budgeting, strategic planning, financial regulations, accounting principles, risk assessment, data analysis, leadership, communication, collaboration, problem solving, interpersonal skills, strategic thinking, relationship building, teamwork, forecasting, financial reporting, return on investment analysis, CPA, MBA, mentoring, inspiration",
         0.3905141158297119
        ],
        [
         "Array, Hash Table, Math, Bit Manipulation, Prefix Sum",
         "financial analysis, budgeting, strategic planning, financial regulations, accounting principles, risk assessment, data analysis, leadership, communication, collaboration, problem solving, interpersonal skills, strategic thinking, relationship building, teamwork, forecasting, financial reporting, return on investment analysis, CPA, MBA, mentoring, inspiration",
         0.38847860340300816
        ],
        [
         "Array, Hash Table, Math, Number Theory",
         "financial analysis, budgeting, strategic planning, financial regulations, accounting principles, risk assessment, data analysis, leadership, communication, collaboration, problem solving, interpersonal skills, strategic thinking, relationship building, teamwork, forecasting, financial reporting, return on investment analysis, CPA, MBA, mentoring, inspiration",
         0.3981448149992145
        ],
        [
         "Array, Hash Table, String",
         "financial analysis, budgeting, strategic planning, financial regulations, accounting principles, risk assessment, data analysis, leadership, communication, collaboration, problem solving, interpersonal skills, strategic thinking, relationship building, teamwork, forecasting, financial reporting, return on investment analysis, CPA, MBA, mentoring, inspiration",
         0.34760033240914995
        ],
        [
         "Array, Heap (Priority Queue)",
         "financial analysis, budgeting, strategic planning, financial regulations, accounting principles, risk assessment, data analysis, leadership, communication, collaboration, problem solving, interpersonal skills, strategic thinking, relationship building, teamwork, forecasting, financial reporting, return on investment analysis, CPA, MBA, mentoring, inspiration",
         0.3063975906490262
        ],
        [
         "Array, Matrix, Enumeration",
         "financial analysis, budgeting, strategic planning, financial regulations, accounting principles, risk assessment, data analysis, leadership, communication, collaboration, problem solving, interpersonal skills, strategic thinking, relationship building, teamwork, forecasting, financial reporting, return on investment analysis, CPA, MBA, mentoring, inspiration",
         0.3893918793971309
        ],
        [
         "Array, Simulation",
         "financial analysis, budgeting, strategic planning, financial regulations, accounting principles, risk assessment, data analysis, leadership, communication, collaboration, problem solving, interpersonal skills, strategic thinking, relationship building, teamwork, forecasting, financial reporting, return on investment analysis, CPA, MBA, mentoring, inspiration",
         0.3710884536189528
        ],
        [
         "Array, Hash Table, Greedy",
         "Strategic Planning, Project Management, Technology Innovation, Consumer Technology Expertise,  Data Analytics, Business Strategy,  Digital Transformation,  Team Leadership,  Communication (written & oral), Presentation Skills, Relationship Building, Servant Leadership,  Problem-solving,  Negotiation,  Financial Analysis,  Product Management,  IT Infrastructure Knowledge,  Cloud Technologies,  Emerging Technology Awareness,  Regulatory Compliance (PCI, HIPAA),  Stakeholder Management,  Innovation,  Product Development,  Hardware/Software Knowledge,  Mobile App Development,  Electrical Systems, Control Systems.",
         0.33387282705209326
        ],
        [
         "Array, Dynamic Programming",
         "Strategic Planning, Project Management, Technology Innovation, Consumer Technology Expertise,  Data Analytics, Business Strategy,  Digital Transformation,  Team Leadership,  Communication (written & oral), Presentation Skills, Relationship Building, Servant Leadership,  Problem-solving,  Negotiation,  Financial Analysis,  Product Management,  IT Infrastructure Knowledge,  Cloud Technologies,  Emerging Technology Awareness,  Regulatory Compliance (PCI, HIPAA),  Stakeholder Management,  Innovation,  Product Development,  Hardware/Software Knowledge,  Mobile App Development,  Electrical Systems, Control Systems.",
         0.3940855706949226
        ],
        [
         "Array, Greedy, Matrix",
         "Strategic Planning, Project Management, Technology Innovation, Consumer Technology Expertise,  Data Analytics, Business Strategy,  Digital Transformation,  Team Leadership,  Communication (written & oral), Presentation Skills, Relationship Building, Servant Leadership,  Problem-solving,  Negotiation,  Financial Analysis,  Product Management,  IT Infrastructure Knowledge,  Cloud Technologies,  Emerging Technology Awareness,  Regulatory Compliance (PCI, HIPAA),  Stakeholder Management,  Innovation,  Product Development,  Hardware/Software Knowledge,  Mobile App Development,  Electrical Systems, Control Systems.",
         0.37666869647817586
        ],
        [
         "Array, Hash Table, Two Pointers, Binary Search, Sorting",
         "Strategic Planning, Project Management, Technology Innovation, Consumer Technology Expertise,  Data Analytics, Business Strategy,  Digital Transformation,  Team Leadership,  Communication (written & oral), Presentation Skills, Relationship Building, Servant Leadership,  Problem-solving,  Negotiation,  Financial Analysis,  Product Management,  IT Infrastructure Knowledge,  Cloud Technologies,  Emerging Technology Awareness,  Regulatory Compliance (PCI, HIPAA),  Stakeholder Management,  Innovation,  Product Development,  Hardware/Software Knowledge,  Mobile App Development,  Electrical Systems, Control Systems.",
         0.3331428122845711
        ],
        [
         "Algorithm design,Sorting algorithms,Time complexity analysis,Space complexity analysis",
         "Linux System Administration, HPC Cluster Management (SLURM, LSF), Configuration Management (Ansible, Puppet, Terraform), System Monitoring & Alerting (Prometheus, Grafana, Telegraf, Splunk), High-Performance Computing (HPC), Distributed Systems, Networking (TCP/IP, IPoIB), Storage Technologies, Python, Go, Bash, Root Cause Analysis, Automation, Documentation, Communication, Time Management, GPU Computing, High-Throughput Networks, High-Performance Storage, Containerization (Docker, Kubernetes, Singularity), Cloud Computing, Hardware Accelerators (FPGA, ASIC), Parallel Filesystems, Security, Scalability",
         0.3826741983626751
        ],
        [
         "Tree, Depth-First Search, Binary Tree",
         "Statistical methods, Causal inference, Data analysis, Data visualization, Data interpretation, SQL, Python, R, Project management, Data storytelling, Communication, Stakeholder management, Teamwork, Mentorship,  Product data analysis, Revenue data analysis",
         0.41868694548168695
        ],
        [
         "Array, Dynamic Programming, Queue, Sliding Window, Heap (Priority Queue), Monotonic Queue",
         "accounting principles, communication, teamwork, financial management, liquidity management, asset/liability management (ALM), profitability reporting, financial analysis, cost accounting, data analytics, CPA, CFA, financial forecasting, strategic planning, leadership, problem solving, advisory skills, engagement, ownership",
         0.356513960596422
        ],
        [
         "Hash Table, Design, Heap (Priority Queue), Data Stream, Ordered Set",
         "accounting principles, communication, teamwork, financial management, liquidity management, asset/liability management (ALM), profitability reporting, financial analysis, cost accounting, data analytics, CPA, CFA, financial forecasting, strategic planning, leadership, problem solving, advisory skills, engagement, ownership",
         0.3719285929300528
        ],
        [
         "Data structures,Algorithm design,Time complexity analysis",
         "C/C++, Python, Linux-based development, VLSI CAD algorithm development, data structures, algorithms, software engineering principles, strong verbal and written communication skills, strong teamwork skills, problem-solving skills, analysis skills, programming skills, debugging skills, troubleshooting skills, statistical analysis, machine learning, deep learning,  routing algorithm knowledge, quality and software processes, Unix/Linux platform experience",
         0.507321131246777
        ],
        [
         "Array, Two Pointers, Binary Search, Sorting",
         "HTML, CSS, Ajax, JavaScript, Angular, PHP, Node.js, Object-Oriented Programming, Single Page Application development, Responsive Web Design, Web Development, Software Development, Debugging, Testing, Code Review, Cloud Native Architecture, Problem-solving, Analytical skills, Communication (written & verbal), Teamwork, Collaboration",
         0.3916030813714771
        ],
        [
         "Math, Binary Search",
         "HTML, CSS, Ajax, JavaScript, Angular, PHP, Node.js, Object-Oriented Programming, Single Page Application development, Responsive Web Design, Web Development, Software Development, Debugging, Testing, Code Review, Cloud Native Architecture, Problem-solving, Analytical skills, Communication (written & verbal), Teamwork, Collaboration",
         0.4197590558228057
        ],
        [
         "Array, String, Binary Search, Trie, Sorting, Heap (Priority Queue)",
         "Linux System Administration, DevOps, Cloud Engineering, Automation,  Bash Scripting, SSH, Git,  Jenkins, Consul, Vault,  Networking, TCP/IP, DNS, HTTP, TLS, Web Security,  Troubleshooting,  Monitoring (Nagios, Cacti, Grafana, ELK), HAProxy, Kubernetes,  Infrastructure as Code (IaC), Configuration Management, CI/CD, Containerization, Virtualization, MySQL,  Backup and Restore,  Documentation,  Communication,  Problem-solving,  Software Updates,  High Availability (HA),  Security, CentOS, Ubuntu,  Python/other interpreted languages (Preferred),  Email Server Administration (Preferred)",
         0.37443178806958477
        ],
        [
         "Array, Hash Table, Binary Search, Design",
         "Linux System Administration, DevOps, Cloud Engineering, Automation,  Bash Scripting, SSH, Git,  Jenkins, Consul, Vault,  Networking, TCP/IP, DNS, HTTP, TLS, Web Security,  Troubleshooting,  Monitoring (Nagios, Cacti, Grafana, ELK), HAProxy, Kubernetes,  Infrastructure as Code (IaC), Configuration Management, CI/CD, Containerization, Virtualization, MySQL,  Backup and Restore,  Documentation,  Communication,  Problem-solving,  Software Updates,  High Availability (HA),  Security, CentOS, Ubuntu,  Python/other interpreted languages (Preferred),  Email Server Administration (Preferred)",
         0.39398583097768475
        ],
        [
         "Array, Hash Table, String, Binary Search, Sorting",
         "Linux System Administration, DevOps, Cloud Engineering, Automation,  Bash Scripting, SSH, Git,  Jenkins, Consul, Vault,  Networking, TCP/IP, DNS, HTTP, TLS, Web Security,  Troubleshooting,  Monitoring (Nagios, Cacti, Grafana, ELK), HAProxy, Kubernetes,  Infrastructure as Code (IaC), Configuration Management, CI/CD, Containerization, Virtualization, MySQL,  Backup and Restore,  Documentation,  Communication,  Problem-solving,  Software Updates,  High Availability (HA),  Security, CentOS, Ubuntu,  Python/other interpreted languages (Preferred),  Email Server Administration (Preferred)",
         0.37917831327905155
        ],
        [
         "Array, Stack, Monotonic Stack",
         "Linux/UNIX administration, Docker, docker-compose, containerized development, Ansible, Packer, Terraform, OpenShift, Kubernetes, Bash, Python, Node.js, Application clustering, load balancing, VMware vSphere API, Gitlab CI/CD, networking fundamentals, command line tools, HTTP, SSL, LDAP, SQL, HTML, XML, PostgreSQL, Keepalived,  CI/CD, Blue/Green Deployments,  Consul,  Atomic Host,  distributed computing, data systems, immutable infrastructure, serverless computing",
         0.3796018331860856
        ],
        [
         "Array, Binary Search, Stack, Binary Indexed Tree, Segment Tree, Heap (Priority Queue), Monotonic Stack",
         "Linux/UNIX administration, Docker, docker-compose, containerized development, Ansible, Packer, Terraform, OpenShift, Kubernetes, Bash, Python, Node.js, Application clustering, load balancing, VMware vSphere API, Gitlab CI/CD, networking fundamentals, command line tools, HTTP, SSL, LDAP, SQL, HTML, XML, PostgreSQL, Keepalived,  CI/CD, Blue/Green Deployments,  Consul,  Atomic Host,  distributed computing, data systems, immutable infrastructure, serverless computing",
         0.3491039159027541
        ],
        [
         "Array, Binary Search",
         "Linux/UNIX administration, Docker, docker-compose, containerized development, Ansible, Packer, Terraform, OpenShift, Kubernetes, Bash, Python, Node.js, Application clustering, load balancing, VMware vSphere API, Gitlab CI/CD, networking fundamentals, command line tools, HTTP, SSL, LDAP, SQL, HTML, XML, PostgreSQL, Keepalived,  CI/CD, Blue/Green Deployments,  Consul,  Atomic Host,  distributed computing, data systems, immutable infrastructure, serverless computing",
         0.3611695221636349
        ],
        [
         "Array, Hash Table, String, Sorting",
         "Linux/UNIX administration, Docker, docker-compose, containerized development, Ansible, Packer, Terraform, OpenShift, Kubernetes, Bash, Python, Node.js, Application clustering, load balancing, VMware vSphere API, Gitlab CI/CD, networking fundamentals, command line tools, HTTP, SSL, LDAP, SQL, HTML, XML, PostgreSQL, Keepalived,  CI/CD, Blue/Green Deployments,  Consul,  Atomic Host,  distributed computing, data systems, immutable infrastructure, serverless computing",
         0.3787466051149497
        ],
        [
         "Array",
         "Linux/UNIX administration, Docker, docker-compose, containerized development, Ansible, Packer, Terraform, OpenShift, Kubernetes, Bash, Python, Node.js, Application clustering, load balancing, VMware vSphere API, Gitlab CI/CD, networking fundamentals, command line tools, HTTP, SSL, LDAP, SQL, HTML, XML, PostgreSQL, Keepalived,  CI/CD, Blue/Green Deployments,  Consul,  Atomic Host,  distributed computing, data systems, immutable infrastructure, serverless computing",
         0.3635859832461134
        ]
       ],
       "datasetInfos": [],
       "dbfsResultPath": null,
       "isJsonSchema": true,
       "metadata": {},
       "overflow": false,
       "plotOptions": {
        "customPlotOptions": {},
        "displayType": "table",
        "pivotAggregation": null,
        "pivotColumns": null,
        "xColumns": null,
        "yColumns": null
       },
       "removedWidgets": [],
       "schema": [
        {
         "metadata": "{}",
         "name": "topics",
         "type": "\"string\""
        },
        {
         "metadata": "{}",
         "name": "skills",
         "type": "\"string\""
        },
        {
         "metadata": "{}",
         "name": "similarity",
         "type": "\"double\""
        }
       ],
       "type": "table"
      }
     },
     "output_type": "display_data"
    },
    {
     "data": {
      "text/html": [
       "<style scoped>\n",
       "  .table-result-container {\n",
       "    max-height: 300px;\n",
       "    overflow: auto;\n",
       "  }\n",
       "  table, th, td {\n",
       "    border: 1px solid black;\n",
       "    border-collapse: collapse;\n",
       "  }\n",
       "  th, td {\n",
       "    padding: 5px;\n",
       "  }\n",
       "  th {\n",
       "    text-align: left;\n",
       "  }\n",
       "</style><div class='table-result-container'><table class='table-result'><thead style='background-color: white'><tr><th>topics</th><th>skills</th><th>similarity</th></tr></thead><tbody><tr><td>Conflict resolution, customer service, communication, empathy, problem-solving</td><td>Troubleshooting, Customer Support, Network Engineering,  WAN Operations, TCP/IP, OSI Model, Linux/UNIX, VMware, Network Security, Windows OS,  Communication (written & verbal - English & Japanese),  Data Analysis, Problem-solving,  KCS Methodology,  Siebel (CRM),  Public/Private Cloud Technologies, Scripting (e.g., Python, JavaScript), Containerization (e.g., Docker),  Container Orchestration (e.g., Kubernetes), Automation (e.g., Ansible),  Technical Documentation,  Multitasking, Prioritization, Teamwork,  ISO Quality Management Systems.</td><td>0.4715316634969234</td></tr><tr><td>Understanding of convolutional neural networks, critical thinking, problem-solving</td><td>Statistical analysis, Data modeling, RFM analysis, Predictive modeling, Marketing mix modeling, Attribution modeling, A/B testing, Multivariate testing, Regression analysis, Cluster analysis, CHAID, Factor analysis, Principal component analysis, Time series analysis, Survival analysis, Experimental design, SQL, R, Python, Data visualization, Presentation skills, Communication skills, Project management, Collaboration, Data quality assurance (QA/QC), Database marketing</td><td>0.47630422239016723</td></tr><tr><td>Problem-solving, critical thinking, understanding of machine learning concepts</td><td>C/C++, Python, Linux-based development, VLSI CAD algorithm development, data structures, algorithms, software engineering principles, strong verbal and written communication skills, strong teamwork skills, problem-solving skills, analysis skills, programming skills, debugging skills, troubleshooting skills, statistical analysis, machine learning, deep learning,  routing algorithm knowledge, quality and software processes, Unix/Linux platform experience</td><td>0.5324110096489592</td></tr><tr><td>Deep learning,Gradient descent optimization,Debugging,Problem-solving</td><td>Linux/UNIX administration, Docker, docker-compose, containerized development, Ansible, Packer, Terraform, OpenShift, Kubernetes, Bash, Python, Node.js, Application clustering, load balancing, VMware vSphere API, Gitlab CI/CD, networking fundamentals, command line tools, HTTP, SSL, LDAP, SQL, HTML, XML, PostgreSQL, Keepalived,  CI/CD, Blue/Green Deployments,  Consul,  Atomic Host,  distributed computing, data systems, immutable infrastructure, serverless computing</td><td>0.3830026820199315</td></tr><tr><td>Mathematical reasoning,Computational complexity analysis,Algorithm understanding</td><td>Software development, Data structures, Algorithms, C, C++, Java, JavaScript, Python, C#, Go, Web application development, Mobile application development, Unix/Linux environments, Distributed systems, Parallel systems, Machine learning, Information retrieval, Natural language processing, Networking, Large software system development, Security software development, UI development, AJAX, Embedded systems, Mobile app development (Android/iOS), Developer tools, Automated test system development, Cloud-based computing, Problem-solving, Leadership, Communication (written and verbal English)</td><td>0.4571519699612328</td></tr><tr><td>Understanding of deep learning concepts,Knowledge of gradient descent,Problem-solving</td><td>financial analysis, accounting, Microsoft Excel, data analysis, financial reporting, project management, account reconciliation, communication, organization, time management, flexibility, team collaboration, influencing, KPI tracking, cash flow management</td><td>0.5039307442953912</td></tr><tr><td>Deep learning,Gradient descent optimization,Debugging,Problem-solving</td><td>financial analysis, accounting, Microsoft Excel, data analysis, financial reporting, project management, account reconciliation, communication, organization, time management, flexibility, team collaboration, influencing, KPI tracking, cash flow management</td><td>0.5039307442953912</td></tr><tr><td>Problem-solving, critical thinking, understanding of machine learning concepts</td><td>Linux/UNIX administration, Docker, docker-compose, containerized development, Ansible, Packer, Terraform, OpenShift, Kubernetes, Bash, Python, Node.js, Application clustering, load balancing, VMware vSphere API, Gitlab CI/CD, networking fundamentals, command line tools, HTTP, SSL, LDAP, SQL, HTML, XML, PostgreSQL, Keepalived,  CI/CD, Blue/Green Deployments,  Consul,  Atomic Host,  distributed computing, data systems, immutable infrastructure, serverless computing</td><td>0.3830026820199315</td></tr><tr><td>Understanding of neural networks,Understanding of activation functions,Problem-solving,Critical thinking</td><td>Linux/UNIX administration, Docker, docker-compose, containerized development, Ansible, Packer, Terraform, OpenShift, Kubernetes, Bash, Python, Node.js, Application clustering, load balancing, VMware vSphere API, Gitlab CI/CD, networking fundamentals, command line tools, HTTP, SSL, LDAP, SQL, HTML, XML, PostgreSQL, Keepalived,  CI/CD, Blue/Green Deployments,  Consul,  Atomic Host,  distributed computing, data systems, immutable infrastructure, serverless computing</td><td>0.3830026820199315</td></tr><tr><td>Conflict resolution, customer service, communication, empathy, problem-solving</td><td>SQL, RDBMS, Non-RDBMS, MySQL, PostgreSQL, MongoDB, Python, Jupyter Notebook, Inferential Statistics, Probability, ETL, Data Pipeline, Automated Reporting, Data Analysis, Statistical Modeling, Machine Learning, Git, Hive, Spark, Presto, Diagnostic Analytics, Forecasting, Big Data</td><td>0.4461664569088949</td></tr><tr><td>Problem-solving, communication, critical thinking, storytelling, self-awareness</td><td>JavaScript, Node.js, TypeScript, React, Java, Spring, Postgres, Kubernetes, Software Architecture, Web Application Development, Developer Tooling, Code Review, Mentoring, Problem Solving, Communication, Collaboration,  Internationalization</td><td>0.492466940300607</td></tr><tr><td>Self-awareness, self-reflection, communication, storytelling, problem-solving</td><td>Linux System Administration, HPC Cluster Management (SLURM, LSF), Configuration Management (Ansible, Puppet, Terraform), System Monitoring & Alerting (Prometheus, Grafana, Telegraf, Splunk), High-Performance Computing (HPC), Distributed Systems, Networking (TCP/IP, IPoIB), Storage Technologies, Python, Go, Bash, Root Cause Analysis, Automation, Documentation, Communication, Time Management, GPU Computing, High-Throughput Networks, High-Performance Storage, Containerization (Docker, Kubernetes, Singularity), Cloud Computing, Hardware Accelerators (FPGA, ASIC), Parallel Filesystems, Security, Scalability</td><td>0.412026697638995</td></tr><tr><td>Deep learning,Gradient descent optimization,Debugging,Problem-solving</td><td>Software Engineering, Database Management (Informix, PostgreSQL, MySQL, MongoDB, Progress), Process Automation, Data Visualization (SSRS, Tableau, PowerBI), Python, Java, Scala, R, Maven, Gradle, Automation Testing, Regression Testing, Performance Testing, Git/GitHub, Agile Development, CI/CD, Test Data Management,  Self-Service Portal Development, SecDevOps, Communication (written & verbal), Leadership, Problem-Solving,  Reporting and Metrics,  Cloud Platforms (AWS, PCF, Kubernetes), Monitoring Tools (Grafana, Elastic/ELK, AppDynamics, Kafka, Kibana, Prometheus, Splunk, Big Panda), Jenkins, Artifactory, Gitlab, SonarQube</td><td>0.4195123753524508</td></tr><tr><td>Linear algebra,Matrix operations,Computational efficiency,Algorithm optimization</td><td>Linux System Administration, DevOps, Cloud Engineering, Automation,  Bash Scripting, SSH, Git,  Jenkins, Consul, Vault,  Networking, TCP/IP, DNS, HTTP, TLS, Web Security,  Troubleshooting,  Monitoring (Nagios, Cacti, Grafana, ELK), HAProxy, Kubernetes,  Infrastructure as Code (IaC), Configuration Management, CI/CD, Containerization, Virtualization, MySQL,  Backup and Restore,  Documentation,  Communication,  Problem-solving,  Software Updates,  High Availability (HA),  Security, CentOS, Ubuntu,  Python/other interpreted languages (Preferred),  Email Server Administration (Preferred)</td><td>0.3744617281764023</td></tr><tr><td>Linear algebra,Matrix operations,Computational efficiency,Algorithm optimization</td><td>Software Engineering, Programming (C, C++, Java, Python, Go), System Design, System Reliability, Observability Tooling, Scalability Engineering, Distributed Systems, Collaboration, Requirements Gathering, Mentoring, Documentation, Data Science (familiarity helpful)</td><td>0.4594182279681111</td></tr><tr><td>Understanding of activation functions,Knowledge of neural networks,Comparative analysis,Problem-solving</td><td>Linux/UNIX administration, Docker, docker-compose, containerized development, Ansible, Packer, Terraform, OpenShift, Kubernetes, Bash, Python, Node.js, Application clustering, load balancing, VMware vSphere API, Gitlab CI/CD, networking fundamentals, command line tools, HTTP, SSL, LDAP, SQL, HTML, XML, PostgreSQL, Keepalived,  CI/CD, Blue/Green Deployments,  Consul,  Atomic Host,  distributed computing, data systems, immutable infrastructure, serverless computing</td><td>0.3830026820199315</td></tr><tr><td>Communication skills, self-awareness, critical thinking, problem-solving</td><td>Statistical modeling, Machine learning, Natural language processing, Time series analysis, Mathematical optimization, Graph theory, Quantitative finance, Python, R, Symbolic AI, Hybrid symbolic and machine learning, Data engineering, MLOps, Data visualization, Model risk management, Model governance, Cloud computing, Version control, DevOps, Financial services, Wealth management, Model validation, Model monitoring, Model explainability, Model interpretability, Transformer models, K-shot learning, Self-supervised learning, Algorithm research, Stakeholder management, Communication, Presentation skills, Technical communication, Data analysis, Problem-solving, Decision-making, Collaboration</td><td>0.5239901341357562</td></tr><tr><td>Problem-solving, Storytelling, Self-awareness,  Communication</td><td>financial analysis, accounting, Microsoft Excel, data analysis, financial reporting, project management, account reconciliation, communication, organization, time management, flexibility, team collaboration, influencing, KPI tracking, cash flow management</td><td>0.5039307442953912</td></tr><tr><td>Understanding of convolutional neural networks, critical thinking, problem-solving</td><td>Strategic Planning, Project Management, Technology Innovation, Consumer Technology Expertise,  Data Analytics, Business Strategy,  Digital Transformation,  Team Leadership,  Communication (written & oral), Presentation Skills, Relationship Building, Servant Leadership,  Problem-solving,  Negotiation,  Financial Analysis,  Product Management,  IT Infrastructure Knowledge,  Cloud Technologies,  Emerging Technology Awareness,  Regulatory Compliance (PCI, HIPAA),  Stakeholder Management,  Innovation,  Product Development,  Hardware/Software Knowledge,  Mobile App Development,  Electrical Systems, Control Systems.</td><td>0.5408907549972239</td></tr><tr><td>Critical thinking, Problem-solving, Analytical skills</td><td>AWS, Automation, Capacity Management, Cloud Computing, DevOps, Development Processes, Observability, Performance Tuning, Reliability Engineering, Scalability, Security, Service Design, Software Architecture, Troubleshooting,  Application Architecture, Messaging Protocols, Caching Strategies, Software Design Practices, Environment Management, High Availability</td><td>0.48851064443375186</td></tr><tr><td>Communication skills, self-awareness, critical thinking, problem-solving</td><td>accounting principles, communication, teamwork, financial management, liquidity management, asset/liability management (ALM), profitability reporting, financial analysis, cost accounting, data analytics, CPA, CFA, financial forecasting, strategic planning, leadership, problem solving, advisory skills, engagement, ownership</td><td>0.5344221639674912</td></tr><tr><td>Linear algebra,Matrix operations,Computational efficiency,Algorithm optimization</td><td>SQL, ETL, A/B Testing, statistical analysis, hypothesis testing, experimentation, regression models, data visualization, R, Python, Matlab, SAS, Chartio, Looker, Tableau, funnel optimization, user segmentation, cohort analysis, time series analysis, mentoring, communication, problem-solving, project management</td><td>0.4428370560383232</td></tr><tr><td>Analysis, Comparison, Critical Thinking, Summarization</td><td>accounting principles, communication, teamwork, financial management, liquidity management, asset/liability management (ALM), profitability reporting, financial analysis, cost accounting, data analytics, CPA, CFA, financial forecasting, strategic planning, leadership, problem solving, advisory skills, engagement, ownership</td><td>0.4385163936693921</td></tr><tr><td>Communication skills, self-awareness, critical thinking, problem-solving</td><td>Linux System Administration, HPC Cluster Management (SLURM, LSF), Configuration Management (Ansible, Puppet, Terraform), System Monitoring & Alerting (Prometheus, Grafana, Telegraf, Splunk), High-Performance Computing (HPC), Distributed Systems, Networking (TCP/IP, IPoIB), Storage Technologies, Python, Go, Bash, Root Cause Analysis, Automation, Documentation, Communication, Time Management, GPU Computing, High-Throughput Networks, High-Performance Storage, Containerization (Docker, Kubernetes, Singularity), Cloud Computing, Hardware Accelerators (FPGA, ASIC), Parallel Filesystems, Security, Scalability</td><td>0.412026697638995</td></tr><tr><td>Linear algebra,Matrix operations,Computational efficiency,Algorithm optimization</td><td>Data Analysis, Statistical Modeling, Machine Learning, Python/R, SQL/Hive, A/B Testing, Causal Inference, Data Visualization, Communication, Leadership, Problem-solving, Product Design, Web-scale data experience</td><td>0.4628503568963916</td></tr><tr><td>Mathematical reasoning,Computational complexity analysis,Algorithm understanding</td><td>Azure, Terraform, ARM templates, Azure DevOps, Python, PowerShell, Docker, Kubernetes, Agile, Scrum, DevSecOps, Configuration Management, Orchestration, Cloud Services (compute, storage, Key Vault, Azure PaaS), Failure Injection Testing, IAM (least privilege access, password management, audit logging, RBAC, certificate issuance and revocation),  Site Reliability Engineering,  Metrics collection, reporting and alerting,  Continuous Integration,  Horizontal and vertical scalability, Cloud native monitoring,  Excellent communication skills, Problem-solving.</td><td>0.3309938242300663</td></tr><tr><td>Understanding of activation functions,Knowledge of neural networks,Comparative analysis,Problem-solving</td><td>JavaScript, Node.js, TypeScript, React, Java, Spring, Postgres, Kubernetes, Software Architecture, Web Application Development, Developer Tooling, Code Review, Mentoring, Problem Solving, Communication, Collaboration,  Internationalization</td><td>0.492466940300607</td></tr><tr><td>Problem-solving, critical thinking, understanding of machine learning concepts</td><td>Software Engineering, Database Management (Informix, PostgreSQL, MySQL, MongoDB, Progress), Process Automation, Data Visualization (SSRS, Tableau, PowerBI), Python, Java, Scala, R, Maven, Gradle, Automation Testing, Regression Testing, Performance Testing, Git/GitHub, Agile Development, CI/CD, Test Data Management,  Self-Service Portal Development, SecDevOps, Communication (written & verbal), Leadership, Problem-Solving,  Reporting and Metrics,  Cloud Platforms (AWS, PCF, Kubernetes), Monitoring Tools (Grafana, Elastic/ELK, AppDynamics, Kafka, Kibana, Prometheus, Splunk, Big Panda), Jenkins, Artifactory, Gitlab, SonarQube</td><td>0.4195123753524508</td></tr><tr><td>Self-awareness, self-reflection, communication, storytelling, problem-solving</td><td>accounting principles, communication, teamwork, financial management, liquidity management, asset/liability management (ALM), profitability reporting, financial analysis, cost accounting, data analytics, CPA, CFA, financial forecasting, strategic planning, leadership, problem solving, advisory skills, engagement, ownership</td><td>0.5344221639674912</td></tr><tr><td>Understanding of deep learning concepts,Knowledge of gradient descent,Problem-solving</td><td>Linux/UNIX administration, Docker, docker-compose, containerized development, Ansible, Packer, Terraform, OpenShift, Kubernetes, Bash, Python, Node.js, Application clustering, load balancing, VMware vSphere API, Gitlab CI/CD, networking fundamentals, command line tools, HTTP, SSL, LDAP, SQL, HTML, XML, PostgreSQL, Keepalived,  CI/CD, Blue/Green Deployments,  Consul,  Atomic Host,  distributed computing, data systems, immutable infrastructure, serverless computing</td><td>0.3830026820199315</td></tr><tr><td>Analysis, Comparison, Critical Thinking, Summarization</td><td>Evaluation, Implementation, Execution, On-premise support, Field work</td><td>0.5335433000588976</td></tr><tr><td>Understanding of neural networks,Understanding of activation functions,Problem-solving,Critical thinking</td><td>Software development, Data structures, Algorithms, C, C++, Java, JavaScript, Python, C#, Go, Web application development, Mobile application development, Unix/Linux environments, Distributed systems, Parallel systems, Machine learning, Information retrieval, Natural language processing, Networking, Large software system development, Security software development, UI development, AJAX, Embedded systems, Mobile app development (Android/iOS), Developer tools, Automated test system development, Cloud-based computing, Problem-solving, Leadership, Communication (written and verbal English)</td><td>0.5019040061549253</td></tr><tr><td>Critical thinking, Problem-solving, Analytical skills</td><td>Customer service, communication, hospitality, teamwork</td><td>0.5650195114756555</td></tr><tr><td>Self-awareness, self-reflection, communication, storytelling, problem-solving</td><td>Linux/UNIX administration, Docker, docker-compose, containerized development, Ansible, Packer, Terraform, OpenShift, Kubernetes, Bash, Python, Node.js, Application clustering, load balancing, VMware vSphere API, Gitlab CI/CD, networking fundamentals, command line tools, HTTP, SSL, LDAP, SQL, HTML, XML, PostgreSQL, Keepalived,  CI/CD, Blue/Green Deployments,  Consul,  Atomic Host,  distributed computing, data systems, immutable infrastructure, serverless computing</td><td>0.3830026820199315</td></tr><tr><td>Conflict resolution, customer service, communication, empathy, problem-solving</td><td>Python, Java, SQL, NoSQL, Key-Value Store, Distributed Systems, Real-time Systems, Software Design, Problem-solving, Team Collaboration, CI/CD, Testing, Secure Coding, Event-driven Architecture, Messaging Frameworks (Pub/Sub, Kafka, RabbitMQ), Cloud Infrastructure (GCP, AWS, Azure)</td><td>0.49589731389835284</td></tr><tr><td>Communication skills, self-awareness, critical thinking, problem-solving</td><td>Linux/UNIX administration, Docker, docker-compose, containerized development, Ansible, Packer, Terraform, OpenShift, Kubernetes, Bash, Python, Node.js, Application clustering, load balancing, VMware vSphere API, Gitlab CI/CD, networking fundamentals, command line tools, HTTP, SSL, LDAP, SQL, HTML, XML, PostgreSQL, Keepalived,  CI/CD, Blue/Green Deployments,  Consul,  Atomic Host,  distributed computing, data systems, immutable infrastructure, serverless computing</td><td>0.3830026820199315</td></tr><tr><td>Understanding of LSTMs, Understanding of Bi-LSTMs, Comparative analysis,  Problem-solving</td><td>C#, PowerShell, Software Development, Debugging, Troubleshooting, System Tuning, Capacity Planning, Performance Analysis, Security, Scalability, Reliability, Automation, DevOps, Service Engineering, System Architecture, Code Review,  Problem Solving,  On-Call Support, Disaster Recovery, Business Continuity Planning,  Distributed Systems, Virtualization (Hyper-V, VMWare),  Customer Focus, Live Site Operations,  Analytical Skills, Communication Skills, Interpersonal Skills,  Multitasking,  Customer Service, Supply Chain (Preferred), Operations Analytics (Preferred)</td><td>0.5146988632735389</td></tr><tr><td>Linear algebra,Matrix operations,Computational efficiency,Algorithm optimization</td><td>Data Mining, Statistical Analysis, Machine Learning, Deep Learning, Data Cleansing, Data Quality Assessment, Exploratory Data Analysis, Data Visualization, Model Development, Predictive Modeling, Prescriptive Modeling, SQL, R, Python, NumPy, Pandas, Scikit-learn, TensorFlow, Agile Development, Data Engineering, Software Development, Stakeholder Management, Communication, Problem-Solving, Business Acumen</td><td>0.47053481753305987</td></tr><tr><td>Problem-solving,Critical thinking,Understanding of N-grams,NLP fundamentals</td><td>Software development, Data structures, Algorithms, C, C++, Java, JavaScript, Python, C#, Go, Web application development, Mobile application development, Unix/Linux environments, Distributed systems, Parallel systems, Machine learning, Information retrieval, Natural language processing, Networking, Large software system development, Security software development, UI development, AJAX, Embedded systems, Mobile app development (Android/iOS), Developer tools, Automated test system development, Cloud-based computing, Problem-solving, Leadership, Communication (written and verbal English)</td><td>0.5019040061549253</td></tr><tr><td>Critical thinking, Problem-solving, Analytical skills</td><td>HTML, CSS, Ajax, JavaScript, Angular, PHP, Node.js, Object-Oriented Programming, Single Page Application development, Responsive Web Design, Web Development, Software Development, Debugging, Testing, Code Review, Cloud Native Architecture, Problem-solving, Analytical skills, Communication (written & verbal), Teamwork, Collaboration</td><td>0.5058451664733958</td></tr><tr><td>Mathematical reasoning,Computational complexity analysis,Algorithm understanding</td><td>Software Development, Salesforce (Apex, Lightning, JavaScript), Middleware (Mulesoft, Dell Boomi, Jitterbit, Kettle), Application Customization (SpringCM, Conga), Data Manipulation, Scripting, Cloud CPQ, Billing Solutions, Agile/Scrum, Version Control (Git), Object-Oriented Programming, Java, C#, C/C++, Python, JavaScript, Problem-Solving, Communication, Teamwork, Web Development (HTML, CSS, Server-side, Client-side), Open Source Contributions</td><td>0.40880320245546925</td></tr><tr><td>Problem-solving, communication, critical thinking, storytelling, self-awareness</td><td>Software development, Data structures, Algorithms, C, C++, Java, JavaScript, Python, C#, Go, Web application development, Mobile application development, Unix/Linux environments, Distributed systems, Parallel systems, Machine learning, Information retrieval, Natural language processing, Networking, Large software system development, Security software development, UI development, AJAX, Embedded systems, Mobile app development (Android/iOS), Developer tools, Automated test system development, Cloud-based computing, Problem-solving, Leadership, Communication (written and verbal English)</td><td>0.5019040061549253</td></tr><tr><td>Problem-solving,Critical thinking,Understanding of N-grams,NLP fundamentals</td><td>SEO, Local SEO, PPC, Facebook Ads, Google Analytics, Ahrefs, Screaming Frog, SEMrush,  Website Content Writing,  Blog Writing,  Marketing Strategy,  Campaign Performance Tracking & Reporting,  Communication (written & verbal),  Interpersonal Skills, Customer Service,  Project Management, Time Management, Organization, Detail-Oriented,  Teamwork,  Resourcefulness,  Problem-solving,  Creative Thinking,  Flexible Schedule,  Bilingual (plus)</td><td>0.49457869490457257</td></tr><tr><td>Problem-solving, Storytelling, Self-awareness,  Communication</td><td>Linux/UNIX administration, Docker, docker-compose, containerized development, Ansible, Packer, Terraform, OpenShift, Kubernetes, Bash, Python, Node.js, Application clustering, load balancing, VMware vSphere API, Gitlab CI/CD, networking fundamentals, command line tools, HTTP, SSL, LDAP, SQL, HTML, XML, PostgreSQL, Keepalived,  CI/CD, Blue/Green Deployments,  Consul,  Atomic Host,  distributed computing, data systems, immutable infrastructure, serverless computing</td><td>0.3830026820199315</td></tr><tr><td>Problem-solving, Storytelling, Self-awareness,  Communication</td><td>JavaScript, Node.js, TypeScript, React, Java, Spring, Postgres, Kubernetes, Software Architecture, Web Application Development, Developer Tooling, Code Review, Mentoring, Problem Solving, Communication, Collaboration,  Internationalization</td><td>0.492466940300607</td></tr><tr><td>Understanding of convolutional neural networks, critical thinking, problem-solving</td><td>JavaScript, Node.js, TypeScript, React, Java, Spring, Postgres, Kubernetes, Software Architecture, Web Application Development, Developer Tooling, Code Review, Mentoring, Problem Solving, Communication, Collaboration,  Internationalization</td><td>0.492466940300607</td></tr><tr><td>Critical thinking, Problem-solving, Analytical skills</td><td>C#, .NET, MongoDB, SQL, Angular, Bootstrap, Application Support, Debugging, REST API development, Azure, Sitecore, Salesforce Administration</td><td>0.40988825186544847</td></tr><tr><td>Understanding of convolutional neural networks, critical thinking, problem-solving</td><td>accounting principles, communication, teamwork, financial management, liquidity management, asset/liability management (ALM), profitability reporting, financial analysis, cost accounting, data analytics, CPA, CFA, financial forecasting, strategic planning, leadership, problem solving, advisory skills, engagement, ownership</td><td>0.5344221639674912</td></tr><tr><td>Critical thinking, Problem-solving, Analytical skills</td><td>SEO, Local SEO, PPC, Facebook Ads, Google Analytics, Ahrefs, Screaming Frog, SEMrush,  Website Content Writing,  Blog Writing,  Marketing Strategy,  Campaign Performance Tracking & Reporting,  Communication (written & verbal),  Interpersonal Skills, Customer Service,  Project Management, Time Management, Organization, Detail-Oriented,  Teamwork,  Resourcefulness,  Problem-solving,  Creative Thinking,  Flexible Schedule,  Bilingual (plus)</td><td>0.49457869490457257</td></tr><tr><td>Understanding of convolutional neural networks, critical thinking, problem-solving</td><td>SQL, RDBMS, Non-RDBMS, MySQL, PostgreSQL, MongoDB, Python, Jupyter Notebook, Inferential Statistics, Probability, ETL, Data Pipeline, Automated Reporting, Data Analysis, Statistical Modeling, Machine Learning, Git, Hive, Spark, Presto, Diagnostic Analytics, Forecasting, Big Data</td><td>0.4461664569088949</td></tr><tr><td>Conflict resolution, customer service, communication, empathy, problem-solving</td><td>Linux System Administration, HPC Cluster Management (SLURM, LSF), Configuration Management (Ansible, Puppet, Terraform), System Monitoring & Alerting (Prometheus, Grafana, Telegraf, Splunk), High-Performance Computing (HPC), Distributed Systems, Networking (TCP/IP, IPoIB), Storage Technologies, Python, Go, Bash, Root Cause Analysis, Automation, Documentation, Communication, Time Management, GPU Computing, High-Throughput Networks, High-Performance Storage, Containerization (Docker, Kubernetes, Singularity), Cloud Computing, Hardware Accelerators (FPGA, ASIC), Parallel Filesystems, Security, Scalability</td><td>0.412026697638995</td></tr><tr><td>Problem-solving,Critical thinking,Understanding of N-grams,NLP fundamentals</td><td>C/C++, Python, Linux-based development, VLSI CAD algorithm development, data structures, algorithms, software engineering principles, strong verbal and written communication skills, strong teamwork skills, problem-solving skills, analysis skills, programming skills, debugging skills, troubleshooting skills, statistical analysis, machine learning, deep learning,  routing algorithm knowledge, quality and software processes, Unix/Linux platform experience</td><td>0.5324110096489592</td></tr><tr><td>Self-awareness, self-reflection, communication, storytelling, problem-solving</td><td>SQL, RDBMS, Non-RDBMS, MySQL, PostgreSQL, MongoDB, Python, Jupyter Notebook, Inferential Statistics, Probability, ETL, Data Pipeline, Automated Reporting, Data Analysis, Statistical Modeling, Machine Learning, Git, Hive, Spark, Presto, Diagnostic Analytics, Forecasting, Big Data</td><td>0.4461664569088949</td></tr><tr><td>Conflict resolution, customer service, communication, empathy, problem-solving</td><td>financial analysis, accounting, Microsoft Excel, data analysis, financial reporting, project management, account reconciliation, communication, organization, time management, flexibility, team collaboration, influencing, KPI tracking, cash flow management</td><td>0.5039307442953912</td></tr><tr><td>Understanding of deep learning concepts,Knowledge of gradient descent,Problem-solving</td><td>C/C++, Python, Linux-based development, VLSI CAD algorithm development, data structures, algorithms, software engineering principles, strong verbal and written communication skills, strong teamwork skills, problem-solving skills, analysis skills, programming skills, debugging skills, troubleshooting skills, statistical analysis, machine learning, deep learning,  routing algorithm knowledge, quality and software processes, Unix/Linux platform experience</td><td>0.5324110096489592</td></tr><tr><td>Understanding of deep learning concepts,Knowledge of gradient descent,Problem-solving</td><td>SEO, Local SEO, PPC, Facebook Ads, Google Analytics, Ahrefs, Screaming Frog, SEMrush,  Website Content Writing,  Blog Writing,  Marketing Strategy,  Campaign Performance Tracking & Reporting,  Communication (written & verbal),  Interpersonal Skills, Customer Service,  Project Management, Time Management, Organization, Detail-Oriented,  Teamwork,  Resourcefulness,  Problem-solving,  Creative Thinking,  Flexible Schedule,  Bilingual (plus)</td><td>0.49457869490457257</td></tr><tr><td>Problem-solving,Critical thinking,Understanding of N-grams,NLP fundamentals</td><td>financial analysis, accounting, Microsoft Excel, data analysis, financial reporting, project management, account reconciliation, communication, organization, time management, flexibility, team collaboration, influencing, KPI tracking, cash flow management</td><td>0.5039307442953912</td></tr><tr><td>Understanding of LSTMs, Understanding of Bi-LSTMs, Comparative analysis,  Problem-solving</td><td>C#, .NET, MongoDB, SQL, Angular, Bootstrap, Application Support, Debugging, REST API development, Azure, Sitecore, Salesforce Administration</td><td>0.40988825186544847</td></tr><tr><td>Mathematical reasoning,Computational complexity analysis,Algorithm understanding</td><td>Licensed Occupational Therapist, Physical Therapy Assistant license (preferred), Occupational Therapy Assistant certification (preferred)</td><td>0.1420571058996462</td></tr><tr><td>Problem-solving,Critical thinking,Understanding of N-grams,NLP fundamentals</td><td>JavaScript, Node.js, TypeScript, React, Java, Spring, Postgres, Kubernetes, Software Architecture, Web Application Development, Developer Tooling, Code Review, Mentoring, Problem Solving, Communication, Collaboration,  Internationalization</td><td>0.492466940300607</td></tr><tr><td>Analysis, Comparison, Critical Thinking, Summarization</td><td>Data Analysis, Statistical Modeling, Machine Learning, Python/R, SQL/Hive, A/B Testing, Causal Inference, Data Visualization, Communication, Leadership, Problem-solving, Product Design, Web-scale data experience</td><td>0.49817561216194794</td></tr><tr><td>Communication skills, self-awareness, critical thinking, problem-solving</td><td>Statistical analysis, Data modeling, RFM analysis, Predictive modeling, Marketing mix modeling, Attribution modeling, A/B testing, Multivariate testing, Regression analysis, Cluster analysis, CHAID, Factor analysis, Principal component analysis, Time series analysis, Survival analysis, Experimental design, SQL, R, Python, Data visualization, Presentation skills, Communication skills, Project management, Collaboration, Data quality assurance (QA/QC), Database marketing</td><td>0.47630422239016723</td></tr><tr><td>Linear algebra,Matrix operations,Computational efficiency,Algorithm optimization</td><td>Linux System Administration, HPC Cluster Management (SLURM, LSF), Configuration Management (Ansible, Puppet, Terraform), System Monitoring & Alerting (Prometheus, Grafana, Telegraf, Splunk), High-Performance Computing (HPC), Distributed Systems, Networking (TCP/IP, IPoIB), Storage Technologies, Python, Go, Bash, Root Cause Analysis, Automation, Documentation, Communication, Time Management, GPU Computing, High-Throughput Networks, High-Performance Storage, Containerization (Docker, Kubernetes, Singularity), Cloud Computing, Hardware Accelerators (FPGA, ASIC), Parallel Filesystems, Security, Scalability</td><td>0.40472702870823435</td></tr><tr><td>Analysis, Comparison, Critical Thinking, Summarization</td><td>Strategic Planning, Project Management, Technology Innovation, Consumer Technology Expertise,  Data Analytics, Business Strategy,  Digital Transformation,  Team Leadership,  Communication (written & oral), Presentation Skills, Relationship Building, Servant Leadership,  Problem-solving,  Negotiation,  Financial Analysis,  Product Management,  IT Infrastructure Knowledge,  Cloud Technologies,  Emerging Technology Awareness,  Regulatory Compliance (PCI, HIPAA),  Stakeholder Management,  Innovation,  Product Development,  Hardware/Software Knowledge,  Mobile App Development,  Electrical Systems, Control Systems.</td><td>0.41688226404068635</td></tr><tr><td>Communication skills, self-awareness, critical thinking, problem-solving</td><td>SQL, RDBMS, Non-RDBMS, MySQL, PostgreSQL, MongoDB, Python, Jupyter Notebook, Inferential Statistics, Probability, ETL, Data Pipeline, Automated Reporting, Data Analysis, Statistical Modeling, Machine Learning, Git, Hive, Spark, Presto, Diagnostic Analytics, Forecasting, Big Data</td><td>0.4461664569088949</td></tr><tr><td>Critical thinking, Problem-solving, Analytical skills</td><td>PCB design, Software development, Coding, C/C++, Python, Embedded systems, Firmware, Altium Designer, KiCad, Eagle PCB, Electrical Engineering, Problem-solving, Communication, Teamwork, Stakeholder management, Client collaboration, Supplier management, Safety standards (electric vehicles), Sustainability, Micromobility, Strategic product innovation</td><td>0.515739804859209</td></tr><tr><td>Analysis, Comparison, Critical Thinking, Summarization</td><td>Data Mining, Statistical Analysis, Machine Learning, Deep Learning, Data Cleansing, Data Quality Assessment, Exploratory Data Analysis, Data Visualization, Model Development, Predictive Modeling, Prescriptive Modeling, SQL, R, Python, NumPy, Pandas, Scikit-learn, TensorFlow, Agile Development, Data Engineering, Software Development, Stakeholder Management, Communication, Problem-Solving, Business Acumen</td><td>0.45160887028028107</td></tr><tr><td>Communication skills, self-awareness, critical thinking, problem-solving</td><td>JavaScript, Node.js, TypeScript, React, Java, Spring, Postgres, Kubernetes, Software Architecture, Web Application Development, Developer Tooling, Code Review, Mentoring, Problem Solving, Communication, Collaboration,  Internationalization</td><td>0.492466940300607</td></tr><tr><td>Understanding of LSTMs, Understanding of Bi-LSTMs, Comparative analysis,  Problem-solving</td><td>SQL, ETL, A/B Testing, statistical analysis, hypothesis testing, experimentation, regression models, data visualization, R, Python, Matlab, SAS, Chartio, Looker, Tableau, funnel optimization, user segmentation, cohort analysis, time series analysis, mentoring, communication, problem-solving, project management</td><td>0.5091388585185925</td></tr><tr><td>Understanding of LSTMs, Understanding of Bi-LSTMs, Comparative analysis,  Problem-solving</td><td>AWS, Linux, Bash/Perl/Ruby/Python, Splunk/Wavefront/Zabbix/ELK/Prometheus/Grafana, Software Development, DevOps, SRE, Monitoring, Observability, Alerting, Automation, Agile, Team Leadership, Communication, Problem-solving</td><td>0.5161724640096301</td></tr></tbody></table></div>"
      ]
     },
     "metadata": {
      "application/vnd.databricks.v1+output": {
       "addedWidgets": {},
       "aggData": [],
       "aggError": "",
       "aggOverflow": false,
       "aggSchema": [],
       "aggSeriesLimitReached": false,
       "aggType": "",
       "arguments": {},
       "columnCustomDisplayInfos": {},
       "data": [
        [
         "Conflict resolution, customer service, communication, empathy, problem-solving",
         "Troubleshooting, Customer Support, Network Engineering,  WAN Operations, TCP/IP, OSI Model, Linux/UNIX, VMware, Network Security, Windows OS,  Communication (written & verbal - English & Japanese),  Data Analysis, Problem-solving,  KCS Methodology,  Siebel (CRM),  Public/Private Cloud Technologies, Scripting (e.g., Python, JavaScript), Containerization (e.g., Docker),  Container Orchestration (e.g., Kubernetes), Automation (e.g., Ansible),  Technical Documentation,  Multitasking, Prioritization, Teamwork,  ISO Quality Management Systems.",
         0.4715316634969234
        ],
        [
         "Understanding of convolutional neural networks, critical thinking, problem-solving",
         "Statistical analysis, Data modeling, RFM analysis, Predictive modeling, Marketing mix modeling, Attribution modeling, A/B testing, Multivariate testing, Regression analysis, Cluster analysis, CHAID, Factor analysis, Principal component analysis, Time series analysis, Survival analysis, Experimental design, SQL, R, Python, Data visualization, Presentation skills, Communication skills, Project management, Collaboration, Data quality assurance (QA/QC), Database marketing",
         0.47630422239016723
        ],
        [
         "Problem-solving, critical thinking, understanding of machine learning concepts",
         "C/C++, Python, Linux-based development, VLSI CAD algorithm development, data structures, algorithms, software engineering principles, strong verbal and written communication skills, strong teamwork skills, problem-solving skills, analysis skills, programming skills, debugging skills, troubleshooting skills, statistical analysis, machine learning, deep learning,  routing algorithm knowledge, quality and software processes, Unix/Linux platform experience",
         0.5324110096489592
        ],
        [
         "Deep learning,Gradient descent optimization,Debugging,Problem-solving",
         "Linux/UNIX administration, Docker, docker-compose, containerized development, Ansible, Packer, Terraform, OpenShift, Kubernetes, Bash, Python, Node.js, Application clustering, load balancing, VMware vSphere API, Gitlab CI/CD, networking fundamentals, command line tools, HTTP, SSL, LDAP, SQL, HTML, XML, PostgreSQL, Keepalived,  CI/CD, Blue/Green Deployments,  Consul,  Atomic Host,  distributed computing, data systems, immutable infrastructure, serverless computing",
         0.3830026820199315
        ],
        [
         "Mathematical reasoning,Computational complexity analysis,Algorithm understanding",
         "Software development, Data structures, Algorithms, C, C++, Java, JavaScript, Python, C#, Go, Web application development, Mobile application development, Unix/Linux environments, Distributed systems, Parallel systems, Machine learning, Information retrieval, Natural language processing, Networking, Large software system development, Security software development, UI development, AJAX, Embedded systems, Mobile app development (Android/iOS), Developer tools, Automated test system development, Cloud-based computing, Problem-solving, Leadership, Communication (written and verbal English)",
         0.4571519699612328
        ],
        [
         "Understanding of deep learning concepts,Knowledge of gradient descent,Problem-solving",
         "financial analysis, accounting, Microsoft Excel, data analysis, financial reporting, project management, account reconciliation, communication, organization, time management, flexibility, team collaboration, influencing, KPI tracking, cash flow management",
         0.5039307442953912
        ],
        [
         "Deep learning,Gradient descent optimization,Debugging,Problem-solving",
         "financial analysis, accounting, Microsoft Excel, data analysis, financial reporting, project management, account reconciliation, communication, organization, time management, flexibility, team collaboration, influencing, KPI tracking, cash flow management",
         0.5039307442953912
        ],
        [
         "Problem-solving, critical thinking, understanding of machine learning concepts",
         "Linux/UNIX administration, Docker, docker-compose, containerized development, Ansible, Packer, Terraform, OpenShift, Kubernetes, Bash, Python, Node.js, Application clustering, load balancing, VMware vSphere API, Gitlab CI/CD, networking fundamentals, command line tools, HTTP, SSL, LDAP, SQL, HTML, XML, PostgreSQL, Keepalived,  CI/CD, Blue/Green Deployments,  Consul,  Atomic Host,  distributed computing, data systems, immutable infrastructure, serverless computing",
         0.3830026820199315
        ],
        [
         "Understanding of neural networks,Understanding of activation functions,Problem-solving,Critical thinking",
         "Linux/UNIX administration, Docker, docker-compose, containerized development, Ansible, Packer, Terraform, OpenShift, Kubernetes, Bash, Python, Node.js, Application clustering, load balancing, VMware vSphere API, Gitlab CI/CD, networking fundamentals, command line tools, HTTP, SSL, LDAP, SQL, HTML, XML, PostgreSQL, Keepalived,  CI/CD, Blue/Green Deployments,  Consul,  Atomic Host,  distributed computing, data systems, immutable infrastructure, serverless computing",
         0.3830026820199315
        ],
        [
         "Conflict resolution, customer service, communication, empathy, problem-solving",
         "SQL, RDBMS, Non-RDBMS, MySQL, PostgreSQL, MongoDB, Python, Jupyter Notebook, Inferential Statistics, Probability, ETL, Data Pipeline, Automated Reporting, Data Analysis, Statistical Modeling, Machine Learning, Git, Hive, Spark, Presto, Diagnostic Analytics, Forecasting, Big Data",
         0.4461664569088949
        ],
        [
         "Problem-solving, communication, critical thinking, storytelling, self-awareness",
         "JavaScript, Node.js, TypeScript, React, Java, Spring, Postgres, Kubernetes, Software Architecture, Web Application Development, Developer Tooling, Code Review, Mentoring, Problem Solving, Communication, Collaboration,  Internationalization",
         0.492466940300607
        ],
        [
         "Self-awareness, self-reflection, communication, storytelling, problem-solving",
         "Linux System Administration, HPC Cluster Management (SLURM, LSF), Configuration Management (Ansible, Puppet, Terraform), System Monitoring & Alerting (Prometheus, Grafana, Telegraf, Splunk), High-Performance Computing (HPC), Distributed Systems, Networking (TCP/IP, IPoIB), Storage Technologies, Python, Go, Bash, Root Cause Analysis, Automation, Documentation, Communication, Time Management, GPU Computing, High-Throughput Networks, High-Performance Storage, Containerization (Docker, Kubernetes, Singularity), Cloud Computing, Hardware Accelerators (FPGA, ASIC), Parallel Filesystems, Security, Scalability",
         0.412026697638995
        ],
        [
         "Deep learning,Gradient descent optimization,Debugging,Problem-solving",
         "Software Engineering, Database Management (Informix, PostgreSQL, MySQL, MongoDB, Progress), Process Automation, Data Visualization (SSRS, Tableau, PowerBI), Python, Java, Scala, R, Maven, Gradle, Automation Testing, Regression Testing, Performance Testing, Git/GitHub, Agile Development, CI/CD, Test Data Management,  Self-Service Portal Development, SecDevOps, Communication (written & verbal), Leadership, Problem-Solving,  Reporting and Metrics,  Cloud Platforms (AWS, PCF, Kubernetes), Monitoring Tools (Grafana, Elastic/ELK, AppDynamics, Kafka, Kibana, Prometheus, Splunk, Big Panda), Jenkins, Artifactory, Gitlab, SonarQube",
         0.4195123753524508
        ],
        [
         "Linear algebra,Matrix operations,Computational efficiency,Algorithm optimization",
         "Linux System Administration, DevOps, Cloud Engineering, Automation,  Bash Scripting, SSH, Git,  Jenkins, Consul, Vault,  Networking, TCP/IP, DNS, HTTP, TLS, Web Security,  Troubleshooting,  Monitoring (Nagios, Cacti, Grafana, ELK), HAProxy, Kubernetes,  Infrastructure as Code (IaC), Configuration Management, CI/CD, Containerization, Virtualization, MySQL,  Backup and Restore,  Documentation,  Communication,  Problem-solving,  Software Updates,  High Availability (HA),  Security, CentOS, Ubuntu,  Python/other interpreted languages (Preferred),  Email Server Administration (Preferred)",
         0.3744617281764023
        ],
        [
         "Linear algebra,Matrix operations,Computational efficiency,Algorithm optimization",
         "Software Engineering, Programming (C, C++, Java, Python, Go), System Design, System Reliability, Observability Tooling, Scalability Engineering, Distributed Systems, Collaboration, Requirements Gathering, Mentoring, Documentation, Data Science (familiarity helpful)",
         0.4594182279681111
        ],
        [
         "Understanding of activation functions,Knowledge of neural networks,Comparative analysis,Problem-solving",
         "Linux/UNIX administration, Docker, docker-compose, containerized development, Ansible, Packer, Terraform, OpenShift, Kubernetes, Bash, Python, Node.js, Application clustering, load balancing, VMware vSphere API, Gitlab CI/CD, networking fundamentals, command line tools, HTTP, SSL, LDAP, SQL, HTML, XML, PostgreSQL, Keepalived,  CI/CD, Blue/Green Deployments,  Consul,  Atomic Host,  distributed computing, data systems, immutable infrastructure, serverless computing",
         0.3830026820199315
        ],
        [
         "Communication skills, self-awareness, critical thinking, problem-solving",
         "Statistical modeling, Machine learning, Natural language processing, Time series analysis, Mathematical optimization, Graph theory, Quantitative finance, Python, R, Symbolic AI, Hybrid symbolic and machine learning, Data engineering, MLOps, Data visualization, Model risk management, Model governance, Cloud computing, Version control, DevOps, Financial services, Wealth management, Model validation, Model monitoring, Model explainability, Model interpretability, Transformer models, K-shot learning, Self-supervised learning, Algorithm research, Stakeholder management, Communication, Presentation skills, Technical communication, Data analysis, Problem-solving, Decision-making, Collaboration",
         0.5239901341357562
        ],
        [
         "Problem-solving, Storytelling, Self-awareness,  Communication",
         "financial analysis, accounting, Microsoft Excel, data analysis, financial reporting, project management, account reconciliation, communication, organization, time management, flexibility, team collaboration, influencing, KPI tracking, cash flow management",
         0.5039307442953912
        ],
        [
         "Understanding of convolutional neural networks, critical thinking, problem-solving",
         "Strategic Planning, Project Management, Technology Innovation, Consumer Technology Expertise,  Data Analytics, Business Strategy,  Digital Transformation,  Team Leadership,  Communication (written & oral), Presentation Skills, Relationship Building, Servant Leadership,  Problem-solving,  Negotiation,  Financial Analysis,  Product Management,  IT Infrastructure Knowledge,  Cloud Technologies,  Emerging Technology Awareness,  Regulatory Compliance (PCI, HIPAA),  Stakeholder Management,  Innovation,  Product Development,  Hardware/Software Knowledge,  Mobile App Development,  Electrical Systems, Control Systems.",
         0.5408907549972239
        ],
        [
         "Critical thinking, Problem-solving, Analytical skills",
         "AWS, Automation, Capacity Management, Cloud Computing, DevOps, Development Processes, Observability, Performance Tuning, Reliability Engineering, Scalability, Security, Service Design, Software Architecture, Troubleshooting,  Application Architecture, Messaging Protocols, Caching Strategies, Software Design Practices, Environment Management, High Availability",
         0.48851064443375186
        ],
        [
         "Communication skills, self-awareness, critical thinking, problem-solving",
         "accounting principles, communication, teamwork, financial management, liquidity management, asset/liability management (ALM), profitability reporting, financial analysis, cost accounting, data analytics, CPA, CFA, financial forecasting, strategic planning, leadership, problem solving, advisory skills, engagement, ownership",
         0.5344221639674912
        ],
        [
         "Linear algebra,Matrix operations,Computational efficiency,Algorithm optimization",
         "SQL, ETL, A/B Testing, statistical analysis, hypothesis testing, experimentation, regression models, data visualization, R, Python, Matlab, SAS, Chartio, Looker, Tableau, funnel optimization, user segmentation, cohort analysis, time series analysis, mentoring, communication, problem-solving, project management",
         0.4428370560383232
        ],
        [
         "Analysis, Comparison, Critical Thinking, Summarization",
         "accounting principles, communication, teamwork, financial management, liquidity management, asset/liability management (ALM), profitability reporting, financial analysis, cost accounting, data analytics, CPA, CFA, financial forecasting, strategic planning, leadership, problem solving, advisory skills, engagement, ownership",
         0.4385163936693921
        ],
        [
         "Communication skills, self-awareness, critical thinking, problem-solving",
         "Linux System Administration, HPC Cluster Management (SLURM, LSF), Configuration Management (Ansible, Puppet, Terraform), System Monitoring & Alerting (Prometheus, Grafana, Telegraf, Splunk), High-Performance Computing (HPC), Distributed Systems, Networking (TCP/IP, IPoIB), Storage Technologies, Python, Go, Bash, Root Cause Analysis, Automation, Documentation, Communication, Time Management, GPU Computing, High-Throughput Networks, High-Performance Storage, Containerization (Docker, Kubernetes, Singularity), Cloud Computing, Hardware Accelerators (FPGA, ASIC), Parallel Filesystems, Security, Scalability",
         0.412026697638995
        ],
        [
         "Linear algebra,Matrix operations,Computational efficiency,Algorithm optimization",
         "Data Analysis, Statistical Modeling, Machine Learning, Python/R, SQL/Hive, A/B Testing, Causal Inference, Data Visualization, Communication, Leadership, Problem-solving, Product Design, Web-scale data experience",
         0.4628503568963916
        ],
        [
         "Mathematical reasoning,Computational complexity analysis,Algorithm understanding",
         "Azure, Terraform, ARM templates, Azure DevOps, Python, PowerShell, Docker, Kubernetes, Agile, Scrum, DevSecOps, Configuration Management, Orchestration, Cloud Services (compute, storage, Key Vault, Azure PaaS), Failure Injection Testing, IAM (least privilege access, password management, audit logging, RBAC, certificate issuance and revocation),  Site Reliability Engineering,  Metrics collection, reporting and alerting,  Continuous Integration,  Horizontal and vertical scalability, Cloud native monitoring,  Excellent communication skills, Problem-solving.",
         0.3309938242300663
        ],
        [
         "Understanding of activation functions,Knowledge of neural networks,Comparative analysis,Problem-solving",
         "JavaScript, Node.js, TypeScript, React, Java, Spring, Postgres, Kubernetes, Software Architecture, Web Application Development, Developer Tooling, Code Review, Mentoring, Problem Solving, Communication, Collaboration,  Internationalization",
         0.492466940300607
        ],
        [
         "Problem-solving, critical thinking, understanding of machine learning concepts",
         "Software Engineering, Database Management (Informix, PostgreSQL, MySQL, MongoDB, Progress), Process Automation, Data Visualization (SSRS, Tableau, PowerBI), Python, Java, Scala, R, Maven, Gradle, Automation Testing, Regression Testing, Performance Testing, Git/GitHub, Agile Development, CI/CD, Test Data Management,  Self-Service Portal Development, SecDevOps, Communication (written & verbal), Leadership, Problem-Solving,  Reporting and Metrics,  Cloud Platforms (AWS, PCF, Kubernetes), Monitoring Tools (Grafana, Elastic/ELK, AppDynamics, Kafka, Kibana, Prometheus, Splunk, Big Panda), Jenkins, Artifactory, Gitlab, SonarQube",
         0.4195123753524508
        ],
        [
         "Self-awareness, self-reflection, communication, storytelling, problem-solving",
         "accounting principles, communication, teamwork, financial management, liquidity management, asset/liability management (ALM), profitability reporting, financial analysis, cost accounting, data analytics, CPA, CFA, financial forecasting, strategic planning, leadership, problem solving, advisory skills, engagement, ownership",
         0.5344221639674912
        ],
        [
         "Understanding of deep learning concepts,Knowledge of gradient descent,Problem-solving",
         "Linux/UNIX administration, Docker, docker-compose, containerized development, Ansible, Packer, Terraform, OpenShift, Kubernetes, Bash, Python, Node.js, Application clustering, load balancing, VMware vSphere API, Gitlab CI/CD, networking fundamentals, command line tools, HTTP, SSL, LDAP, SQL, HTML, XML, PostgreSQL, Keepalived,  CI/CD, Blue/Green Deployments,  Consul,  Atomic Host,  distributed computing, data systems, immutable infrastructure, serverless computing",
         0.3830026820199315
        ],
        [
         "Analysis, Comparison, Critical Thinking, Summarization",
         "Evaluation, Implementation, Execution, On-premise support, Field work",
         0.5335433000588976
        ],
        [
         "Understanding of neural networks,Understanding of activation functions,Problem-solving,Critical thinking",
         "Software development, Data structures, Algorithms, C, C++, Java, JavaScript, Python, C#, Go, Web application development, Mobile application development, Unix/Linux environments, Distributed systems, Parallel systems, Machine learning, Information retrieval, Natural language processing, Networking, Large software system development, Security software development, UI development, AJAX, Embedded systems, Mobile app development (Android/iOS), Developer tools, Automated test system development, Cloud-based computing, Problem-solving, Leadership, Communication (written and verbal English)",
         0.5019040061549253
        ],
        [
         "Critical thinking, Problem-solving, Analytical skills",
         "Customer service, communication, hospitality, teamwork",
         0.5650195114756555
        ],
        [
         "Self-awareness, self-reflection, communication, storytelling, problem-solving",
         "Linux/UNIX administration, Docker, docker-compose, containerized development, Ansible, Packer, Terraform, OpenShift, Kubernetes, Bash, Python, Node.js, Application clustering, load balancing, VMware vSphere API, Gitlab CI/CD, networking fundamentals, command line tools, HTTP, SSL, LDAP, SQL, HTML, XML, PostgreSQL, Keepalived,  CI/CD, Blue/Green Deployments,  Consul,  Atomic Host,  distributed computing, data systems, immutable infrastructure, serverless computing",
         0.3830026820199315
        ],
        [
         "Conflict resolution, customer service, communication, empathy, problem-solving",
         "Python, Java, SQL, NoSQL, Key-Value Store, Distributed Systems, Real-time Systems, Software Design, Problem-solving, Team Collaboration, CI/CD, Testing, Secure Coding, Event-driven Architecture, Messaging Frameworks (Pub/Sub, Kafka, RabbitMQ), Cloud Infrastructure (GCP, AWS, Azure)",
         0.49589731389835284
        ],
        [
         "Communication skills, self-awareness, critical thinking, problem-solving",
         "Linux/UNIX administration, Docker, docker-compose, containerized development, Ansible, Packer, Terraform, OpenShift, Kubernetes, Bash, Python, Node.js, Application clustering, load balancing, VMware vSphere API, Gitlab CI/CD, networking fundamentals, command line tools, HTTP, SSL, LDAP, SQL, HTML, XML, PostgreSQL, Keepalived,  CI/CD, Blue/Green Deployments,  Consul,  Atomic Host,  distributed computing, data systems, immutable infrastructure, serverless computing",
         0.3830026820199315
        ],
        [
         "Understanding of LSTMs, Understanding of Bi-LSTMs, Comparative analysis,  Problem-solving",
         "C#, PowerShell, Software Development, Debugging, Troubleshooting, System Tuning, Capacity Planning, Performance Analysis, Security, Scalability, Reliability, Automation, DevOps, Service Engineering, System Architecture, Code Review,  Problem Solving,  On-Call Support, Disaster Recovery, Business Continuity Planning,  Distributed Systems, Virtualization (Hyper-V, VMWare),  Customer Focus, Live Site Operations,  Analytical Skills, Communication Skills, Interpersonal Skills,  Multitasking,  Customer Service, Supply Chain (Preferred), Operations Analytics (Preferred)",
         0.5146988632735389
        ],
        [
         "Linear algebra,Matrix operations,Computational efficiency,Algorithm optimization",
         "Data Mining, Statistical Analysis, Machine Learning, Deep Learning, Data Cleansing, Data Quality Assessment, Exploratory Data Analysis, Data Visualization, Model Development, Predictive Modeling, Prescriptive Modeling, SQL, R, Python, NumPy, Pandas, Scikit-learn, TensorFlow, Agile Development, Data Engineering, Software Development, Stakeholder Management, Communication, Problem-Solving, Business Acumen",
         0.47053481753305987
        ],
        [
         "Problem-solving,Critical thinking,Understanding of N-grams,NLP fundamentals",
         "Software development, Data structures, Algorithms, C, C++, Java, JavaScript, Python, C#, Go, Web application development, Mobile application development, Unix/Linux environments, Distributed systems, Parallel systems, Machine learning, Information retrieval, Natural language processing, Networking, Large software system development, Security software development, UI development, AJAX, Embedded systems, Mobile app development (Android/iOS), Developer tools, Automated test system development, Cloud-based computing, Problem-solving, Leadership, Communication (written and verbal English)",
         0.5019040061549253
        ],
        [
         "Critical thinking, Problem-solving, Analytical skills",
         "HTML, CSS, Ajax, JavaScript, Angular, PHP, Node.js, Object-Oriented Programming, Single Page Application development, Responsive Web Design, Web Development, Software Development, Debugging, Testing, Code Review, Cloud Native Architecture, Problem-solving, Analytical skills, Communication (written & verbal), Teamwork, Collaboration",
         0.5058451664733958
        ],
        [
         "Mathematical reasoning,Computational complexity analysis,Algorithm understanding",
         "Software Development, Salesforce (Apex, Lightning, JavaScript), Middleware (Mulesoft, Dell Boomi, Jitterbit, Kettle), Application Customization (SpringCM, Conga), Data Manipulation, Scripting, Cloud CPQ, Billing Solutions, Agile/Scrum, Version Control (Git), Object-Oriented Programming, Java, C#, C/C++, Python, JavaScript, Problem-Solving, Communication, Teamwork, Web Development (HTML, CSS, Server-side, Client-side), Open Source Contributions",
         0.40880320245546925
        ],
        [
         "Problem-solving, communication, critical thinking, storytelling, self-awareness",
         "Software development, Data structures, Algorithms, C, C++, Java, JavaScript, Python, C#, Go, Web application development, Mobile application development, Unix/Linux environments, Distributed systems, Parallel systems, Machine learning, Information retrieval, Natural language processing, Networking, Large software system development, Security software development, UI development, AJAX, Embedded systems, Mobile app development (Android/iOS), Developer tools, Automated test system development, Cloud-based computing, Problem-solving, Leadership, Communication (written and verbal English)",
         0.5019040061549253
        ],
        [
         "Problem-solving,Critical thinking,Understanding of N-grams,NLP fundamentals",
         "SEO, Local SEO, PPC, Facebook Ads, Google Analytics, Ahrefs, Screaming Frog, SEMrush,  Website Content Writing,  Blog Writing,  Marketing Strategy,  Campaign Performance Tracking & Reporting,  Communication (written & verbal),  Interpersonal Skills, Customer Service,  Project Management, Time Management, Organization, Detail-Oriented,  Teamwork,  Resourcefulness,  Problem-solving,  Creative Thinking,  Flexible Schedule,  Bilingual (plus)",
         0.49457869490457257
        ],
        [
         "Problem-solving, Storytelling, Self-awareness,  Communication",
         "Linux/UNIX administration, Docker, docker-compose, containerized development, Ansible, Packer, Terraform, OpenShift, Kubernetes, Bash, Python, Node.js, Application clustering, load balancing, VMware vSphere API, Gitlab CI/CD, networking fundamentals, command line tools, HTTP, SSL, LDAP, SQL, HTML, XML, PostgreSQL, Keepalived,  CI/CD, Blue/Green Deployments,  Consul,  Atomic Host,  distributed computing, data systems, immutable infrastructure, serverless computing",
         0.3830026820199315
        ],
        [
         "Problem-solving, Storytelling, Self-awareness,  Communication",
         "JavaScript, Node.js, TypeScript, React, Java, Spring, Postgres, Kubernetes, Software Architecture, Web Application Development, Developer Tooling, Code Review, Mentoring, Problem Solving, Communication, Collaboration,  Internationalization",
         0.492466940300607
        ],
        [
         "Understanding of convolutional neural networks, critical thinking, problem-solving",
         "JavaScript, Node.js, TypeScript, React, Java, Spring, Postgres, Kubernetes, Software Architecture, Web Application Development, Developer Tooling, Code Review, Mentoring, Problem Solving, Communication, Collaboration,  Internationalization",
         0.492466940300607
        ],
        [
         "Critical thinking, Problem-solving, Analytical skills",
         "C#, .NET, MongoDB, SQL, Angular, Bootstrap, Application Support, Debugging, REST API development, Azure, Sitecore, Salesforce Administration",
         0.40988825186544847
        ],
        [
         "Understanding of convolutional neural networks, critical thinking, problem-solving",
         "accounting principles, communication, teamwork, financial management, liquidity management, asset/liability management (ALM), profitability reporting, financial analysis, cost accounting, data analytics, CPA, CFA, financial forecasting, strategic planning, leadership, problem solving, advisory skills, engagement, ownership",
         0.5344221639674912
        ],
        [
         "Critical thinking, Problem-solving, Analytical skills",
         "SEO, Local SEO, PPC, Facebook Ads, Google Analytics, Ahrefs, Screaming Frog, SEMrush,  Website Content Writing,  Blog Writing,  Marketing Strategy,  Campaign Performance Tracking & Reporting,  Communication (written & verbal),  Interpersonal Skills, Customer Service,  Project Management, Time Management, Organization, Detail-Oriented,  Teamwork,  Resourcefulness,  Problem-solving,  Creative Thinking,  Flexible Schedule,  Bilingual (plus)",
         0.49457869490457257
        ],
        [
         "Understanding of convolutional neural networks, critical thinking, problem-solving",
         "SQL, RDBMS, Non-RDBMS, MySQL, PostgreSQL, MongoDB, Python, Jupyter Notebook, Inferential Statistics, Probability, ETL, Data Pipeline, Automated Reporting, Data Analysis, Statistical Modeling, Machine Learning, Git, Hive, Spark, Presto, Diagnostic Analytics, Forecasting, Big Data",
         0.4461664569088949
        ],
        [
         "Conflict resolution, customer service, communication, empathy, problem-solving",
         "Linux System Administration, HPC Cluster Management (SLURM, LSF), Configuration Management (Ansible, Puppet, Terraform), System Monitoring & Alerting (Prometheus, Grafana, Telegraf, Splunk), High-Performance Computing (HPC), Distributed Systems, Networking (TCP/IP, IPoIB), Storage Technologies, Python, Go, Bash, Root Cause Analysis, Automation, Documentation, Communication, Time Management, GPU Computing, High-Throughput Networks, High-Performance Storage, Containerization (Docker, Kubernetes, Singularity), Cloud Computing, Hardware Accelerators (FPGA, ASIC), Parallel Filesystems, Security, Scalability",
         0.412026697638995
        ],
        [
         "Problem-solving,Critical thinking,Understanding of N-grams,NLP fundamentals",
         "C/C++, Python, Linux-based development, VLSI CAD algorithm development, data structures, algorithms, software engineering principles, strong verbal and written communication skills, strong teamwork skills, problem-solving skills, analysis skills, programming skills, debugging skills, troubleshooting skills, statistical analysis, machine learning, deep learning,  routing algorithm knowledge, quality and software processes, Unix/Linux platform experience",
         0.5324110096489592
        ],
        [
         "Self-awareness, self-reflection, communication, storytelling, problem-solving",
         "SQL, RDBMS, Non-RDBMS, MySQL, PostgreSQL, MongoDB, Python, Jupyter Notebook, Inferential Statistics, Probability, ETL, Data Pipeline, Automated Reporting, Data Analysis, Statistical Modeling, Machine Learning, Git, Hive, Spark, Presto, Diagnostic Analytics, Forecasting, Big Data",
         0.4461664569088949
        ],
        [
         "Conflict resolution, customer service, communication, empathy, problem-solving",
         "financial analysis, accounting, Microsoft Excel, data analysis, financial reporting, project management, account reconciliation, communication, organization, time management, flexibility, team collaboration, influencing, KPI tracking, cash flow management",
         0.5039307442953912
        ],
        [
         "Understanding of deep learning concepts,Knowledge of gradient descent,Problem-solving",
         "C/C++, Python, Linux-based development, VLSI CAD algorithm development, data structures, algorithms, software engineering principles, strong verbal and written communication skills, strong teamwork skills, problem-solving skills, analysis skills, programming skills, debugging skills, troubleshooting skills, statistical analysis, machine learning, deep learning,  routing algorithm knowledge, quality and software processes, Unix/Linux platform experience",
         0.5324110096489592
        ],
        [
         "Understanding of deep learning concepts,Knowledge of gradient descent,Problem-solving",
         "SEO, Local SEO, PPC, Facebook Ads, Google Analytics, Ahrefs, Screaming Frog, SEMrush,  Website Content Writing,  Blog Writing,  Marketing Strategy,  Campaign Performance Tracking & Reporting,  Communication (written & verbal),  Interpersonal Skills, Customer Service,  Project Management, Time Management, Organization, Detail-Oriented,  Teamwork,  Resourcefulness,  Problem-solving,  Creative Thinking,  Flexible Schedule,  Bilingual (plus)",
         0.49457869490457257
        ],
        [
         "Problem-solving,Critical thinking,Understanding of N-grams,NLP fundamentals",
         "financial analysis, accounting, Microsoft Excel, data analysis, financial reporting, project management, account reconciliation, communication, organization, time management, flexibility, team collaboration, influencing, KPI tracking, cash flow management",
         0.5039307442953912
        ],
        [
         "Understanding of LSTMs, Understanding of Bi-LSTMs, Comparative analysis,  Problem-solving",
         "C#, .NET, MongoDB, SQL, Angular, Bootstrap, Application Support, Debugging, REST API development, Azure, Sitecore, Salesforce Administration",
         0.40988825186544847
        ],
        [
         "Mathematical reasoning,Computational complexity analysis,Algorithm understanding",
         "Licensed Occupational Therapist, Physical Therapy Assistant license (preferred), Occupational Therapy Assistant certification (preferred)",
         0.1420571058996462
        ],
        [
         "Problem-solving,Critical thinking,Understanding of N-grams,NLP fundamentals",
         "JavaScript, Node.js, TypeScript, React, Java, Spring, Postgres, Kubernetes, Software Architecture, Web Application Development, Developer Tooling, Code Review, Mentoring, Problem Solving, Communication, Collaboration,  Internationalization",
         0.492466940300607
        ],
        [
         "Analysis, Comparison, Critical Thinking, Summarization",
         "Data Analysis, Statistical Modeling, Machine Learning, Python/R, SQL/Hive, A/B Testing, Causal Inference, Data Visualization, Communication, Leadership, Problem-solving, Product Design, Web-scale data experience",
         0.49817561216194794
        ],
        [
         "Communication skills, self-awareness, critical thinking, problem-solving",
         "Statistical analysis, Data modeling, RFM analysis, Predictive modeling, Marketing mix modeling, Attribution modeling, A/B testing, Multivariate testing, Regression analysis, Cluster analysis, CHAID, Factor analysis, Principal component analysis, Time series analysis, Survival analysis, Experimental design, SQL, R, Python, Data visualization, Presentation skills, Communication skills, Project management, Collaboration, Data quality assurance (QA/QC), Database marketing",
         0.47630422239016723
        ],
        [
         "Linear algebra,Matrix operations,Computational efficiency,Algorithm optimization",
         "Linux System Administration, HPC Cluster Management (SLURM, LSF), Configuration Management (Ansible, Puppet, Terraform), System Monitoring & Alerting (Prometheus, Grafana, Telegraf, Splunk), High-Performance Computing (HPC), Distributed Systems, Networking (TCP/IP, IPoIB), Storage Technologies, Python, Go, Bash, Root Cause Analysis, Automation, Documentation, Communication, Time Management, GPU Computing, High-Throughput Networks, High-Performance Storage, Containerization (Docker, Kubernetes, Singularity), Cloud Computing, Hardware Accelerators (FPGA, ASIC), Parallel Filesystems, Security, Scalability",
         0.40472702870823435
        ],
        [
         "Analysis, Comparison, Critical Thinking, Summarization",
         "Strategic Planning, Project Management, Technology Innovation, Consumer Technology Expertise,  Data Analytics, Business Strategy,  Digital Transformation,  Team Leadership,  Communication (written & oral), Presentation Skills, Relationship Building, Servant Leadership,  Problem-solving,  Negotiation,  Financial Analysis,  Product Management,  IT Infrastructure Knowledge,  Cloud Technologies,  Emerging Technology Awareness,  Regulatory Compliance (PCI, HIPAA),  Stakeholder Management,  Innovation,  Product Development,  Hardware/Software Knowledge,  Mobile App Development,  Electrical Systems, Control Systems.",
         0.41688226404068635
        ],
        [
         "Communication skills, self-awareness, critical thinking, problem-solving",
         "SQL, RDBMS, Non-RDBMS, MySQL, PostgreSQL, MongoDB, Python, Jupyter Notebook, Inferential Statistics, Probability, ETL, Data Pipeline, Automated Reporting, Data Analysis, Statistical Modeling, Machine Learning, Git, Hive, Spark, Presto, Diagnostic Analytics, Forecasting, Big Data",
         0.4461664569088949
        ],
        [
         "Critical thinking, Problem-solving, Analytical skills",
         "PCB design, Software development, Coding, C/C++, Python, Embedded systems, Firmware, Altium Designer, KiCad, Eagle PCB, Electrical Engineering, Problem-solving, Communication, Teamwork, Stakeholder management, Client collaboration, Supplier management, Safety standards (electric vehicles), Sustainability, Micromobility, Strategic product innovation",
         0.515739804859209
        ],
        [
         "Analysis, Comparison, Critical Thinking, Summarization",
         "Data Mining, Statistical Analysis, Machine Learning, Deep Learning, Data Cleansing, Data Quality Assessment, Exploratory Data Analysis, Data Visualization, Model Development, Predictive Modeling, Prescriptive Modeling, SQL, R, Python, NumPy, Pandas, Scikit-learn, TensorFlow, Agile Development, Data Engineering, Software Development, Stakeholder Management, Communication, Problem-Solving, Business Acumen",
         0.45160887028028107
        ],
        [
         "Communication skills, self-awareness, critical thinking, problem-solving",
         "JavaScript, Node.js, TypeScript, React, Java, Spring, Postgres, Kubernetes, Software Architecture, Web Application Development, Developer Tooling, Code Review, Mentoring, Problem Solving, Communication, Collaboration,  Internationalization",
         0.492466940300607
        ],
        [
         "Understanding of LSTMs, Understanding of Bi-LSTMs, Comparative analysis,  Problem-solving",
         "SQL, ETL, A/B Testing, statistical analysis, hypothesis testing, experimentation, regression models, data visualization, R, Python, Matlab, SAS, Chartio, Looker, Tableau, funnel optimization, user segmentation, cohort analysis, time series analysis, mentoring, communication, problem-solving, project management",
         0.5091388585185925
        ],
        [
         "Understanding of LSTMs, Understanding of Bi-LSTMs, Comparative analysis,  Problem-solving",
         "AWS, Linux, Bash/Perl/Ruby/Python, Splunk/Wavefront/Zabbix/ELK/Prometheus/Grafana, Software Development, DevOps, SRE, Monitoring, Observability, Alerting, Automation, Agile, Team Leadership, Communication, Problem-solving",
         0.5161724640096301
        ]
       ],
       "datasetInfos": [],
       "dbfsResultPath": null,
       "isJsonSchema": true,
       "metadata": {},
       "overflow": false,
       "plotOptions": {
        "customPlotOptions": {},
        "displayType": "table",
        "pivotAggregation": null,
        "pivotColumns": null,
        "xColumns": null,
        "yColumns": null
       },
       "removedWidgets": [],
       "schema": [
        {
         "metadata": "{}",
         "name": "topics",
         "type": "\"string\""
        },
        {
         "metadata": "{}",
         "name": "skills",
         "type": "\"string\""
        },
        {
         "metadata": "{}",
         "name": "similarity",
         "type": "\"double\""
        }
       ],
       "type": "table"
      }
     },
     "output_type": "display_data"
    }
   ],
   "source": [
    "# Show transformed datasets (optional)\n",
    "code_scores_after_transformation.select(\"topics\", \"skills\", \"similarity\").limit(70).display()\n",
    "open_scores_after_transformation.select(\"topics\", \"skills\", \"similarity\").limit(70).display()"
   ]
  },
  {
   "cell_type": "code",
   "execution_count": 0,
   "metadata": {
    "application/vnd.databricks.v1+cell": {
     "cellMetadata": {
      "byteLimit": 2048000,
      "rowLimit": 10000
     },
     "inputWidgets": {},
     "nuid": "edcd0e78-580d-4add-88a4-a47f947673ea",
     "showTitle": false,
     "tableResultSettingsMap": {},
     "title": ""
    }
   },
   "outputs": [],
   "source": [
    "code_scores_after_transformation_df = code_scores_after_transformation.select(\"similarity\").toPandas()\n",
    "code_scores_after_transformation_df.to_csv(os.path.join(MID_CALC_PATH, \"code_questions_transformed_similarity.csv\"), index=False)\n",
    "open_scores_after_transformation_df = open_scores_after_transformation.select(\"similarity\").toPandas()\n",
    "open_scores_after_transformation_df.to_csv(os.path.join(MID_CALC_PATH, \"open_questions_transformed_similarity.csv\"), index=False)"
   ]
  },
  {
   "cell_type": "markdown",
   "metadata": {
    "application/vnd.databricks.v1+cell": {
     "cellMetadata": {},
     "inputWidgets": {},
     "nuid": "330b82b4-bb7f-4610-b8ab-ce2220d40899",
     "showTitle": false,
     "tableResultSettingsMap": {},
     "title": ""
    }
   },
   "source": [
    "## Heuristic to match questions to jobs\n",
    "Questions with the highest hueristic grades wil be the most likely to appear in the interview."
   ]
  },
  {
   "cell_type": "code",
   "execution_count": 0,
   "metadata": {
    "application/vnd.databricks.v1+cell": {
     "cellMetadata": {
      "byteLimit": 2048000,
      "rowLimit": 10000
     },
     "inputWidgets": {},
     "nuid": "caf5d192-60ce-4109-85d7-6a44a53d7bc6",
     "showTitle": false,
     "tableResultSettingsMap": {
      "1": {
       "filterBlob": "{\"filterGroups\":[],\"syncTimestamp\":1738113499083}",
       "tableResultIndex": 1
      }
     },
     "title": ""
    }
   },
   "outputs": [],
   "source": [
    "from pyspark.sql.functions import col, lit, udf, abs, coalesce, when\n",
    "from pyspark.sql.types import FloatType\n",
    "from scipy.spatial.distance import cosine\n",
    "\n",
    "# Map difficulty levels to numeric values\n",
    "difficulty_map = {\"Easy\": 0, \"Medium\": 1, \"Hard\": 2}\n",
    "\n",
    "# Change difficulty column to numeric\n",
    "code_with_heuristic = code_scores_after_transformation.withColumn(\n",
    "    \"difficulty\",\n",
    "    when(col(\"difficulty\") == \"Easy\", difficulty_map[\"Easy\"])\n",
    "    .when(col(\"difficulty\") == \"Medium\", difficulty_map[\"Medium\"])\n",
    "    .when(col(\"difficulty\") == \"Hard\", difficulty_map[\"Hard\"])\n",
    ").cache()\n",
    "\n",
    "# Match question's difficulty to job posting's level\n",
    "code_with_heuristic = code_with_heuristic.withColumn(\n",
    "    \"difficulty_match\",\n",
    "    1 - abs(col(\"difficulty\") - col(\"level\")) / 2) \\\n",
    "    .withColumn(\"difficulty_match\", coalesce(col(\"difficulty_match\"), lit(0.5))) \\\n",
    "    .drop(\"difficulty\").cache()\n",
    "    \n",
    "open_with_heuristic = open_scores_after_transformation.withColumn(\n",
    "    \"difficulty_match\",\n",
    "    lit(0.5)\n",
    ").drop(\"difficulty\").cache()\n",
    "\n",
    "# Normalize Acceptance for code questions\n",
    "max_acceptance = code_with_heuristic.agg({\"acceptance\": \"max\"}).collect()[0][0]\n",
    "code_with_heuristic = code_with_heuristic.withColumn(\n",
    "    \"normalized_acceptance\", col(\"acceptance\") / max_acceptance\n",
    ").drop(\"acceptance\").cache()\n",
    "open_with_heuristic = open_with_heuristic.withColumn(\"normalized_acceptance\", lit(0.5)).cache()\n",
    "\n",
    "# Calculate Heuristic Score\n",
    "def calculate_score(difficulty, similarity, acceptance):\n",
    "    return 0.3 * difficulty + 0.5 * similarity + 0.2 * acceptance\n",
    "calculate_score_udf = udf(calculate_score, FloatType())\n",
    "\n",
    "mean_difficulty_match = code_with_heuristic.agg({\"difficulty_match\": \"mean\"}).collect()[0][0]\n",
    "mean_similarity = open_with_heuristic.agg({\"similarity\": \"mean\"}).collect()[0][0]\n",
    "mean_acceptance = code_with_heuristic.agg({\"normalized_acceptance\": \"mean\"}).collect()[0][0]\n",
    "\n",
    "code_with_heuristic = code_with_heuristic.withColumn(\"difficulty_match\", coalesce(col(\"difficulty_match\"), lit(mean_difficulty_match))) \\\n",
    "    .withColumn(\"similarity\", coalesce(col(\"similarity\"), lit(mean_similarity))) \\\n",
    "    .withColumn(\"normalized_acceptance\", coalesce(col(\"normalized_acceptance\"), lit(mean_acceptance))) \\\n",
    "    .withColumn(\"heuristic_score\",\n",
    "    calculate_score_udf(\n",
    "        col(\"difficulty_match\"),\n",
    "        col(\"similarity\"),\n",
    "        col(\"normalized_acceptance\"),\n",
    "    ),\n",
    ").drop(\"difficulty_match\", \"similarity\", \"normalized_acceptance\").cache()\n",
    "\n",
    "mean_similarity = open_with_heuristic.agg({\"similarity\": \"mean\"}).collect()[0][0]\n",
    "open_with_heuristic = open_with_heuristic.withColumn(\"similarity\", coalesce(col(\"similarity\"), lit(mean_similarity))) \\\n",
    "    .withColumn(\"heuristic_score\",\n",
    "    calculate_score_udf(\n",
    "        col(\"difficulty_match\"),\n",
    "        col(\"similarity\"),\n",
    "        col(\"normalized_acceptance\"),\n",
    "    ),\n",
    ").drop(\"difficulty_match\", \"similarity\", \"normalized_acceptance\").cache()"
   ]
  },
  {
   "cell_type": "code",
   "execution_count": 0,
   "metadata": {
    "application/vnd.databricks.v1+cell": {
     "cellMetadata": {
      "byteLimit": 2048000,
      "rowLimit": 10000
     },
     "inputWidgets": {},
     "nuid": "5413a107-3774-46df-9ee5-cc1586e9ab28",
     "showTitle": false,
     "tableResultSettingsMap": {},
     "title": ""
    }
   },
   "outputs": [],
   "source": [
    "# Select Top Questions for Each Job\n",
    "from pyspark.sql import Window\n",
    "from pyspark.sql.functions import row_number\n",
    "import pandas as pd\n",
    "\n",
    "job_cols = pd.read_csv(os.path.join(JOBS_PATH, \"jobs_sample.csv\"), header=0).columns\n",
    "window_spec = Window.partitionBy(*job_cols).orderBy(col(\"heuristic_score\").desc())\n",
    "\n",
    "top_code_questions = code_with_heuristic.withColumn(\n",
    "    \"rank\", row_number().over(window_spec)\n",
    ").filter(col(\"rank\") <= 20)\n",
    "\n",
    "top_open_questions = open_with_heuristic.withColumn(\n",
    "    \"rank\", row_number().over(window_spec)\n",
    ").filter(col(\"rank\") <= 20)"
   ]
  },
  {
   "cell_type": "code",
   "execution_count": 0,
   "metadata": {
    "application/vnd.databricks.v1+cell": {
     "cellMetadata": {
      "byteLimit": 2048000,
      "rowLimit": 10000
     },
     "inputWidgets": {},
     "nuid": "d0ab9a95-27bb-471d-bb20-9ad9faa8596b",
     "showTitle": false,
     "tableResultSettingsMap": {},
     "title": ""
    }
   },
   "outputs": [],
   "source": [
    "from consts import DATA_PATH\n",
    "top_code_questions_df = top_code_questions.toPandas()\n",
    "top_code_questions_df.to_csv(os.path.join(DATA_PATH, \"top_code_questions.csv\"), index=False)\n",
    "top_open_questions_df = top_open_questions.toPandas()\n",
    "top_open_questions_df.to_csv(os.path.join(DATA_PATH, \"top_open_questions.csv\"), index=False)"
   ]
  }
 ],
 "metadata": {
  "application/vnd.databricks.v1+notebook": {
   "computePreferences": null,
   "dashboards": [],
   "environmentMetadata": {
    "base_environment": "",
    "client": "1"
   },
   "language": "python",
   "notebookMetadata": {
    "pythonIndentUnit": 4
   },
   "notebookName": "select_interview_questions",
   "widgets": {}
  },
  "kernelspec": {
   "display_name": "base",
   "language": "python",
   "name": "python3"
  },
  "language_info": {
   "codemirror_mode": {
    "name": "ipython",
    "version": 3
   },
   "file_extension": ".py",
   "mimetype": "text/x-python",
   "name": "python",
   "nbconvert_exporter": "python",
   "pygments_lexer": "ipython3",
   "version": "3.12.3"
  }
 },
 "nbformat": 4,
 "nbformat_minor": 0
}
