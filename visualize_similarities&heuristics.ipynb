{
 "cells": [
  {
   "cell_type": "markdown",
   "metadata": {
    "application/vnd.databricks.v1+cell": {
     "cellMetadata": {
      "byteLimit": 2048000,
      "rowLimit": 10000
     },
     "inputWidgets": {},
     "nuid": "0bb7f138-74ce-4c63-b4d6-b023d50911e8",
     "showTitle": false,
     "tableResultSettingsMap": {},
     "title": ""
    }
   },
   "source": [
    "# histograms of similarities and transform similarities"
   ]
  },
  {
   "cell_type": "code",
   "execution_count": 0,
   "metadata": {
    "application/vnd.databricks.v1+cell": {
     "cellMetadata": {
      "byteLimit": 2048000,
      "rowLimit": 10000
     },
     "inputWidgets": {},
     "nuid": "cd27f2de-4257-4624-8647-96da04f7e62d",
     "showTitle": false,
     "tableResultSettingsMap": {},
     "title": ""
    }
   },
   "outputs": [],
   "source": [
    "import pandas as pd\n",
    "import matplotlib.pyplot as plt\n",
    "import seaborn as sns\n",
    "from consts import MID_CALC_PATH, DATA_PATH\n",
    "import os\n",
    "\n",
    "code_questions_similarity = pd.read_csv(os.path.join(MID_CALC_PATH, \"code_questions_similarity.csv\"))\n",
    "code_questions_transformed_similarity = pd.read_csv(os.path.join(MID_CALC_PATH, \"code_questions_transformed_similarity.csv\"))\n",
    "\n",
    "open_questions_similarity = pd.read_csv(os.path.join(MID_CALC_PATH, \"open_questions_similarity.csv\"))\n",
    "open_questions_transformed_similarity = pd.read_csv(os.path.join(MID_CALC_PATH, \"open_questions_transformed_similarity.csv\"))\n",
    "\n",
    "code_questions_heuristics = pd.read_csv(os.path.join(DATA_PATH, \"top_code_questions.csv\"))\n",
    "open_questions_heuristics = pd.read_csv(os.path.join(DATA_PATH, \"top_open_questions.csv\"))"
   ]
  },
  {
   "cell_type": "code",
   "execution_count": 0,
   "metadata": {
    "application/vnd.databricks.v1+cell": {
     "cellMetadata": {
      "byteLimit": 2048000,
      "rowLimit": 10000
     },
     "inputWidgets": {},
     "nuid": "b2afddfb-958e-4a21-a8ad-5183976b8ca1",
     "showTitle": false,
     "tableResultSettingsMap": {},
     "title": ""
    }
   },
   "outputs": [],
   "source": [
    "import numpy as np\n",
    "\n",
    "all_data = np.concatenate([\n",
    "    code_questions_similarity[\"similarity\"], \n",
    "    code_questions_transformed_similarity[\"similarity\"], \n",
    "    code_questions_heuristics[\"heuristic_score\"],\n",
    "    open_questions_similarity[\"similarity\"], \n",
    "    open_questions_transformed_similarity[\"similarity\"], \n",
    "    open_questions_heuristics[\"heuristic_score\"]\n",
    "])\n",
    "\n",
    "all_code_data = np.concatenate([\n",
    "    code_questions_similarity[\"similarity\"], \n",
    "    code_questions_transformed_similarity[\"similarity\"], \n",
    "    code_questions_heuristics[\"heuristic_score\"]\n",
    "])\n",
    "\n",
    "# Determine common bins based on the combined data range\n",
    "all_open_data = np.concatenate([\n",
    "    open_questions_similarity[\"similarity\"], \n",
    "    open_questions_transformed_similarity[\"similarity\"], \n",
    "    open_questions_heuristics[\"heuristic_score\"]\n",
    "])\n",
    "\n",
    "# Get min and max values\n",
    "min_value, max_value = np.min(all_data), np.max(all_data)\n",
    "\n",
    "print(\"Min value:\", min_value)\n",
    "print(\"Max value:\", max_value)"
   ]
  },
  {
   "cell_type": "markdown",
   "metadata": {
    "application/vnd.databricks.v1+cell": {
     "cellMetadata": {
      "byteLimit": 2048000,
      "rowLimit": 10000
     },
     "inputWidgets": {},
     "nuid": "1fbfa3e4-bda1-4856-aa3a-10c37e339eca",
     "showTitle": false,
     "tableResultSettingsMap": {},
     "title": ""
    }
   },
   "source": [
    "# Histogram of code questions similarities (transformed and not)"
   ]
  },
  {
   "cell_type": "code",
   "execution_count": 0,
   "metadata": {
    "application/vnd.databricks.v1+cell": {
     "cellMetadata": {
      "byteLimit": 2048000,
      "rowLimit": 10000
     },
     "inputWidgets": {},
     "nuid": "685df3c7-3ef0-485f-b12e-9a03c8e9238f",
     "showTitle": false,
     "tableResultSettingsMap": {},
     "title": ""
    }
   },
   "outputs": [],
   "source": [
    "import numpy as np\n",
    "import matplotlib.pyplot as plt\n",
    "import seaborn as sns\n",
    "\n",
    "# Determine common bins based on the combined data range\n",
    "all_code_data_similarities = np.concatenate([code_questions_similarity[\"similarity\"], \n",
    "                           code_questions_transformed_similarity[\"similarity\"]])\n",
    "\n",
    "bins = np.histogram_bin_edges(all_code_data_similarities, bins=20)  # Use the same bins for both\n",
    "\n",
    "plt.figure(figsize=(10, 6))\n",
    "\n",
    "# Plot both histograms with shared bins\n",
    "sns.histplot(code_questions_similarity[\"similarity\"], bins=bins, kde=True, color=\"blue\", alpha=0.5, label=\"Code Questions Similarity\")\n",
    "sns.histplot(code_questions_transformed_similarity[\"similarity\"], bins=bins, kde=True, color=\"red\", alpha=0.5, label=\"Transformed Code Questions Similarity\")\n",
    "\n",
    "plt.xlabel(\"Similarity Score\", fontsize=12)\n",
    "plt.ylabel(\"Frequency\", fontsize=12)\n",
    "plt.title(\"Histogram of Code Questions Similarity Scores\", fontsize=14)\n",
    "plt.legend()\n",
    "plt.xlim(min_value, max_value)\n",
    "plt.show()"
   ]
  },
  {
   "cell_type": "markdown",
   "metadata": {
    "application/vnd.databricks.v1+cell": {
     "cellMetadata": {
      "byteLimit": 2048000,
      "rowLimit": 10000
     },
     "inputWidgets": {},
     "nuid": "b3db8d72-62ea-4aae-9e55-889e8f201d53",
     "showTitle": false,
     "tableResultSettingsMap": {},
     "title": ""
    }
   },
   "source": [
    "# Histogram of open questions similarities (transformed and not)"
   ]
  },
  {
   "cell_type": "code",
   "execution_count": 0,
   "metadata": {
    "application/vnd.databricks.v1+cell": {
     "cellMetadata": {
      "byteLimit": 2048000,
      "rowLimit": 10000
     },
     "inputWidgets": {},
     "nuid": "972d2bed-bf21-4406-97c9-bce4bf48eedb",
     "showTitle": false,
     "tableResultSettingsMap": {},
     "title": ""
    }
   },
   "outputs": [],
   "source": [
    "import numpy as np\n",
    "import matplotlib.pyplot as plt\n",
    "import seaborn as sns\n",
    "\n",
    "# Determine common bins based on the combined data range\n",
    "all_open_data_similarities = np.concatenate([open_questions_similarity[\"similarity\"], \n",
    "                           open_questions_transformed_similarity[\"similarity\"]])\n",
    "\n",
    "bins = np.histogram_bin_edges(all_open_data_similarities, bins=20)  # Use the same bins for both\n",
    "\n",
    "plt.figure(figsize=(10, 6))\n",
    "\n",
    "# Plot both histograms with shared bins\n",
    "sns.histplot(open_questions_similarity[\"similarity\"], bins=bins, kde=True, stat='frequency', color=\"blue\", alpha=0.5, label=\"Open Questions Similarity\")\n",
    "sns.histplot(open_questions_transformed_similarity[\"similarity\"], bins=bins, kde=True, stat='frequency', color=\"red\", alpha=0.5, label=\"Transformed Open Questions Similarity\")\n",
    "\n",
    "plt.xlabel(\"Similarity Score\", fontsize=12)\n",
    "plt.ylabel(\"Frequency\", fontsize=12)\n",
    "plt.title(\"Histogram of Open Questions Similarity Scores\", fontsize=14)\n",
    "plt.legend()\n",
    "plt.xlim(min_value, max_value)\n",
    "plt.show()"
   ]
  },
  {
   "cell_type": "code",
   "execution_count": 0,
   "metadata": {
    "application/vnd.databricks.v1+cell": {
     "cellMetadata": {
      "byteLimit": 2048000,
      "rowLimit": 10000
     },
     "inputWidgets": {},
     "nuid": "ee0f37f7-dd06-4977-96fd-7dfa8b4a3fff",
     "showTitle": false,
     "tableResultSettingsMap": {},
     "title": ""
    }
   },
   "outputs": [],
   "source": [
    "import pandas as pd\n",
    "import matplotlib.pyplot as plt\n",
    "import seaborn as sns\n",
    "from consts import DATA_PATH\n",
    "import os\n",
    "\n",
    "code_questions_heuristics = pd.read_csv(os.path.join(DATA_PATH, \"top_code_questions.csv\"))\n",
    "open_questions_heuristics = pd.read_csv(os.path.join(DATA_PATH, \"top_open_questions.csv\"))\n",
    "\n",
    "def historgram(df_pandas, col, title):\n",
    "    # Plot the histogram\n",
    "    plt.figure(figsize=(10, 6))\n",
    "    sns.histplot(df_pandas[\"heuristic_score\"], bins=20, kde=True, stat='frequency', color=col)\n",
    "\n",
    "    # Labels and title\n",
    "    plt.xlabel(\"Average Job Similarity Score\", fontsize=12)\n",
    "    plt.ylabel(\"Frequency\", fontsize=12)\n",
    "    plt.title(f\"Histogram of {title} Heuristic Scores\", fontsize=14)\n",
    "\n",
    "    # Show the plot\n",
    "    plt.show()\n",
    "\n",
    "historgram(code_questions_heuristics, 'deepskyblue', 'Code Questions')\n",
    "historgram(open_questions_heuristics, 'deepskyblue', 'Open Questions')\n"
   ]
  },
  {
   "cell_type": "markdown",
   "metadata": {
    "application/vnd.databricks.v1+cell": {
     "cellMetadata": {
      "byteLimit": 2048000,
      "rowLimit": 10000
     },
     "inputWidgets": {},
     "nuid": "2a779739-5fb5-4dd1-9ada-a1c200d11551",
     "showTitle": false,
     "tableResultSettingsMap": {},
     "title": ""
    }
   },
   "source": [
    "# Code data similarities & heuristic histograms"
   ]
  },
  {
   "cell_type": "code",
   "execution_count": 0,
   "metadata": {
    "application/vnd.databricks.v1+cell": {
     "cellMetadata": {
      "byteLimit": 2048000,
      "rowLimit": 10000
     },
     "inputWidgets": {},
     "nuid": "b78f2fdb-077a-40fa-89df-b8c66796f8ed",
     "showTitle": false,
     "tableResultSettingsMap": {},
     "title": ""
    }
   },
   "outputs": [],
   "source": [
    "code_bins = np.histogram_bin_edges(all_code_data, bins=20)  # Use the same bins for all\n",
    "\n",
    "# Create the plot\n",
    "plt.figure(figsize=(10, 6))\n",
    "\n",
    "# Plot histograms\n",
    "sns.histplot(code_questions_similarity[\"similarity\"], bins=code_bins, kde=True, stat=\"density\", color=\"blue\", alpha=0.5, label=\"Code Questions Similarity\")\n",
    "sns.histplot(code_questions_transformed_similarity[\"similarity\"], bins=code_bins, kde=True, stat=\"density\", color=\"purple\", alpha=0.5, label=\"Transformed Code Questions Similarity\")\n",
    "sns.histplot(code_questions_heuristics[\"heuristic_score\"], bins=code_bins, kde=True, stat=\"density\", color=\"deepskyblue\", alpha=0.5, label=\"Heuristic Score Code Questions \")\n",
    "\n",
    "# Labels and title\n",
    "plt.xlabel(\"Score\", fontsize=12)\n",
    "plt.ylabel(\"Density\", fontsize=12)\n",
    "plt.title(\"Histogram of Code Questions Similarity & Heuristic Scores\", fontsize=14)\n",
    "plt.legend()\n",
    "# Set x-axis scale\n",
    "plt.xlim(min_value, max_value)\n",
    "\n",
    "# Show the plot\n",
    "plt.show()"
   ]
  },
  {
   "cell_type": "markdown",
   "metadata": {
    "application/vnd.databricks.v1+cell": {
     "cellMetadata": {
      "byteLimit": 2048000,
      "rowLimit": 10000
     },
     "inputWidgets": {},
     "nuid": "978b2a11-65a2-4f36-9fa3-af939cec14b4",
     "showTitle": false,
     "tableResultSettingsMap": {},
     "title": ""
    }
   },
   "source": [
    "# Open data similarities & heuristic histograms"
   ]
  },
  {
   "cell_type": "code",
   "execution_count": 0,
   "metadata": {
    "application/vnd.databricks.v1+cell": {
     "cellMetadata": {
      "byteLimit": 2048000,
      "rowLimit": 10000
     },
     "inputWidgets": {},
     "nuid": "e16f3e1e-0d0d-42ab-a06c-0377f7a41dd0",
     "showTitle": false,
     "tableResultSettingsMap": {},
     "title": ""
    }
   },
   "outputs": [],
   "source": [
    "# plotting open data histogram\n",
    "\n",
    "# Define bins\n",
    "open_bins = np.histogram_bin_edges(all_open_data, bins=20)  # Use the same bins for all\n",
    "\n",
    "# Create the plot\n",
    "plt.figure(figsize=(10, 6))\n",
    "\n",
    "# Plot histograms\n",
    "sns.histplot(open_questions_similarity[\"similarity\"], bins=open_bins, kde=True, stat=\"density\", color=\"blue\", alpha=0.5, label=\"Open Questions Similarity\")\n",
    "sns.histplot(open_questions_transformed_similarity[\"similarity\"], bins=open_bins, kde=True, stat=\"density\", color=\"purple\", alpha=0.5, label=\"Transformed Open Questions Similarity\")\n",
    "sns.histplot(open_questions_heuristics[\"heuristic_score\"], bins=open_bins, kde=True, stat=\"density\", color=\"deepskyblue\", alpha=0.5, label=\"Heuristic Score Open Questions\")\n",
    "\n",
    "# Labels and title\n",
    "plt.xlabel(\"Score\", fontsize=12)\n",
    "plt.ylabel(\"Density\", fontsize=12)\n",
    "plt.title(\"Histogram of Open Questions Similarity & Heuristic Scores\", fontsize=14)\n",
    "plt.legend()\n",
    "\n",
    "# Set x-axis scale\n",
    "plt.xlim(min_value, max_value)\n",
    "\n",
    "# Show the plot\n",
    "plt.show()\n"
   ]
  },
  {
   "cell_type": "code",
   "execution_count": 0,
   "metadata": {
    "application/vnd.databricks.v1+cell": {
     "cellMetadata": {
      "byteLimit": 2048000,
      "rowLimit": 10000
     },
     "inputWidgets": {},
     "nuid": "e51e2f5c-e9bd-4b17-be85-4392352b01de",
     "showTitle": false,
     "tableResultSettingsMap": {},
     "title": ""
    }
   },
   "outputs": [],
   "source": [
    "import pandas as pd\n",
    "import os\n",
    "from consts import DATA_PATH\n",
    "\n",
    "# Load datasets\n",
    "code_questions = pd.read_csv(os.path.join(DATA_PATH, \"top_code_questions.csv\")).drop_duplicates()\n",
    "open_questions = pd.read_csv(os.path.join(DATA_PATH, \"top_open_questions.csv\")).drop_duplicates()\n",
    "\n",
    "code_questions.display()"
   ]
  }
 ],
 "metadata": {
  "application/vnd.databricks.v1+notebook": {
   "computePreferences": null,
   "dashboards": [],
   "environmentMetadata": {
    "base_environment": "",
    "environment_version": "1"
   },
   "language": "python",
   "notebookMetadata": {
    "pythonIndentUnit": 4
   },
   "notebookName": "visualize_similarities&heuristics",
   "widgets": {}
  },
  "language_info": {
   "name": "python"
  }
 },
 "nbformat": 4,
 "nbformat_minor": 0
}
