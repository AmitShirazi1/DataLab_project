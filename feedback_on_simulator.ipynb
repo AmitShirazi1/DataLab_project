{
 "cells": [
  {
   "cell_type": "code",
   "execution_count": 0,
   "metadata": {
    "application/vnd.databricks.v1+cell": {
     "cellMetadata": {
      "byteLimit": 2048000,
      "rowLimit": 10000
     },
     "inputWidgets": {},
     "nuid": "dca4269e-9101-4427-a0dd-583d5b9aab0c",
     "showTitle": false,
     "tableResultSettingsMap": {},
     "title": ""
    }
   },
   "outputs": [],
   "source": [
    "DATA_PATH = '/Workspace/Users/amit.shirazi@campus.technion.ac.il/project/data/questions_and_answers/'\n"
   ]
  },
  {
   "cell_type": "code",
   "execution_count": 0,
   "metadata": {
    "application/vnd.databricks.v1+cell": {
     "cellMetadata": {
      "byteLimit": 2048000,
      "rowLimit": 10000
     },
     "inputWidgets": {},
     "nuid": "abff552d-429c-4aca-bf30-51575498034c",
     "showTitle": false,
     "tableResultSettingsMap": {},
     "title": ""
    }
   },
   "outputs": [],
   "source": [
    "import json\n",
    "import os\n",
    "\n",
    "def get_input(prompt, options=None):\n",
    "    \"\"\"Helper function to get user input with validation.\"\"\"\n",
    "    while True:\n",
    "        user_input = input(prompt)\n",
    "        if options:\n",
    "            if user_input in options:\n",
    "                return user_input\n",
    "            else:\n",
    "                print(f\"Invalid option. Please choose from {options}.\")\n",
    "        else:\n",
    "            return user_input\n",
    "\n",
    "def main():\n",
    "    # Create a dictionary to store feedback responses\n",
    "    feedback = {}\n",
    "\n",
    "    print(\"Welcome to the Interview Simulator Feedback Form!\")\n",
    "    \n",
    "    # 1. General Information\n",
    "    feedback[\"job_title\"] = input(\"1. Job Title/Position Applied For: \")\n",
    "    feedback[\"source\"] = get_input(\"2. How did you find out about the simulator? (LinkedIn, Referral, Advertisement, Other): \", \n",
    "                                   [\"LinkedIn\", \"Referral\", \"Advertisement\", \"Other\"])\n",
    "\n",
    "    # 2. Simulator Experience\n",
    "    feedback[\"relevance\"] = get_input(\"3. On a scale of 1-5, how relevant were the questions to the job posting? (1-5): \", \n",
    "                                      [\"1\", \"2\", \"3\", \"4\", \"5\"])\n",
    "    feedback[\"satisfaction\"] = get_input(\"4. How satisfied were you with the overall experience of the interview simulation? (1-5): \", \n",
    "                                         [\"1\", \"2\", \"3\", \"4\", \"5\"])\n",
    "    feedback[\"alignment\"] = get_input(\"5. How well did the AI-based simulator align with the real-world interview process? (Not aligned, Somewhat aligned, Well aligned, Perfectly aligned): \", \n",
    "                                      [\"Not aligned\", \"Somewhat aligned\", \"Well aligned\", \"Perfectly aligned\"])\n",
    "    feedback[\"soft_skills\"] = get_input(\"6. Did the simulator include questions that helped you assess your soft skills effectively? (Yes, No, Not sure): \", \n",
    "                                        [\"Yes\", \"No\", \"Not sure\"])\n",
    "    feedback[\"technical_relevance\"] = get_input(\"7. Were the technical (coding) questions relevant to the job role? (Yes, No, Not applicable): \", \n",
    "                                                [\"Yes\", \"No\", \"Not applicable\"])\n",
    "\n",
    "    # 3. OCEAN Test and Results\n",
    "    feedback[\"oceans_helpful\"] = get_input(\"8. How helpful did you find the OCEAN test for understanding your personality traits? (1-5): \", \n",
    "                                           [\"1\", \"2\", \"3\", \"4\", \"5\"])\n",
    "    feedback[\"personality_insights\"] = get_input(\"9. Did the personality test results give you valuable insights into your strengths? (Yes, No, Somewhat): \", \n",
    "                                                 [\"Yes\", \"No\", \"Somewhat\"])\n",
    "    feedback[\"recommend_ocean\"] = get_input(\"10. Would you recommend the personality test to others preparing for interviews? (Yes, No): \", \n",
    "                                            [\"Yes\", \"No\"])\n",
    "\n",
    "    # 4. Simulator Features\n",
    "    feedback[\"most_helpful_features\"] = get_input(\"11. Which part of the simulator did you find most helpful? (Soft skills, Technical, OCEAN, Feedback): \", \n",
    "                                                  [\"Soft skills\", \"Technical\", \"OCEAN\", \"Feedback\"])\n",
    "    feedback[\"additional_features\"] = input(\"12. What additional features would you like to see added to the simulator? \")\n",
    "\n",
    "    # 5. Performance and Usability\n",
    "    feedback[\"usability\"] = get_input(\"13. How easy was it to navigate and use the simulator? (1-5): \", \n",
    "                                      [\"1\", \"2\", \"3\", \"4\", \"5\"])\n",
    "    feedback[\"ai_accuracy\"] = get_input(\"14. Did the AI accurately generate appropriate questions for the job posting? (Yes, No, Somewhat): \", \n",
    "                                        [\"Yes\", \"No\", \"Somewhat\"])\n",
    "    feedback[\"instructions_clarity\"] = get_input(\"15. Were the instructions clear for using the simulator? (Yes, No, Somewhat): \", \n",
    "                                                 [\"Yes\", \"No\", \"Somewhat\"])\n",
    "\n",
    "    # 6. Final Thoughts\n",
    "    feedback[\"use_again\"] = get_input(\"16. Would you use this simulator again for future job interviews? (Yes, No, Maybe): \", \n",
    "                                      [\"Yes\", \"No\", \"Maybe\"])\n",
    "    feedback[\"additional_comments\"] = input(\"17. Do you have any additional comments or suggestions for improving the interview simulator? \")\n",
    "\n",
    "    # Save responses to a JSON file\n",
    "    feedback_file = os.path.join(DATA_PATH, \"feedback_results.json\")\n",
    "\n",
    "    os.makedirs(DATA_PATH, exist_ok=True)\n",
    "    with open(feedback_file, \"w\") as f:\n",
    "        json.dump(feedback, f, indent=4)\n",
    "\n",
    "    print(\"\\nThank you for your feedback! Your input will help us improve the simulator.\")\n",
    "\n",
    "if __name__ == \"__main__\":\n",
    "    main()\n"
   ]
  },
  {
   "cell_type": "markdown",
   "metadata": {
    "application/vnd.databricks.v1+cell": {
     "cellMetadata": {},
     "inputWidgets": {},
     "nuid": "4bb98865-f669-44cc-b337-06908a414849",
     "showTitle": false,
     "tableResultSettingsMap": {},
     "title": ""
    }
   },
   "source": [
    "---"
   ]
  },
  {
   "cell_type": "code",
   "execution_count": 0,
   "metadata": {
    "application/vnd.databricks.v1+cell": {
     "cellMetadata": {},
     "inputWidgets": {},
     "nuid": "1765fa53-1210-43a3-ac12-d3dca2c87489",
     "showTitle": true,
     "tableResultSettingsMap": {},
     "title": "streamlit"
    }
   },
   "outputs": [],
   "source": [
    "import json\n",
    "import os\n",
    "\n",
    "def get_input(prompt, options=None):\n",
    "    \"\"\"Helper function to get user input with validation.\"\"\"\n",
    "    while True:\n",
    "        user_input = input(prompt)\n",
    "        if options:\n",
    "            if user_input in options:\n",
    "                return user_input\n",
    "            else:\n",
    "                print(f\"Invalid option. Please choose from {options}.\")\n",
    "        else:\n",
    "            return user_input\n",
    "\n",
    "def main():\n",
    "    # Create a dictionary to store feedback responses\n",
    "    feedback = {}\n",
    "\n",
    "    print(\"Welcome to the AI-based Interview Simulator Feedback Form!\")\n",
    "    \n",
    "    # 1. General Information\n",
    "    feedback[\"job_title\"] = input(\"1. Job Title/Position Applied For: \")\n",
    "    feedback[\"source\"] = get_input(\"2. How did you find out about the simulator? (LinkedIn, Referral, Advertisement, Other): \", \n",
    "                                   [\"LinkedIn\", \"Referral\", \"Advertisement\", \"Other\"])\n",
    "\n",
    "    # 2. Simulator Experience\n",
    "    feedback[\"relevance\"] = get_input(\"3. On a scale of 1-5, how relevant were the questions to the job posting? (1-5): \", \n",
    "                                      [\"1\", \"2\", \"3\", \"4\", \"5\"])\n",
    "    feedback[\"satisfaction\"] = get_input(\"4. How satisfied were you with the overall experience of the interview simulation? (1-5): \", \n",
    "                                         [\"1\", \"2\", \"3\", \"4\", \"5\"])\n",
    "    feedback[\"alignment\"] = get_input(\"5. How well did the AI-based simulator align with the real-world interview process? (Not aligned, Somewhat aligned, Well aligned, Perfectly aligned): \", \n",
    "                                      [\"Not aligned\", \"Somewhat aligned\", \"Well aligned\", \"Perfectly aligned\"])\n",
    "    feedback[\"soft_skills\"] = get_input(\"6. Did the simulator include questions that helped you assess your soft skills effectively? (Yes, No, Not sure): \", \n",
    "                                        [\"Yes\", \"No\", \"Not sure\"])\n",
    "    feedback[\"technical_relevance\"] = get_input(\"7. Were the technical (coding) questions relevant to the job role? (Yes, No, Not applicable): \", \n",
    "                                                [\"Yes\", \"No\", \"Not applicable\"])\n",
    "\n",
    "    # 3. OCEAN Test and Results\n",
    "    feedback[\"oceans_helpful\"] = get_input(\"8. How helpful did you find the OCEAN test for understanding your personality traits? (1-5): \", \n",
    "                                           [\"1\", \"2\", \"3\", \"4\", \"5\"])\n",
    "    feedback[\"personality_insights\"] = get_input(\"9. Did the personality test results give you valuable insights into your strengths? (Yes, No, Somewhat): \", \n",
    "                                                 [\"Yes\", \"No\", \"Somewhat\"])\n",
    "    feedback[\"recommend_ocean\"] = get_input(\"10. Would you recommend the personality test to others preparing for interviews? (Yes, No): \", \n",
    "                                            [\"Yes\", \"No\"])\n",
    "\n",
    "    # 4. Simulator Features\n",
    "    feedback[\"most_helpful_features\"] = get_input(\"11. Which part of the simulator did you find most helpful? (Soft skills, Technical, OCEAN, Feedback): \", \n",
    "                                                  [\"Soft skills\", \"Technical\", \"OCEAN\", \"Feedback\"])\n",
    "    feedback[\"additional_features\"] = input(\"12. What additional features would you like to see added to the simulator? \")\n",
    "\n",
    "    # 5. Performance and Usability\n",
    "    feedback[\"usability\"] = get_input(\"13. How easy was it to navigate and use the simulator? (1-5): \", \n",
    "                                      [\"1\", \"2\", \"3\", \"4\", \"5\"])\n",
    "    feedback[\"ai_accuracy\"] = get_input(\"14. Did the AI accurately generate appropriate questions for the job posting? (Yes, No, Somewhat): \", \n",
    "                                        [\"Yes\", \"No\", \"Somewhat\"])\n",
    "    feedback[\"instructions_clarity\"] = get_input(\"15. Were the instructions clear for using the simulator? (Yes, No, Somewhat): \", \n",
    "                                                 [\"Yes\", \"No\", \"Somewhat\"])\n",
    "\n",
    "    # 6. Final Thoughts\n",
    "    feedback[\"use_again\"] = get_input(\"16. Would you use this simulator again for future job interviews? (Yes, No, Maybe): \", \n",
    "                                      [\"Yes\", \"No\", \"Maybe\"])\n",
    "    feedback[\"additional_comments\"] = input(\"17. Do you have any additional comments or suggestions for improving the interview simulator? \")\n",
    "\n",
    "    # Save responses to a JSON file\n",
    "    feedback_file = os.path.join(DATA_PATH, \"feedback_results.json\")\n",
    "\n",
    "    os.makedirs(DATA_PATH, exist_ok=True)\n",
    "    with open(feedback_file, \"w\") as f:\n",
    "        json.dump(feedback, f, indent=4)\n",
    "\n",
    "    print(\"\\nThank you for your feedback! Your input will help us improve the simulator.\")\n",
    "\n",
    "if __name__ == \"__main__\":\n",
    "    main()\n"
   ]
  }
 ],
 "metadata": {
  "application/vnd.databricks.v1+notebook": {
   "computePreferences": null,
   "dashboards": [],
   "environmentMetadata": {
    "base_environment": "",
    "client": "1"
   },
   "language": "python",
   "notebookMetadata": {
    "pythonIndentUnit": 4
   },
   "notebookName": "feedback_on_simulator",
   "widgets": {}
  },
  "language_info": {
   "name": "python"
  }
 },
 "nbformat": 4,
 "nbformat_minor": 0
}
